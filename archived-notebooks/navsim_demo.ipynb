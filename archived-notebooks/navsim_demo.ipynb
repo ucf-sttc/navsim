{
 "cells": [
  {
   "cell_type": "markdown",
   "metadata": {
    "ExecuteTime": {
     "end_time": "2020-10-19T22:02:54.941365Z",
     "start_time": "2020-10-19T22:02:54.891388Z"
    }
   },
   "source": [
    "# NavSim Car Demo"
   ]
  },
  {
   "cell_type": "markdown",
   "metadata": {},
   "source": [
    "This notebook tests the airsim car simulations and trains for 2 episodes, 100 timesteps each episode."
   ]
  },
  {
   "cell_type": "code",
   "execution_count": 9,
   "metadata": {
    "ExecuteTime": {
     "end_time": "2021-01-07T04:38:04.362994Z",
     "start_time": "2021-01-07T04:38:04.359537Z"
    }
   },
   "outputs": [],
   "source": [
    "import ezai_util\n",
    "import navsim\n",
    "from ezai_util import DictObj"
   ]
  },
  {
   "cell_type": "markdown",
   "metadata": {},
   "source": [
    "Set the configuration either from the cell below or from the config file.\n",
    "\n",
    "Set the observation mode to 0,1,2 "
   ]
  },
  {
   "cell_type": "code",
   "execution_count": 10,
   "metadata": {
    "ExecuteTime": {
     "end_time": "2021-01-07T04:38:06.461832Z",
     "start_time": "2021-01-07T04:38:06.453989Z"
    }
   },
   "outputs": [],
   "source": [
    "conf = DictObj({\n",
    "  \"env_conf\": {\n",
    "    #\"filename\": \"/home/afandang/unity-envs/Berlin_ML/Berlin_ML\",\n",
    "    \"filename\": \"/home/afandang/unity-envs/2021-01-04/Berlin_Walk_v2\", \n",
    "    #\"filename\": \"/home/afandang/projects/AI_COOP_Executables/LinuxBuilds/Build2.2.0/Berlin_Walk_V2\",\n",
    "    \"log_folder\": \"unity.log\",\n",
    "    \"seed\": 123,\n",
    "    \"timeout\": 600,\n",
    "    \"worker_id\": 0,\n",
    "    \"base_port\": 5005,\n",
    "    \"observation_mode\": 0,   # vector: 0, visual: 1, vector and visual: 2\n",
    "    \"segmentation_mode\": 1,   # Object Seg: 0, Tag Seg:1, Layer Seg: 2\n",
    "    \"max_steps\": 1000,         # episode_length\n",
    "    \"task\": 0,                # selectedTaskIndex: PointNav: 0, ObjNav: 1\n",
    "    \"goal\": 0,                # vehicles\n",
    "    \"reward_for_goal\": 50,\n",
    "    \"reward_for_ep\": 0.005,\n",
    "    \"reward_for_other\": -0.1,\n",
    "    \"reward_for_falling_off_map\": -50,\n",
    "    \"reward_for_step\": -0.0001,\n",
    "    \"agent_car_physics\":0\n",
    "  },\n",
    "  \"run_conf\": {\n",
    "    \"env_name\": \"navsim\",\n",
    "    \"episode_max_steps\": 1000,\n",
    "    \"num_episodes\": 10000,\n",
    "    \"memory_capacity\": 10000,\n",
    "    \"seed\": 123,\n",
    "    \"discount\": 0.99,\n",
    "    \"tau\": 5e-3,\n",
    "    \"expl_noise\": 0.1,\n",
    "    \"batch_size\": 256,\n",
    "    \"batches_before_train\": 2,\n",
    "    \"checkpoint_interval\": 1\n",
    "  }\n",
    "})"
   ]
  },
  {
   "cell_type": "code",
   "execution_count": 11,
   "metadata": {
    "ExecuteTime": {
     "end_time": "2021-01-07T04:38:07.481099Z",
     "start_time": "2021-01-07T04:38:07.477944Z"
    }
   },
   "outputs": [],
   "source": [
    "#conf = DictObj().load_from_json_file(\"navsim_conf.json\")"
   ]
  },
  {
   "cell_type": "code",
   "execution_count": 12,
   "metadata": {
    "ExecuteTime": {
     "end_time": "2021-01-07T04:38:49.505343Z",
     "start_time": "2021-01-07T04:38:49.501799Z"
    }
   },
   "outputs": [],
   "source": [
    "# you can also change the observation mod or any other variable after reading the file\n",
    "conf.env_conf[\"observation_mode\"]=0"
   ]
  },
  {
   "cell_type": "code",
   "execution_count": 13,
   "metadata": {
    "ExecuteTime": {
     "end_time": "2021-01-07T04:38:51.866703Z",
     "start_time": "2021-01-07T04:38:51.861888Z"
    }
   },
   "outputs": [
    {
     "name": "stdout",
     "output_type": "stream",
     "text": [
      "{\n",
      "    \"env_conf\": {\n",
      "        \"filename\": \"/home/afandang/unity-envs/2021-01-04/Berlin_Walk_v2\",\n",
      "        \"log_folder\": \"unity.log\",\n",
      "        \"seed\": 123,\n",
      "        \"timeout\": 600,\n",
      "        \"worker_id\": 0,\n",
      "        \"base_port\": 5005,\n",
      "        \"observation_mode\": 0,\n",
      "        \"segmentation_mode\": 1,\n",
      "        \"max_steps\": 1000,\n",
      "        \"task\": 0,\n",
      "        \"goal\": 0,\n",
      "        \"reward_for_goal\": 50,\n",
      "        \"reward_for_ep\": 0.005,\n",
      "        \"reward_for_other\": -0.1,\n",
      "        \"reward_for_falling_off_map\": -50,\n",
      "        \"reward_for_step\": -0.0001,\n",
      "        \"agent_car_physics\": 0\n",
      "    },\n",
      "    \"run_conf\": {\n",
      "        \"env_name\": \"navsim\",\n",
      "        \"episode_max_steps\": 1000,\n",
      "        \"num_episodes\": 10000,\n",
      "        \"memory_capacity\": 10000,\n",
      "        \"seed\": 123,\n",
      "        \"discount\": 0.99,\n",
      "        \"tau\": 0.005,\n",
      "        \"expl_noise\": 0.1,\n",
      "        \"batch_size\": 256,\n",
      "        \"batches_before_train\": 2,\n",
      "        \"checkpoint_interval\": 1\n",
      "    }\n",
      "}\n"
     ]
    }
   ],
   "source": [
    "print(conf)"
   ]
  },
  {
   "cell_type": "code",
   "execution_count": 17,
   "metadata": {
    "ExecuteTime": {
     "end_time": "2021-01-07T04:44:07.639088Z",
     "start_time": "2021-01-07T04:43:53.056778Z"
    }
   },
   "outputs": [
    {
     "name": "stderr",
     "output_type": "stream",
     "text": [
      "INFO:mlagents_envs.environment:environment.py:108:Connected to Unity environment with package version 1.1.0-preview and communication version 1.0.0\n",
      "INFO:mlagents_envs.environment:environment.py:265:Connected new brain:\n",
      "VectorNavigator?team=0\n",
      "INFO:mlagents_envs.environment:environment.py:417:Environment shut down with return code 0.\n"
     ]
    },
    {
     "name": "stdout",
     "output_type": "stream",
     "text": [
      "Traceback (most recent call last):\n",
      "  File \"/mnt/data/afandang/projects/ai_coop_py/navsim/trainer.py\", line 74, in __init__\n",
      "    try:\n",
      "  File \"/mnt/data/afandang/projects/ai_coop_py/navsim/trainer.py\", line 153, in env_open\n",
      "    self.env = NavSimEnv(self.env_conf)\n",
      "NameError: name 'sizeof_fmt' is not defined\n",
      "\n"
     ]
    }
   ],
   "source": [
    "trainer = navsim.Trainer(run_id='navsim_demo',run_resume=False,conf=conf)"
   ]
  },
  {
   "cell_type": "code",
   "execution_count": null,
   "metadata": {
    "ExecuteTime": {
     "end_time": "2021-01-07T04:26:41.284696Z",
     "start_time": "2021-01-07T04:26:41.280662Z"
    }
   },
   "outputs": [],
   "source": [
    "#trainer.agent.save_to_onnx()"
   ]
  },
  {
   "cell_type": "code",
   "execution_count": null,
   "metadata": {
    "ExecuteTime": {
     "end_time": "2021-01-07T04:26:41.331109Z",
     "start_time": "2021-01-07T04:26:41.302362Z"
    }
   },
   "outputs": [],
   "source": [
    "# adding the install here until we add to ezai env\n",
    "#!conda -y -S install netron\n",
    "#import netron"
   ]
  },
  {
   "cell_type": "code",
   "execution_count": null,
   "metadata": {
    "ExecuteTime": {
     "end_time": "2021-01-07T04:26:41.352622Z",
     "start_time": "2021-01-07T04:26:41.350817Z"
    }
   },
   "outputs": [],
   "source": [
    "\n",
    "# only if you wish to view the graph\n",
    "#netron.start('actor.onnx')"
   ]
  },
  {
   "cell_type": "code",
   "execution_count": null,
   "metadata": {
    "ExecuteTime": {
     "end_time": "2021-01-07T04:26:41.377926Z",
     "start_time": "2021-01-07T04:26:41.375810Z"
    }
   },
   "outputs": [],
   "source": [
    "#netron.start('critic.onnx')"
   ]
  },
  {
   "cell_type": "code",
   "execution_count": null,
   "metadata": {
    "ExecuteTime": {
     "end_time": "2021-01-06T22:07:22.063128Z",
     "start_time": "2021-01-06T22:07:01.100561Z"
    }
   },
   "outputs": [],
   "source": [
    "trainer.train()"
   ]
  },
  {
   "cell_type": "code",
   "execution_count": null,
   "metadata": {
    "ExecuteTime": {
     "end_time": "2020-11-13T20:04:31.301277Z",
     "start_time": "2020-11-13T20:04:30.250Z"
    }
   },
   "outputs": [],
   "source": [
    "#trainer.agent.save_actor('model.onnx')"
   ]
  },
  {
   "cell_type": "code",
   "execution_count": null,
   "metadata": {
    "ExecuteTime": {
     "end_time": "2021-01-07T04:26:18.831511Z",
     "start_time": "2021-01-07T04:26:13.780524Z"
    }
   },
   "outputs": [],
   "source": [
    "trainer.env_close()\n",
    "trainer.files_close()"
   ]
  },
  {
   "cell_type": "code",
   "execution_count": null,
   "metadata": {},
   "outputs": [],
   "source": []
  }
 ],
 "metadata": {
  "kernelspec": {
   "display_name": "Python 3",
   "language": "python",
   "name": "python3"
  },
  "language_info": {
   "codemirror_mode": {
    "name": "ipython",
    "version": 3
   },
   "file_extension": ".py",
   "mimetype": "text/x-python",
   "name": "python",
   "nbconvert_exporter": "python",
   "pygments_lexer": "ipython3",
   "version": "3.7.8"
  },
  "toc": {
   "base_numbering": 1,
   "nav_menu": {},
   "number_sections": true,
   "sideBar": true,
   "skip_h1_title": false,
   "title_cell": "Table of Contents",
   "title_sidebar": "Contents",
   "toc_cell": false,
   "toc_position": {},
   "toc_section_display": true,
   "toc_window_display": false
  },
  "varInspector": {
   "cols": {
    "lenName": 16,
    "lenType": 16,
    "lenVar": 40
   },
   "kernels_config": {
    "python": {
     "delete_cmd_postfix": "",
     "delete_cmd_prefix": "del ",
     "library": "var_list.py",
     "varRefreshCmd": "print(var_dic_list())"
    },
    "r": {
     "delete_cmd_postfix": ") ",
     "delete_cmd_prefix": "rm(",
     "library": "var_list.r",
     "varRefreshCmd": "cat(var_dic_list()) "
    }
   },
   "types_to_exclude": [
    "module",
    "function",
    "builtin_function_or_method",
    "instance",
    "_Feature"
   ],
   "window_display": false
  }
 },
 "nbformat": 4,
 "nbformat_minor": 4
}