{
 "cells": [
  {
   "cell_type": "markdown",
   "metadata": {
    "ExecuteTime": {
     "end_time": "2020-10-19T22:02:54.941365Z",
     "start_time": "2020-10-19T22:02:54.891388Z"
    }
   },
   "source": [
    "# NavSim Car Demo"
   ]
  },
  {
   "cell_type": "markdown",
   "metadata": {},
   "source": [
    "This notebook tests the airsim car simulations and trains for 2 episodes, 100 timesteps each episode."
   ]
  },
  {
   "cell_type": "code",
   "execution_count": 1,
   "metadata": {
    "ExecuteTime": {
     "end_time": "2020-12-10T16:38:12.027929Z",
     "start_time": "2020-12-10T16:38:11.452674Z"
    }
   },
   "outputs": [],
   "source": [
    "import ezai_util\n",
    "import navsim\n",
    "from ezai_util import DictObj"
   ]
  },
  {
   "cell_type": "markdown",
   "metadata": {},
   "source": [
    "Set the configuration either from the cell below or from the config file.\n",
    "\n",
    "Set the observation mode to 0,1,2 "
   ]
  },
  {
   "cell_type": "code",
   "execution_count": 8,
   "metadata": {
    "ExecuteTime": {
     "end_time": "2020-12-10T21:27:14.177949Z",
     "start_time": "2020-12-10T21:27:14.172123Z"
    }
   },
   "outputs": [],
   "source": [
    "conf = DictObj({\n",
    "  \"env_conf\": {\n",
    "    #\"filename\": \"/home/afandang/unity-envs/Berlin_ML/Berlin_ML\",\n",
    "    \"filename\": \"/home/afandang/unity-envs/Berlin_Walk_v2/Berlin_Walk_v2\",\n",
    "    \"log_folder\": \"unity.log\",\n",
    "    \"seed\": 123,\n",
    "    \"timeout\": 600,\n",
    "    \"worker_id\": 0,\n",
    "    \"base_port\": 5005,\n",
    "    \"observation_mode\": 0,\n",
    "    \"max_steps\": 100,\n",
    "    \"reward_for_goal\": 50,\n",
    "    \"reward_for_ep\": 0.005,\n",
    "    \"reward_for_other\": -0.1,\n",
    "    \"reward_for_falling_off_map\": -50,\n",
    "    \"reward_for_step\": -0.0001,\n",
    "    \"segmentation_mode\": 1\n",
    "  },\n",
    "  \"run_conf\": {\n",
    "    \"env_name\": \"navsim\",\n",
    "    \"episode_max_steps\": 100,\n",
    "    \"num_episodes\": 2,\n",
    "    \"memory_capacity\": 10000,\n",
    "    \"seed\": 123,\n",
    "    \"discount\": 0.99,\n",
    "    \"tau\": 5e-3,\n",
    "    \"expl_noise\": 0.1,\n",
    "    \"batch_size\": 256,\n",
    "    \"batches_before_train\": 2,\n",
    "    \"checkpoint_interval\": 1\n",
    "  }\n",
    "})"
   ]
  },
  {
   "cell_type": "code",
   "execution_count": 9,
   "metadata": {
    "ExecuteTime": {
     "end_time": "2020-12-10T21:27:19.838298Z",
     "start_time": "2020-12-10T21:27:19.832574Z"
    }
   },
   "outputs": [
    {
     "name": "stderr",
     "output_type": "stream",
     "text": [
      "INFO:ezai:dict.py:54:Making empty DictObj because parameters passed is not a dict\n"
     ]
    }
   ],
   "source": [
    "conf = DictObj().load_from_json_file(\"navsim_conf.json\")"
   ]
  },
  {
   "cell_type": "code",
   "execution_count": 10,
   "metadata": {
    "ExecuteTime": {
     "end_time": "2020-12-10T21:27:21.402988Z",
     "start_time": "2020-12-10T21:27:21.398958Z"
    }
   },
   "outputs": [],
   "source": [
    "# you can also change the observation mod or any other variable after reading the file\n",
    "conf.env_conf[\"observation_mode\"]=2"
   ]
  },
  {
   "cell_type": "code",
   "execution_count": 11,
   "metadata": {
    "ExecuteTime": {
     "end_time": "2020-12-10T21:27:22.612454Z",
     "start_time": "2020-12-10T21:27:22.607288Z"
    }
   },
   "outputs": [
    {
     "name": "stdout",
     "output_type": "stream",
     "text": [
      "{\n",
      "    \"env_conf\": {\n",
      "        \"filename\": \"/home/afandang/unity-envs/Berlin_ML/Berlin_ML\",\n",
      "        \"log_folder\": \"unity.log\",\n",
      "        \"seed\": 123,\n",
      "        \"timeout\": 600,\n",
      "        \"worker_id\": 0,\n",
      "        \"base_port\": 5005,\n",
      "        \"observation_mode\": 2,\n",
      "        \"max_steps\": 100,\n",
      "        \"reward_for_goal\": 50,\n",
      "        \"reward_for_ep\": 0.005,\n",
      "        \"reward_for_other\": -0.1,\n",
      "        \"reward_for_falling_off_map\": -50,\n",
      "        \"reward_for_step\": -0.0001,\n",
      "        \"segmentation_mode\": 1\n",
      "    },\n",
      "    \"run_conf\": {\n",
      "        \"env_name\": \"navsim\",\n",
      "        \"episode_max_steps\": 100,\n",
      "        \"num_episodes\": 2,\n",
      "        \"memory_capacity\": 10000,\n",
      "        \"seed\": 123,\n",
      "        \"discount\": 0.99,\n",
      "        \"tau\": 0.005,\n",
      "        \"expl_noise\": 0.1,\n",
      "        \"batch_size\": 256,\n",
      "        \"batches_before_train\": 2,\n",
      "        \"checkpoint_interval\": 1\n",
      "    }\n",
      "}\n"
     ]
    }
   ],
   "source": [
    "print(conf)"
   ]
  },
  {
   "cell_type": "code",
   "execution_count": 12,
   "metadata": {
    "ExecuteTime": {
     "end_time": "2020-12-10T21:28:11.418057Z",
     "start_time": "2020-12-10T21:27:40.399419Z"
    }
   },
   "outputs": [
    {
     "name": "stderr",
     "output_type": "stream",
     "text": [
      "INFO:mlagents_envs.environment:environment.py:108:Connected to Unity environment with package version 1.1.0-preview and communication version 1.0.0\n",
      "INFO:mlagents_envs.environment:environment.py:265:Connected new brain:\n",
      "VectorVisualNavigator?team=0\n"
     ]
    },
    {
     "name": "stdout",
     "output_type": "stream",
     "text": [
      "Unity env creation resource usage: \n",
      "time:0.07113165400000021,peak_memory:1111972,current_memory:945187\n",
      "\n",
      "Env Info\n",
      "-----------\n",
      "Action Space: Box(-1.0, 1.0, (2,), float32)\n",
      "Action sample: [ 0.39293838 -0.42772132]\n",
      "Action Space Shape: (2,)\n",
      "Action Space Low: [-1. -1.]\n",
      "Action Space High: [1. 1.]\n",
      "Observation Mode: 2\n",
      "Gym Observation Space: Tuple(Box(0.0, 1.0, (84, 84, 3), float32), Box(0.0, 1.0, (84, 84, 1), float32), Box(0.0, 1.0, (84, 84, 3), float32), Box(-inf, inf, (10,), float32))\n",
      "Gym Observation Space Shape: None\n",
      "Self Observation Space: Tuple(Box(0.0, 1.0, (84, 84, 3), float32), Box(0.0, 1.0, (84, 84, 1), float32), Box(0.0, 1.0, (84, 84, 3), float32), Box(-inf, inf, (10,), float32))\n",
      "Self Observation Space Shape: None\n",
      "Self Observation Space Shapes: [(84, 84, 3), (84, 84, 1), (84, 84, 3), (10,)]\n",
      "Reward Range: (-inf, inf)\n",
      "Metadata: {'render.modes': ['rgb_array']}\n"
     ]
    }
   ],
   "source": [
    "trainer = navsim.Trainer(run_id='navsim_demo',run_resume=False,conf=conf)"
   ]
  },
  {
   "cell_type": "code",
   "execution_count": null,
   "metadata": {
    "ExecuteTime": {
     "end_time": "2020-12-10T16:35:50.890387Z",
     "start_time": "2020-12-10T16:35:50.452821Z"
    }
   },
   "outputs": [],
   "source": [
    "trainer.agent.save_to_onnx()"
   ]
  },
  {
   "cell_type": "code",
   "execution_count": null,
   "metadata": {},
   "outputs": [],
   "source": [
    "# adding the install here until we add to ezai env\n",
    "!conda -y -S install netron\n",
    "import netron"
   ]
  },
  {
   "cell_type": "code",
   "execution_count": null,
   "metadata": {
    "ExecuteTime": {
     "end_time": "2020-12-09T17:06:10.766149Z",
     "start_time": "2020-12-09T17:06:10.316918Z"
    }
   },
   "outputs": [],
   "source": [
    "\n",
    "# only if you wish to view the graph\n",
    "netron.start('actor.onnx')"
   ]
  },
  {
   "cell_type": "code",
   "execution_count": null,
   "metadata": {
    "ExecuteTime": {
     "end_time": "2020-12-09T17:06:32.692617Z",
     "start_time": "2020-12-09T17:06:32.189716Z"
    }
   },
   "outputs": [],
   "source": [
    "netron.start('critic.onnx')"
   ]
  },
  {
   "cell_type": "code",
   "execution_count": 13,
   "metadata": {
    "ExecuteTime": {
     "end_time": "2020-12-10T21:43:10.021988Z",
     "start_time": "2020-12-10T21:42:35.130125Z"
    }
   },
   "outputs": [
    {
     "name": "stderr",
     "output_type": "stream",
     "text": [
      "100%|██████████| 2/2 [00:34<00:00, 17.44s/it]\n"
     ]
    }
   ],
   "source": [
    "trainer.train()"
   ]
  },
  {
   "cell_type": "code",
   "execution_count": null,
   "metadata": {
    "ExecuteTime": {
     "end_time": "2020-11-13T20:04:31.301277Z",
     "start_time": "2020-11-13T20:04:30.250Z"
    }
   },
   "outputs": [],
   "source": [
    "trainer.agent.save_actor('model.onnx')"
   ]
  },
  {
   "cell_type": "code",
   "execution_count": 7,
   "metadata": {
    "ExecuteTime": {
     "end_time": "2020-12-10T16:38:53.308415Z",
     "start_time": "2020-12-10T16:38:48.636646Z"
    }
   },
   "outputs": [
    {
     "name": "stderr",
     "output_type": "stream",
     "text": [
      "INFO:mlagents_envs.environment:environment.py:417:Environment shut down with return code 0.\n"
     ]
    }
   ],
   "source": [
    "trainer.env_close()\n",
    "trainer.files_close()"
   ]
  },
  {
   "cell_type": "code",
   "execution_count": null,
   "metadata": {},
   "outputs": [],
   "source": []
  }
 ],
 "metadata": {
  "kernelspec": {
   "display_name": "Python 3",
   "language": "python",
   "name": "python3"
  },
  "language_info": {
   "codemirror_mode": {
    "name": "ipython",
    "version": 3
   },
   "file_extension": ".py",
   "mimetype": "text/x-python",
   "name": "python",
   "nbconvert_exporter": "python",
   "pygments_lexer": "ipython3",
   "version": "3.7.8"
  },
  "toc": {
   "base_numbering": 1,
   "nav_menu": {},
   "number_sections": true,
   "sideBar": true,
   "skip_h1_title": false,
   "title_cell": "Table of Contents",
   "title_sidebar": "Contents",
   "toc_cell": false,
   "toc_position": {},
   "toc_section_display": true,
   "toc_window_display": false
  },
  "varInspector": {
   "cols": {
    "lenName": 16,
    "lenType": 16,
    "lenVar": 40
   },
   "kernels_config": {
    "python": {
     "delete_cmd_postfix": "",
     "delete_cmd_prefix": "del ",
     "library": "var_list.py",
     "varRefreshCmd": "print(var_dic_list())"
    },
    "r": {
     "delete_cmd_postfix": ") ",
     "delete_cmd_prefix": "rm(",
     "library": "var_list.r",
     "varRefreshCmd": "cat(var_dic_list()) "
    }
   },
   "types_to_exclude": [
    "module",
    "function",
    "builtin_function_or_method",
    "instance",
    "_Feature"
   ],
   "window_display": false
  }
 },
 "nbformat": 4,
 "nbformat_minor": 4
}
