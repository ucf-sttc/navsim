{
 "cells": [
  {
   "cell_type": "markdown",
   "metadata": {},
   "source": [
    "# Memory Test"
   ]
  },
  {
   "cell_type": "markdown",
   "metadata": {},
   "source": [
    "This notebook tests the memory class with the airsim car environment and all 3 environments - vector, visual, vector-visual"
   ]
  },
  {
   "cell_type": "code",
   "execution_count": 1,
   "metadata": {
    "ExecuteTime": {
     "end_time": "2020-10-12T12:12:03.997631Z",
     "start_time": "2020-10-12T12:12:03.259628Z"
    }
   },
   "outputs": [
    {
     "name": "stdout",
     "output_type": "stream",
     "text": [
      "D:\\work\\projects\\ezai_util\n",
      "D:\\work\\projects\\ai_coop_py\n"
     ]
    }
   ],
   "source": [
    "import sys\n",
    "import os\n",
    "from pathlib import Path\n",
    "\n",
    "%reload_ext autoreload\n",
    "%autoreload 2\n",
    "\n",
    "base_path=Path(\"d:/\")\n",
    "base_path = base_path / \"work\" / \"projects\"\n",
    "for pkg in ['ezai_util','ai_coop_py']:\n",
    "    pkg_path = base_path / pkg\n",
    "    pkg_path = str(pkg_path.resolve())\n",
    "    print(pkg_path)\n",
    "    if not pkg_path in sys.path:\n",
    "        sys.path.append(pkg_path)\n",
    "import ezai_util\n",
    "import airsim"
   ]
  },
  {
   "cell_type": "code",
   "execution_count": 2,
   "metadata": {
    "ExecuteTime": {
     "end_time": "2020-10-12T12:12:04.046632Z",
     "start_time": "2020-10-12T12:12:03.999631Z"
    }
   },
   "outputs": [],
   "source": [
    "uenv_path = Path(\"d:/\") / 'work' / 'unity-envs'\n",
    "uenv_file = uenv_path / \"airsim_win\" / 'AirSimAssets'\n",
    "uenv_file = str(uenv_file.resolve())"
   ]
  },
  {
   "cell_type": "code",
   "execution_count": null,
   "metadata": {
    "ExecuteTime": {
     "start_time": "2020-10-12T12:12:03.256Z"
    },
    "scrolled": false
   },
   "outputs": [
    {
     "name": "stdout",
     "output_type": "stream",
     "text": [
      "testing with observation_mode  0\n"
     ]
    }
   ],
   "source": [
    "memory_capacity = 1000\n",
    "t_max = 1000\n",
    "\n",
    "for observation_mode in [0,1,2]:\n",
    "    print('testing with observation_mode ',observation_mode)\n",
    "    env = airsim.AirSimEnv(filename=uenv_file, observation_mode = observation_mode)\n",
    "    try:\n",
    "        env.info()\n",
    "\n",
    "        # create a memory for random play\n",
    "        memory = airsim.Memory(capacity = memory_capacity, \n",
    "                        state_shapes = env.observation_space_shapes, \n",
    "                        action_shape = env.action_space_shape,\n",
    "                        seed = 123)\n",
    "        memory.info()\n",
    "\n",
    "        # do the random play and fill the memory\n",
    "\n",
    "        t=0\n",
    "        episode_done = False\n",
    "\n",
    "        #1. observe initial state\n",
    "        s = env.reset()\n",
    "\n",
    "        while not episode_done:\n",
    "            #2. select an action, and observe the next state\n",
    "            a = env.action_space.sample()\n",
    "            s_, r, episode_done, info = env.step(a)\n",
    "\n",
    "            if(t == t_max-1):\n",
    "                episode_done=True\n",
    "\n",
    "            #3. save in memory\n",
    "\n",
    "            #s = np.asarray(s).squeeze()\n",
    "            #a = np.asarray(a).squeeze()\n",
    "            #r = np.asarray(r).squeeze()\n",
    "            #s_ = None if episode_done else s_ #np.asarray(s_).squeeze()\n",
    "            memory.append(s=s,a=a,r=r,s_=s_, d=episode_done)\n",
    "\n",
    "            # update the counters\n",
    "            t += 1\n",
    "\n",
    "            if (t_max and t >= t_max):\n",
    "                break\n",
    "\n",
    "        # sample the memory\n",
    "        s,a,r,s_,d = memory.sample(100)\n",
    "        airsim.Memory.sample_info(s,a,r,s_,d)\n",
    "    finally:\n",
    "        env.close()"
   ]
  },
  {
   "cell_type": "code",
   "execution_count": null,
   "metadata": {
    "ExecuteTime": {
     "start_time": "2020-10-12T12:12:03.257Z"
    }
   },
   "outputs": [],
   "source": [
    "env.close()"
   ]
  }
 ],
 "metadata": {
  "kernelspec": {
   "display_name": "Python 3",
   "language": "python",
   "name": "python3"
  },
  "language_info": {
   "codemirror_mode": {
    "name": "ipython",
    "version": 3
   },
   "file_extension": ".py",
   "mimetype": "text/x-python",
   "name": "python",
   "nbconvert_exporter": "python",
   "pygments_lexer": "ipython3",
   "version": "3.8.5"
  },
  "toc": {
   "base_numbering": 1,
   "nav_menu": {},
   "number_sections": true,
   "sideBar": true,
   "skip_h1_title": false,
   "title_cell": "Table of Contents",
   "title_sidebar": "Contents",
   "toc_cell": false,
   "toc_position": {},
   "toc_section_display": true,
   "toc_window_display": false
  },
  "varInspector": {
   "cols": {
    "lenName": 16,
    "lenType": 16,
    "lenVar": 40
   },
   "kernels_config": {
    "python": {
     "delete_cmd_postfix": "",
     "delete_cmd_prefix": "del ",
     "library": "var_list.py",
     "varRefreshCmd": "print(var_dic_list())"
    },
    "r": {
     "delete_cmd_postfix": ") ",
     "delete_cmd_prefix": "rm(",
     "library": "var_list.r",
     "varRefreshCmd": "cat(var_dic_list()) "
    }
   },
   "types_to_exclude": [
    "module",
    "function",
    "builtin_function_or_method",
    "instance",
    "_Feature"
   ],
   "window_display": false
  }
 },
 "nbformat": 4,
 "nbformat_minor": 4
}
