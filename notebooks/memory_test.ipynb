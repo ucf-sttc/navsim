{
 "cells": [
  {
   "cell_type": "markdown",
   "metadata": {},
   "source": [
    "# Memory Test"
   ]
  },
  {
   "cell_type": "markdown",
   "metadata": {},
   "source": [
    "This notebook tests the memory class with the airsim car environment and all 3 environments - vector, visual, vector-visual"
   ]
  },
  {
   "cell_type": "code",
   "execution_count": 1,
   "metadata": {
    "ExecuteTime": {
     "end_time": "2020-10-19T18:47:44.233096Z",
     "start_time": "2020-10-19T18:47:43.349087Z"
    }
   },
   "outputs": [
    {
     "name": "stdout",
     "output_type": "stream",
     "text": [
      "D:\\work\\projects\\ezai_util\n",
      "D:\\work\\projects\\ai_coop_py\n"
     ]
    }
   ],
   "source": [
    "import sys\n",
    "import os\n",
    "from pathlib import Path\n",
    "\n",
    "%reload_ext autoreload\n",
    "%autoreload 2\n",
    "\n",
    "base_path=Path(\"d:/\")\n",
    "base_path = base_path / \"work\" / \"projects\"\n",
    "for pkg in ['ezai_util','ai_coop_py']:\n",
    "    pkg_path = base_path / pkg\n",
    "    pkg_path = str(pkg_path.resolve())\n",
    "    print(pkg_path)\n",
    "    if not pkg_path in sys.path:\n",
    "        sys.path.append(pkg_path)\n",
    "import ezai_util\n",
    "import airsim\n",
    "\n",
    "from ezai_util import DictObj"
   ]
  },
  {
   "cell_type": "code",
   "execution_count": 2,
   "metadata": {
    "ExecuteTime": {
     "end_time": "2020-10-19T18:47:44.289094Z",
     "start_time": "2020-10-19T18:47:44.235096Z"
    }
   },
   "outputs": [],
   "source": [
    "uenv_path = Path(\"d:/\") / 'work' / 'unity-envs'\n",
    "#uenv_file = uenv_path / \"berlin_walk_ml_beta\" / 'Berlin_ML'\n",
    "uenv_file = uenv_path / \"Berlin_URP\" / 'Berlin_ML'\n",
    "\n",
    "uenv_file = str(uenv_file.resolve())\n",
    "#uenv_file = None  # if you want to use editor then uncomment it"
   ]
  },
  {
   "cell_type": "code",
   "execution_count": 3,
   "metadata": {
    "ExecuteTime": {
     "end_time": "2020-10-19T18:47:44.348101Z",
     "start_time": "2020-10-19T18:47:44.294096Z"
    }
   },
   "outputs": [],
   "source": [
    "rl_conf = DictObj({\n",
    "  \"env_name\":'airsim',\n",
    "  \"seed\": 123,\n",
    "  \"discount\": 0.99,\n",
    "  \"tau\": 5e-3,\n",
    "  \"expl_noise\": 0.1,\n",
    "  \"batch_size\": 256,\n",
    "  \"batches_before_train\": 2,\n",
    "  \"memory_capacity\":10000,\n",
    "  \"episode_max_steps\":100,\n",
    "  \"num_episodes\":2\n",
    "})\n",
    "\n",
    "env_conf = DictObj({\n",
    "    'filename' : uenv_file,\n",
    "    'log_folder' : 'unity-logs',  # TODO: Replace exp-id-1 with something from env\n",
    "    'seed' : rl_conf.seed,\n",
    "    'base_port' : 5005,\n",
    "    'timeout' : 600,\n",
    "    'worker_id' : 0,\n",
    "    'observation_mode' : 0,\n",
    "    'max_steps' : rl_conf.episode_max_steps,\n",
    "    'reward_for_goal' : 50,\n",
    "    'reward_for_ep': .005,\n",
    "    'reward_for_other' : -.1,\n",
    "    'reward_for_falling_off_map' :  -50,\n",
    "    'reward_for_step': -.0001,\n",
    "    'segmentation_mode': 1\n",
    "})"
   ]
  },
  {
   "cell_type": "code",
   "execution_count": 4,
   "metadata": {
    "ExecuteTime": {
     "end_time": "2020-10-19T18:49:27.628217Z",
     "start_time": "2020-10-19T18:47:44.350094Z"
    },
    "scrolled": false
   },
   "outputs": [
    {
     "name": "stdout",
     "output_type": "stream",
     "text": [
      "testing with observation_mode  0\n"
     ]
    },
    {
     "name": "stderr",
     "output_type": "stream",
     "text": [
      "2020-10-19 14:48:00 INFO [environment.py:107] Connected to Unity environment with package version 1.1.0-preview and communication version 1.0.0\n",
      "2020-10-19 14:48:02 INFO [environment.py:265] Connected new brain:\n",
      "VectorNavigator?team=0\n",
      "c:\\Miniconda3\\envs\\ezai\\lib\\site-packages\\gym\\logger.py:30: UserWarning: \u001b[33mWARN: Box bound precision lowered by casting to float32\u001b[0m\n",
      "  warnings.warn(colorize('%s: %s'%('WARN', msg % args), 'yellow'))\n"
     ]
    },
    {
     "name": "stdout",
     "output_type": "stream",
     "text": [
      "Env Info\n",
      "-----------\n",
      "Action Space: Box(2,)\n",
      "Action sample: [ 0.39293838 -0.42772132]\n",
      "Action Space Shape: (2,)\n",
      "Action Space Low: [-1. -1.]\n",
      "Action Space High: [1. 1.]\n",
      "Observation Mode: 0\n",
      "Gym Observation Space: Tuple(Box(10,))\n",
      "Gym Observation Space Shape: None\n",
      "Self Observation Space: Tuple(Box(10,))\n",
      "Self Observation Space Shape: None\n",
      "Reward Range: (-inf, inf)\n",
      "Metadata: {'render.modes': ['rgb_array']}\n",
      "Initial State: [array([ 3.0437227e+03,  3.5454102e+01,  8.5054102e+02, -1.3631051e-09,\n",
      "        9.9539620e-01, -7.4505797e-09,  9.5845744e-02,  1.1848356e+03,\n",
      "        3.5924671e+01,  2.8484259e+02], dtype=float32)]\n",
      "First Step State: ([array([ 3.0437227e+03,  3.5448639e+01,  8.5054102e+02, -1.3631051e-09,\n",
      "        9.9539620e-01, -7.4505797e-09,  9.5845744e-02,  1.1848356e+03,\n",
      "        3.5924671e+01,  2.8484259e+02], dtype=float32)], -1e-04, False, {'step': <mlagents_envs.base_env.DecisionSteps object at 0x000001902CFE1DF0>})\n",
      "Memory Info\n",
      "-----------\n",
      "capacity: 1000\n",
      "size: 0\n",
      "seed: 123\n",
      "Shapes:\n",
      "s: [(1000, 10)]\n",
      "a: (1000, 2)\n",
      "r: (1000, 1)\n",
      "s_: [(1000, 10)]\n",
      "d: (1000, 1)\n",
      "Sample Info\n",
      "-----------\n",
      "Shapes:\n",
      "s: [(100, 10)]\n",
      "a: (100, 2)\n",
      "r: (100, 1)\n",
      "s_: [(100, 10)]\n",
      "d: (100, 1)\n"
     ]
    },
    {
     "name": "stderr",
     "output_type": "stream",
     "text": [
      "2020-10-19 14:48:17 INFO [environment.py:417] Environment shut down with return code 0 (CTRL_C_EVENT).\n"
     ]
    },
    {
     "name": "stdout",
     "output_type": "stream",
     "text": [
      "testing with observation_mode  1\n"
     ]
    },
    {
     "name": "stderr",
     "output_type": "stream",
     "text": [
      "2020-10-19 14:48:33 INFO [environment.py:107] Connected to Unity environment with package version 1.1.0-preview and communication version 1.0.0\n",
      "2020-10-19 14:48:35 INFO [environment.py:265] Connected new brain:\n",
      "VectorNavigator?team=0\n"
     ]
    },
    {
     "name": "stdout",
     "output_type": "stream",
     "text": [
      "Env Info\n",
      "-----------\n",
      "Action Space: Box(2,)\n",
      "Action sample: [ 0.39293838 -0.42772132]\n",
      "Action Space Shape: (2,)\n",
      "Action Space Low: [-1. -1.]\n",
      "Action Space High: [1. 1.]\n",
      "Observation Mode: 0\n",
      "Gym Observation Space: Tuple(Box(10,))\n",
      "Gym Observation Space Shape: None\n",
      "Self Observation Space: Tuple(Box(10,))\n",
      "Self Observation Space Shape: None\n",
      "Reward Range: (-inf, inf)\n",
      "Metadata: {'render.modes': ['rgb_array']}\n",
      "Initial State: [array([ 3.0437227e+03,  3.5454102e+01,  8.5054102e+02, -1.3631051e-09,\n",
      "        9.9539620e-01, -7.4505797e-09,  9.5845744e-02,  1.1848356e+03,\n",
      "        3.5924671e+01,  2.8484259e+02], dtype=float32)]\n",
      "First Step State: ([array([ 3.0437227e+03,  3.5448639e+01,  8.5054102e+02, -1.3631051e-09,\n",
      "        9.9539620e-01, -7.4505797e-09,  9.5845744e-02,  1.1848356e+03,\n",
      "        3.5924671e+01,  2.8484259e+02], dtype=float32)], -1e-04, False, {'step': <mlagents_envs.base_env.DecisionSteps object at 0x000001902D010F10>})\n",
      "Memory Info\n",
      "-----------\n",
      "capacity: 1000\n",
      "size: 0\n",
      "seed: 123\n",
      "Shapes:\n",
      "s: [(1000, 10)]\n",
      "a: (1000, 2)\n",
      "r: (1000, 1)\n",
      "s_: [(1000, 10)]\n",
      "d: (1000, 1)\n",
      "Sample Info\n",
      "-----------\n",
      "Shapes:\n",
      "s: [(100, 10)]\n",
      "a: (100, 2)\n",
      "r: (100, 1)\n",
      "s_: [(100, 10)]\n",
      "d: (100, 1)\n"
     ]
    },
    {
     "name": "stderr",
     "output_type": "stream",
     "text": [
      "2020-10-19 14:48:50 INFO [environment.py:417] Environment shut down with return code 0 (CTRL_C_EVENT).\n"
     ]
    },
    {
     "name": "stdout",
     "output_type": "stream",
     "text": [
      "testing with observation_mode  2\n"
     ]
    },
    {
     "name": "stderr",
     "output_type": "stream",
     "text": [
      "2020-10-19 14:49:08 INFO [environment.py:107] Connected to Unity environment with package version 1.1.0-preview and communication version 1.0.0\n",
      "2020-10-19 14:49:11 INFO [environment.py:265] Connected new brain:\n",
      "VectorNavigator?team=0\n"
     ]
    },
    {
     "name": "stdout",
     "output_type": "stream",
     "text": [
      "Env Info\n",
      "-----------\n",
      "Action Space: Box(2,)\n",
      "Action sample: [ 0.39293838 -0.42772132]\n",
      "Action Space Shape: (2,)\n",
      "Action Space Low: [-1. -1.]\n",
      "Action Space High: [1. 1.]\n",
      "Observation Mode: 0\n",
      "Gym Observation Space: Tuple(Box(10,))\n",
      "Gym Observation Space Shape: None\n",
      "Self Observation Space: Tuple(Box(10,))\n",
      "Self Observation Space Shape: None\n",
      "Reward Range: (-inf, inf)\n",
      "Metadata: {'render.modes': ['rgb_array']}\n",
      "Initial State: [array([ 3.0437227e+03,  3.5454102e+01,  8.5054102e+02, -1.3631051e-09,\n",
      "        9.9539620e-01, -7.4505797e-09,  9.5845744e-02,  1.1848356e+03,\n",
      "        3.5924671e+01,  2.8484259e+02], dtype=float32)]\n",
      "First Step State: ([array([ 3.0437227e+03,  3.5448639e+01,  8.5054102e+02, -1.3631051e-09,\n",
      "        9.9539620e-01, -7.4505797e-09,  9.5845744e-02,  1.1848356e+03,\n",
      "        3.5924671e+01,  2.8484259e+02], dtype=float32)], -1e-04, False, {'step': <mlagents_envs.base_env.DecisionSteps object at 0x000001902D010C40>})\n",
      "Memory Info\n",
      "-----------\n",
      "capacity: 1000\n",
      "size: 0\n",
      "seed: 123\n",
      "Shapes:\n",
      "s: [(1000, 10)]\n",
      "a: (1000, 2)\n",
      "r: (1000, 1)\n",
      "s_: [(1000, 10)]\n",
      "d: (1000, 1)\n",
      "Sample Info\n",
      "-----------\n",
      "Shapes:\n",
      "s: [(100, 10)]\n",
      "a: (100, 2)\n",
      "r: (100, 1)\n",
      "s_: [(100, 10)]\n",
      "d: (100, 1)\n"
     ]
    },
    {
     "name": "stderr",
     "output_type": "stream",
     "text": [
      "2020-10-19 14:49:27 INFO [environment.py:417] Environment shut down with return code 0 (CTRL_C_EVENT).\n"
     ]
    }
   ],
   "source": [
    "memory_capacity = 1000\n",
    "t_max = 1000\n",
    "\n",
    "for observation_mode in [0,1,2]:\n",
    "    print('testing with observation_mode ',observation_mode)\n",
    "    env_conf.observation_mod = observation_mode\n",
    "    env = airsim.AirSimEnv(env_conf) \n",
    "    try:\n",
    "        env.info()\n",
    "\n",
    "        # create a memory for random play\n",
    "        memory = airsim.Memory(capacity = memory_capacity, \n",
    "                        state_shapes = env.observation_space_shapes, \n",
    "                        action_shape = env.action_space_shape,\n",
    "                        seed = 123)\n",
    "        memory.info()\n",
    "\n",
    "        # do the random play and fill the memory\n",
    "\n",
    "        t=0\n",
    "        episode_done = False\n",
    "\n",
    "        #1. observe initial state\n",
    "        s = env.reset()\n",
    "\n",
    "        while not episode_done:\n",
    "            #2. select an action, and observe the next state\n",
    "            a = env.action_space.sample()\n",
    "            s_, r, episode_done, info = env.step(a)\n",
    "\n",
    "            if(t == t_max-1):\n",
    "                episode_done=True\n",
    "\n",
    "            #3. save in memory\n",
    "\n",
    "            #s = np.asarray(s).squeeze()\n",
    "            #a = np.asarray(a).squeeze()\n",
    "            #r = np.asarray(r).squeeze()\n",
    "            #s_ = None if episode_done else s_ #np.asarray(s_).squeeze()\n",
    "            memory.append(s=s,a=a,r=r,s_=s_, d=episode_done)\n",
    "\n",
    "            # update the counters\n",
    "            t += 1\n",
    "\n",
    "            if (t_max and t >= t_max):\n",
    "                break\n",
    "\n",
    "        # sample the memory\n",
    "        s,a,r,s_,d = memory.sample(100)\n",
    "        airsim.Memory.sample_info(s,a,r,s_,d)\n",
    "    finally:\n",
    "        env.close()"
   ]
  },
  {
   "cell_type": "code",
   "execution_count": 9,
   "metadata": {
    "ExecuteTime": {
     "end_time": "2020-10-19T18:51:43.611295Z",
     "start_time": "2020-10-19T18:51:43.557292Z"
    }
   },
   "outputs": [
    {
     "ename": "ValueError",
     "evalue": "Environment not open",
     "output_type": "error",
     "traceback": [
      "\u001b[1;31m---------------------------------------------------------------------------\u001b[0m",
      "\u001b[1;31mValueError\u001b[0m                                Traceback (most recent call last)",
      "\u001b[1;32m<ipython-input-9-1baceacf4cb1>\u001b[0m in \u001b[0;36m<module>\u001b[1;34m\u001b[0m\n\u001b[1;32m----> 1\u001b[1;33m \u001b[0menv\u001b[0m\u001b[1;33m.\u001b[0m\u001b[0mclose\u001b[0m\u001b[1;33m(\u001b[0m\u001b[1;33m)\u001b[0m\u001b[1;33m\u001b[0m\u001b[1;33m\u001b[0m\u001b[0m\n\u001b[0m",
      "\u001b[1;32mD:\\work\\projects\\ai_coop_py\\airsim\\env.py\u001b[0m in \u001b[0;36mclose\u001b[1;34m(self)\u001b[0m\n\u001b[0;32m     56\u001b[0m             \u001b[0mself\u001b[0m\u001b[1;33m.\u001b[0m\u001b[0muenv\u001b[0m\u001b[1;33m.\u001b[0m\u001b[0mclose\u001b[0m\u001b[1;33m(\u001b[0m\u001b[1;33m)\u001b[0m\u001b[1;33m\u001b[0m\u001b[1;33m\u001b[0m\u001b[0m\n\u001b[0;32m     57\u001b[0m         \u001b[1;32melse\u001b[0m\u001b[1;33m:\u001b[0m\u001b[1;33m\u001b[0m\u001b[1;33m\u001b[0m\u001b[0m\n\u001b[1;32m---> 58\u001b[1;33m             \u001b[1;32mraise\u001b[0m \u001b[0mValueError\u001b[0m\u001b[1;33m(\u001b[0m\u001b[1;34m'Environment not open'\u001b[0m\u001b[1;33m)\u001b[0m\u001b[1;33m\u001b[0m\u001b[1;33m\u001b[0m\u001b[0m\n\u001b[0m\u001b[0;32m     59\u001b[0m \u001b[1;33m\u001b[0m\u001b[0m\n\u001b[0;32m     60\u001b[0m     \u001b[1;32mdef\u001b[0m \u001b[0minfo\u001b[0m\u001b[1;33m(\u001b[0m\u001b[0mself\u001b[0m\u001b[1;33m)\u001b[0m\u001b[1;33m:\u001b[0m\u001b[1;33m\u001b[0m\u001b[1;33m\u001b[0m\u001b[0m\n",
      "\u001b[1;31mValueError\u001b[0m: Environment not open"
     ]
    }
   ],
   "source": [
    "env.close()"
   ]
  },
  {
   "cell_type": "code",
   "execution_count": null,
   "metadata": {},
   "outputs": [],
   "source": []
  }
 ],
 "metadata": {
  "kernelspec": {
   "display_name": "Python 3",
   "language": "python",
   "name": "python3"
  },
  "language_info": {
   "codemirror_mode": {
    "name": "ipython",
    "version": 3
   },
   "file_extension": ".py",
   "mimetype": "text/x-python",
   "name": "python",
   "nbconvert_exporter": "python",
   "pygments_lexer": "ipython3",
   "version": "3.8.5"
  },
  "toc": {
   "base_numbering": 1,
   "nav_menu": {},
   "number_sections": true,
   "sideBar": true,
   "skip_h1_title": false,
   "title_cell": "Table of Contents",
   "title_sidebar": "Contents",
   "toc_cell": false,
   "toc_position": {},
   "toc_section_display": true,
   "toc_window_display": false
  },
  "varInspector": {
   "cols": {
    "lenName": 16,
    "lenType": 16,
    "lenVar": 40
   },
   "kernels_config": {
    "python": {
     "delete_cmd_postfix": "",
     "delete_cmd_prefix": "del ",
     "library": "var_list.py",
     "varRefreshCmd": "print(var_dic_list())"
    },
    "r": {
     "delete_cmd_postfix": ") ",
     "delete_cmd_prefix": "rm(",
     "library": "var_list.r",
     "varRefreshCmd": "cat(var_dic_list()) "
    }
   },
   "types_to_exclude": [
    "module",
    "function",
    "builtin_function_or_method",
    "instance",
    "_Feature"
   ],
   "window_display": false
  }
 },
 "nbformat": 4,
 "nbformat_minor": 4
}
