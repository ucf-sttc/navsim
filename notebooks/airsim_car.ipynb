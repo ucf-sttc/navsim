{
 "cells": [
  {
   "cell_type": "code",
   "execution_count": 1,
   "metadata": {
    "ExecuteTime": {
     "end_time": "2020-10-12T02:53:53.921809Z",
     "start_time": "2020-10-12T02:53:53.272793Z"
    }
   },
   "outputs": [
    {
     "name": "stdout",
     "output_type": "stream",
     "text": [
      "D:\\work\\projects\\ezai_util\n",
      "D:\\work\\projects\\ai_coop_py\n"
     ]
    }
   ],
   "source": [
    "import sys\n",
    "import os\n",
    "from pathlib import Path\n",
    "\n",
    "%reload_ext autoreload\n",
    "%autoreload 2\n",
    "\n",
    "base_path=Path(\"d:/\")\n",
    "base_path = base_path / \"work\" / \"projects\"\n",
    "for pkg in ['ezai_util','ai_coop_py']:\n",
    "    pkg_path = base_path / pkg\n",
    "    pkg_path = str(pkg_path.resolve())\n",
    "    print(pkg_path)\n",
    "    if not pkg_path in sys.path:\n",
    "        sys.path.append(pkg_path)\n",
    "import ezai_util\n",
    "import airsim"
   ]
  },
  {
   "cell_type": "code",
   "execution_count": 2,
   "metadata": {
    "ExecuteTime": {
     "end_time": "2020-10-12T02:53:54.539588Z",
     "start_time": "2020-10-12T02:53:54.490608Z"
    }
   },
   "outputs": [],
   "source": [
    "uenv_path = Path(\"d:/\") / 'work' / 'unity-envs'\n",
    "uenv_file = uenv_path / \"airsim_win\" / 'AirSimAssets'\n",
    "uenv_file = str(uenv_file.resolve())"
   ]
  },
  {
   "cell_type": "code",
   "execution_count": 3,
   "metadata": {
    "ExecuteTime": {
     "end_time": "2020-10-12T02:54:05.720560Z",
     "start_time": "2020-10-12T02:53:55.658619Z"
    }
   },
   "outputs": [
    {
     "name": "stderr",
     "output_type": "stream",
     "text": [
      "2020-10-11 22:54:05 INFO [environment.py:107] Connected to Unity environment with package version 1.1.0-preview and communication version 1.0.0\n",
      "2020-10-11 22:54:05 INFO [environment.py:265] Connected new brain:\n",
      "VisualNavigator?team=0\n",
      "c:\\Miniconda3\\envs\\ezai\\lib\\site-packages\\gym\\logger.py:30: UserWarning: \u001b[33mWARN: Box bound precision lowered by casting to float32\u001b[0m\n",
      "  warnings.warn(colorize('%s: %s'%('WARN', msg % args), 'yellow'))\n"
     ]
    }
   ],
   "source": [
    "env = airsim.AirSimEnv(filename=uenv_file, observation_mode = 0)"
   ]
  },
  {
   "cell_type": "code",
   "execution_count": 4,
   "metadata": {
    "ExecuteTime": {
     "end_time": "2020-10-12T02:54:05.847708Z",
     "start_time": "2020-10-12T02:54:05.775563Z"
    }
   },
   "outputs": [
    {
     "name": "stdout",
     "output_type": "stream",
     "text": [
      "Env Info\n",
      "-----------\n",
      "Action Space: Box(2,)\n",
      "Action sample: [ 0.39293838 -0.42772132]\n",
      "Action Space Shape: (2,)\n",
      "Action Space Low: [-1. -1.]\n",
      "Action Space High: [1. 1.]\n",
      "Observation Mode: 0\n",
      "Gym Observation Space: Tuple(Box(10,))\n",
      "Gym Observation Space Shape: None\n",
      "Self Observation Space: Tuple(Box(10,))\n",
      "Self Observation Space Shape: None\n",
      "Reward Range: (-inf, inf)\n",
      "Metadata: {'render.modes': ['rgb_array']}\n",
      "Initial State: [array([ 2.3926267e+03,  3.7319370e+01, -3.7768066e+02, -2.9097432e-03,\n",
      "        9.2058080e-01,  3.1531379e-03, -3.9052874e-01,  2.5062500e+03,\n",
      "        4.1240845e+01, -3.6359070e+02], dtype=float32)]\n",
      "First Step State: ([array([ 2.3926272e+03,  3.7317383e+01, -3.7768079e+02, -3.7698867e-03,\n",
      "        9.2058468e-01,  5.0607547e-03, -3.9049214e-01,  2.5062500e+03,\n",
      "        4.1240845e+01, -3.6359070e+02], dtype=float32)], -1e-04, False, {'step': <mlagents_envs.base_env.DecisionSteps object at 0x00000208C66BCE20>})\n"
     ]
    }
   ],
   "source": [
    "env.info()"
   ]
  },
  {
   "cell_type": "code",
   "execution_count": 5,
   "metadata": {
    "ExecuteTime": {
     "end_time": "2020-10-12T02:54:05.951698Z",
     "start_time": "2020-10-12T02:54:05.901695Z"
    }
   },
   "outputs": [],
   "source": [
    "from ezai_util import DictObj"
   ]
  },
  {
   "cell_type": "code",
   "execution_count": 13,
   "metadata": {
    "ExecuteTime": {
     "end_time": "2020-10-12T02:59:06.929234Z",
     "start_time": "2020-10-12T02:59:06.875228Z"
    }
   },
   "outputs": [
    {
     "name": "stderr",
     "output_type": "stream",
     "text": [
      "ezai - I - Making empty DictObj because not given a dict or a json filename\n",
      "2020-10-11 22:59:06 INFO [dict.py:41] Making empty DictObj because not given a dict or a json filename\n",
      "ezai - I - Making empty DictObj because not given a dict or a json filename\n",
      "2020-10-11 22:59:06 INFO [dict.py:41] Making empty DictObj because not given a dict or a json filename\n"
     ]
    }
   ],
   "source": [
    "model_conf = DictObj()\n",
    "model_conf.n_x = env.n_x\n",
    "model_conf.n_y = env.n_y\n",
    "model_conf.n_batch_size = 64\n",
    "model_conf.n_epochs = 10\n",
    "\n",
    "policy_conf = DictObj()\n",
    "policy_conf.discount_rate=0.9\n",
    "policy_conf.learning_rate=0.8\n",
    "policy_conf.explore_rate_max=0.9\n",
    "policy_conf.explore_rate_min=0.01\n",
    "policy_conf.explore_rate_decay=0.005\n",
    "policy_conf.memory_capacity = model_conf.n_batch_size * 10\n",
    "\n",
    "rl_conf = DictObj({\n",
    "  \"env_name\":'airsim',\n",
    "  \"seed\": 0,\n",
    "  \"discount\": 0.99,\n",
    "  \"tau\": 5e-3,\n",
    "  \"time_steps\": 100,\n",
    "  \"start_time_step\": 25e3,\n",
    "  \"expl_noise\": 0.1,\n",
    "  \"batch_size\": 256,\n",
    "  \"evaluate_frequency\": 5e3,\n",
    "  \"max_episode_steps\":200,\n",
    "  \"memory_capacity\":1000\n",
    "})"
   ]
  },
  {
   "cell_type": "code",
   "execution_count": 11,
   "metadata": {
    "ExecuteTime": {
     "end_time": "2020-10-12T02:58:11.807406Z",
     "start_time": "2020-10-12T02:58:08.722312Z"
    }
   },
   "outputs": [
    {
     "name": "stdout",
     "output_type": "stream",
     "text": [
      "(10,)\n"
     ]
    },
    {
     "ename": "AttributeError",
     "evalue": "'DictObj' object has no attribute 'memory_capacity'",
     "output_type": "error",
     "traceback": [
      "\u001b[1;31m---------------------------------------------------------------------------\u001b[0m",
      "\u001b[1;31mAttributeError\u001b[0m                            Traceback (most recent call last)",
      "\u001b[1;32m<ipython-input-11-9eb5162edaf8>\u001b[0m in \u001b[0;36m<module>\u001b[1;34m\u001b[0m\n\u001b[1;32m----> 1\u001b[1;33m \u001b[0mtrainer\u001b[0m \u001b[1;33m=\u001b[0m \u001b[0mairsim\u001b[0m\u001b[1;33m.\u001b[0m\u001b[0mTrainer\u001b[0m\u001b[1;33m(\u001b[0m\u001b[0mrl_conf\u001b[0m\u001b[1;33m,\u001b[0m\u001b[0menv\u001b[0m\u001b[1;33m)\u001b[0m\u001b[1;33m\u001b[0m\u001b[1;33m\u001b[0m\u001b[0m\n\u001b[0m",
      "\u001b[1;32mD:\\work\\projects\\ai_coop_py\\airsim\\classes.py\u001b[0m in \u001b[0;36m__init__\u001b[1;34m(self, config, env, enable_logging)\u001b[0m\n\u001b[0;32m    558\u001b[0m         \u001b[0mself\u001b[0m\u001b[1;33m.\u001b[0m\u001b[0msave_file_name\u001b[0m \u001b[1;33m=\u001b[0m \u001b[1;34mf\"DDPG_{self.config['env_name']}_{self.config['seed']}\"\u001b[0m\u001b[1;33m\u001b[0m\u001b[1;33m\u001b[0m\u001b[0m\n\u001b[0;32m    559\u001b[0m         self.memory = Memory(\n\u001b[1;32m--> 560\u001b[1;33m             \u001b[0mcapacity\u001b[0m\u001b[1;33m=\u001b[0m\u001b[0mself\u001b[0m\u001b[1;33m.\u001b[0m\u001b[0mconfig\u001b[0m\u001b[1;33m.\u001b[0m\u001b[0mmemory_capacity\u001b[0m\u001b[1;33m,\u001b[0m\u001b[1;33m\u001b[0m\u001b[1;33m\u001b[0m\u001b[0m\n\u001b[0m\u001b[0;32m    561\u001b[0m             \u001b[0mstate_shapes\u001b[0m\u001b[1;33m=\u001b[0m\u001b[0mself\u001b[0m\u001b[1;33m.\u001b[0m\u001b[0menv\u001b[0m\u001b[1;33m.\u001b[0m\u001b[0mobservation_space_shapes\u001b[0m\u001b[1;33m,\u001b[0m\u001b[1;33m\u001b[0m\u001b[1;33m\u001b[0m\u001b[0m\n\u001b[0;32m    562\u001b[0m             \u001b[0maction_shape\u001b[0m\u001b[1;33m=\u001b[0m\u001b[0mself\u001b[0m\u001b[1;33m.\u001b[0m\u001b[0menv\u001b[0m\u001b[1;33m.\u001b[0m\u001b[0maction_space_shape\u001b[0m\u001b[1;33m,\u001b[0m\u001b[1;33m\u001b[0m\u001b[1;33m\u001b[0m\u001b[0m\n",
      "\u001b[1;31mAttributeError\u001b[0m: 'DictObj' object has no attribute 'memory_capacity'"
     ]
    }
   ],
   "source": [
    "trainer = airsim.Trainer(rl_conf,env)"
   ]
  },
  {
   "cell_type": "code",
   "execution_count": 40,
   "metadata": {
    "ExecuteTime": {
     "end_time": "2020-09-22T15:52:12.623128Z",
     "start_time": "2020-09-22T15:52:10.799136Z"
    }
   },
   "outputs": [
    {
     "name": "stderr",
     "output_type": "stream",
     "text": [
      "100%|████████████████████████████████████████████████████████████████████████████████| 100/100 [00:01<00:00, 59.45it/s]\n"
     ]
    }
   ],
   "source": [
    "episode_rewards, evaluations = trainer.train()"
   ]
  },
  {
   "cell_type": "code",
   "execution_count": 41,
   "metadata": {
    "ExecuteTime": {
     "end_time": "2020-09-22T15:52:13.826796Z",
     "start_time": "2020-09-22T15:52:13.686787Z"
    }
   },
   "outputs": [
    {
     "name": "stdout",
     "output_type": "stream",
     "text": [
      "(7,)\n"
     ]
    }
   ],
   "source": [
    "print(env.reset()[0].shape)"
   ]
  },
  {
   "cell_type": "code",
   "execution_count": 42,
   "metadata": {
    "ExecuteTime": {
     "end_time": "2020-09-22T15:52:17.791097Z",
     "start_time": "2020-09-22T15:52:17.647052Z"
    }
   },
   "outputs": [
    {
     "ename": "TypeError",
     "evalue": "save_actor() takes 2 positional arguments but 3 were given",
     "output_type": "error",
     "traceback": [
      "\u001b[1;31m---------------------------------------------------------------------------\u001b[0m",
      "\u001b[1;31mTypeError\u001b[0m                                 Traceback (most recent call last)",
      "\u001b[1;32m<ipython-input-42-e6ecdeecfa81>\u001b[0m in \u001b[0;36m<module>\u001b[1;34m\u001b[0m\n\u001b[1;32m----> 1\u001b[1;33m \u001b[0mtrainer\u001b[0m\u001b[1;33m.\u001b[0m\u001b[0magent\u001b[0m\u001b[1;33m.\u001b[0m\u001b[0msave_actor\u001b[0m\u001b[1;33m(\u001b[0m\u001b[1;34m'airsim.onnx'\u001b[0m\u001b[1;33m,\u001b[0m\u001b[0menv\u001b[0m\u001b[1;33m.\u001b[0m\u001b[0mreset\u001b[0m\u001b[1;33m(\u001b[0m\u001b[1;33m)\u001b[0m\u001b[1;33m[\u001b[0m\u001b[1;36m0\u001b[0m\u001b[1;33m]\u001b[0m\u001b[1;33m)\u001b[0m\u001b[1;33m\u001b[0m\u001b[1;33m\u001b[0m\u001b[0m\n\u001b[0m",
      "\u001b[1;31mTypeError\u001b[0m: save_actor() takes 2 positional arguments but 3 were given"
     ]
    }
   ],
   "source": [
    "\n",
    "trainer.agent.save_actor('airsim.onnx'\\\\)"
   ]
  },
  {
   "cell_type": "code",
   "execution_count": 9,
   "metadata": {
    "ExecuteTime": {
     "end_time": "2020-10-08T23:33:44.133840Z",
     "start_time": "2020-10-08T23:33:42.630965Z"
    }
   },
   "outputs": [
    {
     "name": "stderr",
     "output_type": "stream",
     "text": [
      "2020-10-08 19:33:44 INFO [environment.py:417] Environment shut down with return code 0 (CTRL_C_EVENT).\n"
     ]
    }
   ],
   "source": [
    "env.close()"
   ]
  },
  {
   "cell_type": "code",
   "execution_count": 26,
   "metadata": {
    "ExecuteTime": {
     "end_time": "2020-09-18T14:51:50.687452Z",
     "start_time": "2020-09-18T14:51:50.568459Z"
    }
   },
   "outputs": [
    {
     "ename": "UnityEnvironmentException",
     "evalue": "No Unity environment is loaded.",
     "output_type": "error",
     "traceback": [
      "\u001b[1;31m---------------------------------------------------------------------------\u001b[0m",
      "\u001b[1;31mUnityEnvironmentException\u001b[0m                 Traceback (most recent call last)",
      "\u001b[1;32m<ipython-input-26-e6ecdeecfa81>\u001b[0m in \u001b[0;36m<module>\u001b[1;34m\u001b[0m\n\u001b[1;32m----> 1\u001b[1;33m \u001b[0mtrainer\u001b[0m\u001b[1;33m.\u001b[0m\u001b[0magent\u001b[0m\u001b[1;33m.\u001b[0m\u001b[0msave_actor\u001b[0m\u001b[1;33m(\u001b[0m\u001b[1;34m'airsim.onnx'\u001b[0m\u001b[1;33m,\u001b[0m\u001b[0menv\u001b[0m\u001b[1;33m.\u001b[0m\u001b[0mreset\u001b[0m\u001b[1;33m(\u001b[0m\u001b[1;33m)\u001b[0m\u001b[1;33m[\u001b[0m\u001b[1;36m0\u001b[0m\u001b[1;33m]\u001b[0m\u001b[1;33m)\u001b[0m\u001b[1;33m\u001b[0m\u001b[1;33m\u001b[0m\u001b[0m\n\u001b[0m",
      "\u001b[1;32mD:\\work\\projects\\ai_coop_py\\airsim\\classes.py\u001b[0m in \u001b[0;36mreset\u001b[1;34m(self)\u001b[0m\n\u001b[0;32m     77\u001b[0m \u001b[1;33m\u001b[0m\u001b[0m\n\u001b[0;32m     78\u001b[0m     \u001b[1;32mdef\u001b[0m \u001b[0mreset\u001b[0m\u001b[1;33m(\u001b[0m\u001b[0mself\u001b[0m\u001b[1;33m)\u001b[0m\u001b[1;33m:\u001b[0m\u001b[1;33m\u001b[0m\u001b[1;33m\u001b[0m\u001b[0m\n\u001b[1;32m---> 79\u001b[1;33m         \u001b[1;32mreturn\u001b[0m \u001b[0mself\u001b[0m\u001b[1;33m.\u001b[0m\u001b[0mgenv\u001b[0m\u001b[1;33m.\u001b[0m\u001b[0mreset\u001b[0m\u001b[1;33m(\u001b[0m\u001b[1;33m)\u001b[0m\u001b[1;33m\u001b[0m\u001b[1;33m\u001b[0m\u001b[0m\n\u001b[0m\u001b[0;32m     80\u001b[0m \u001b[1;33m\u001b[0m\u001b[0m\n\u001b[0;32m     81\u001b[0m     \u001b[1;32mdef\u001b[0m \u001b[0mseed\u001b[0m\u001b[1;33m(\u001b[0m\u001b[0mself\u001b[0m\u001b[1;33m,\u001b[0m \u001b[0mseed\u001b[0m\u001b[1;33m=\u001b[0m\u001b[1;32mNone\u001b[0m\u001b[1;33m)\u001b[0m\u001b[1;33m:\u001b[0m\u001b[1;33m\u001b[0m\u001b[1;33m\u001b[0m\u001b[0m\n",
      "\u001b[1;32mc:\\Miniconda3\\envs\\ezai\\lib\\site-packages\\gym_unity\\envs\\__init__.py\u001b[0m in \u001b[0;36mreset\u001b[1;34m(self)\u001b[0m\n\u001b[0;32m    145\u001b[0m         \u001b[0mspace\u001b[0m\u001b[1;33m.\u001b[0m\u001b[1;33m\u001b[0m\u001b[1;33m\u001b[0m\u001b[0m\n\u001b[0;32m    146\u001b[0m         \"\"\"\n\u001b[1;32m--> 147\u001b[1;33m         \u001b[0mself\u001b[0m\u001b[1;33m.\u001b[0m\u001b[0m_env\u001b[0m\u001b[1;33m.\u001b[0m\u001b[0mreset\u001b[0m\u001b[1;33m(\u001b[0m\u001b[1;33m)\u001b[0m\u001b[1;33m\u001b[0m\u001b[1;33m\u001b[0m\u001b[0m\n\u001b[0m\u001b[0;32m    148\u001b[0m         \u001b[0mdecision_step\u001b[0m\u001b[1;33m,\u001b[0m \u001b[0m_\u001b[0m \u001b[1;33m=\u001b[0m \u001b[0mself\u001b[0m\u001b[1;33m.\u001b[0m\u001b[0m_env\u001b[0m\u001b[1;33m.\u001b[0m\u001b[0mget_steps\u001b[0m\u001b[1;33m(\u001b[0m\u001b[0mself\u001b[0m\u001b[1;33m.\u001b[0m\u001b[0mname\u001b[0m\u001b[1;33m)\u001b[0m\u001b[1;33m\u001b[0m\u001b[1;33m\u001b[0m\u001b[0m\n\u001b[0;32m    149\u001b[0m         \u001b[0mn_agents\u001b[0m \u001b[1;33m=\u001b[0m \u001b[0mlen\u001b[0m\u001b[1;33m(\u001b[0m\u001b[0mdecision_step\u001b[0m\u001b[1;33m)\u001b[0m\u001b[1;33m\u001b[0m\u001b[1;33m\u001b[0m\u001b[0m\n",
      "\u001b[1;32mc:\\Miniconda3\\envs\\ezai\\lib\\site-packages\\mlagents_envs\\environment.py\u001b[0m in \u001b[0;36mreset\u001b[1;34m(self)\u001b[0m\n\u001b[0;32m    293\u001b[0m             \u001b[0mself\u001b[0m\u001b[1;33m.\u001b[0m\u001b[0m_env_actions\u001b[0m\u001b[1;33m.\u001b[0m\u001b[0mclear\u001b[0m\u001b[1;33m(\u001b[0m\u001b[1;33m)\u001b[0m\u001b[1;33m\u001b[0m\u001b[1;33m\u001b[0m\u001b[0m\n\u001b[0;32m    294\u001b[0m         \u001b[1;32melse\u001b[0m\u001b[1;33m:\u001b[0m\u001b[1;33m\u001b[0m\u001b[1;33m\u001b[0m\u001b[0m\n\u001b[1;32m--> 295\u001b[1;33m             \u001b[1;32mraise\u001b[0m \u001b[0mUnityEnvironmentException\u001b[0m\u001b[1;33m(\u001b[0m\u001b[1;34m\"No Unity environment is loaded.\"\u001b[0m\u001b[1;33m)\u001b[0m\u001b[1;33m\u001b[0m\u001b[1;33m\u001b[0m\u001b[0m\n\u001b[0m\u001b[0;32m    296\u001b[0m \u001b[1;33m\u001b[0m\u001b[0m\n\u001b[0;32m    297\u001b[0m     \u001b[1;33m@\u001b[0m\u001b[0mtimed\u001b[0m\u001b[1;33m\u001b[0m\u001b[1;33m\u001b[0m\u001b[0m\n",
      "\u001b[1;31mUnityEnvironmentException\u001b[0m: No Unity environment is loaded."
     ]
    }
   ],
   "source": []
  },
  {
   "cell_type": "code",
   "execution_count": null,
   "metadata": {
    "ExecuteTime": {
     "end_time": "2020-09-04T22:43:03.725191Z",
     "start_time": "2020-09-04T22:43:03.675181Z"
    }
   },
   "outputs": [],
   "source": [
    "model = airsim.AirSimNN(model_conf)\n",
    "model.info()"
   ]
  },
  {
   "cell_type": "code",
   "execution_count": null,
   "metadata": {
    "ExecuteTime": {
     "end_time": "2020-09-05T11:41:19.656025Z",
     "start_time": "2020-09-05T11:41:17.450639Z"
    }
   },
   "outputs": [],
   "source": [
    "# create a memory of random play\n",
    "\n",
    "from ezai_rl.core import Memory\n",
    "from ezai_rl.policies import RandomPolicy\n",
    "\n",
    "memory = Memory(policy_conf.memory_capacity)\n",
    "policy = RandomPolicy(env.action_space)\n",
    "\n",
    "t_max = policy_conf.memory_capacity\n",
    "t=0\n",
    "episode_done = False\n",
    "\n",
    "#1. observe initial state\n",
    "s = env.reset()\n",
    "\n",
    "while not episode_done:\n",
    "    #2. select an action, and observe the next state\n",
    "    a = policy.get_action(s)\n",
    "    s_, r, episode_done, info = env.step(a)\n",
    "    \n",
    "    if(t == t_max-1):\n",
    "        episode_done=True\n",
    "    \n",
    "    #3. save in memory\n",
    "\n",
    "    #s = np.asarray(s).squeeze()\n",
    "    #a = np.asarray(a).squeeze()\n",
    "    #r = np.asarray(r).squeeze()\n",
    "    s_ = None if episode_done else s_ #np.asarray(s_).squeeze()\n",
    "    memory.append([s,a,r,s_])\n",
    "    \n",
    "    # update the counters\n",
    "    t += 1\n",
    "    \n",
    "    if (t_max and t >= t_max):\n",
    "        break\n",
    "\n",
    "\"\"\"    \n",
    "a=[]\n",
    "s=[]\n",
    "for i in range(1000):\n",
    "    a_i = env.action_space.sample()\n",
    "    s_i = env.step(a_i)[0] if i else env.reset()\n",
    "    a.append(a_i)\n",
    "    s.append(s_i)\n",
    "\n",
    "a=np.asarray(a).squeeze()\n",
    "s=np.asarray(s).squeeze()\n",
    "print('actions \\n',a.shape,a[0])\n",
    "print('states \\n',s.shape,s[0])\n",
    "\"\"\""
   ]
  },
  {
   "cell_type": "code",
   "execution_count": null,
   "metadata": {
    "ExecuteTime": {
     "end_time": "2020-09-05T11:42:05.805400Z",
     "start_time": "2020-09-05T11:42:05.755392Z"
    }
   },
   "outputs": [],
   "source": [
    "memory[-2:].pretty_print()"
   ]
  },
  {
   "cell_type": "code",
   "execution_count": null,
   "metadata": {
    "ExecuteTime": {
     "end_time": "2020-09-05T11:45:26.933851Z",
     "start_time": "2020-09-05T11:45:26.882852Z"
    }
   },
   "outputs": [],
   "source": [
    "sample = memory.sample(0)\n",
    "ss, aa, rr, ss_ = zip(*sample)\n",
    "nt_mask = tuple(map(lambda st: st is not None,ss_))\n",
    "print(nt_mask[-2:0])"
   ]
  },
  {
   "cell_type": "code",
   "execution_count": null,
   "metadata": {
    "ExecuteTime": {
     "end_time": "2020-09-04T22:43:10.425234Z",
     "start_time": "2020-09-04T22:43:09.800234Z"
    }
   },
   "outputs": [],
   "source": [
    "# test the model\n",
    "model.fit(x_train=s,y_train=a)\n",
    "\n",
    "last_state = s[-1]\n",
    "a=[]\n",
    "s=[]\n",
    "for i in range(10):\n",
    "    a_i = model.predict(last_state)\n",
    "    s_i = env.step(a_i)[0]\n",
    "    last_state = np.asarray(s_i).squeeze()\n",
    "    a.append(a_i)\n",
    "    s.append(s_i)\n",
    "\n",
    "a=np.asarray(a).squeeze()\n",
    "s=np.asarray(s).squeeze()\n",
    "print('actions \\n',a.shape,a)\n",
    "print('states \\n',s.shape,s)"
   ]
  },
  {
   "cell_type": "code",
   "execution_count": null,
   "metadata": {
    "ExecuteTime": {
     "end_time": "2020-09-04T22:15:59.244161Z",
     "start_time": "2020-09-04T22:15:59.189166Z"
    }
   },
   "outputs": [],
   "source": [
    "from ezai_rl.policies import DQNPolicy\n",
    "from ezai_rl.policies import RandomPolicy\n",
    "from ezai_rl.trial import run_episodes"
   ]
  },
  {
   "cell_type": "code",
   "execution_count": null,
   "metadata": {
    "ExecuteTime": {
     "end_time": "2020-09-04T22:16:00.803148Z",
     "start_time": "2020-09-04T22:16:00.746152Z"
    }
   },
   "outputs": [],
   "source": [
    "policy_conf = DictObj()\n",
    "policy_conf.discount_rate=0.9\n",
    "policy_conf.learning_rate=0.8\n",
    "policy_conf.explore_rate_max=0.9\n",
    "policy_conf.explore_rate_min=0.01\n",
    "policy_conf.explore_rate_decay=0.005\n",
    "policy_conf.memory_capacity = model_conf.n_batch_size * 10"
   ]
  },
  {
   "cell_type": "code",
   "execution_count": null,
   "metadata": {
    "ExecuteTime": {
     "end_time": "2020-09-04T22:16:02.350167Z",
     "start_time": "2020-09-04T22:16:02.259161Z"
    }
   },
   "outputs": [],
   "source": [
    "# collect observations and actions from random_policy\n",
    "policy_rand = RandomPolicy(env.action_space)\n"
   ]
  },
  {
   "cell_type": "code",
   "execution_count": null,
   "metadata": {
    "ExecuteTime": {
     "end_time": "2020-09-04T22:16:46.104171Z",
     "start_time": "2020-09-04T22:16:45.971180Z"
    }
   },
   "outputs": [],
   "source": []
  },
  {
   "cell_type": "code",
   "execution_count": null,
   "metadata": {
    "ExecuteTime": {
     "end_time": "2020-09-04T22:05:36.374542Z",
     "start_time": "2020-09-04T22:05:36.156540Z"
    }
   },
   "outputs": [],
   "source": [
    "#policy_rand = RandomPolicy(env.action_space)\n",
    "policy_dqn = DQNPolicy(env.action_space, env.observation_space, policy_conf, model)\n",
    "\n",
    "print('training policies')\n",
    "n_episodes = 1 #000\n",
    "returns=run_episodes(env,policy_dqn, n_episodes, learn_mode=True)\n",
    "\n",
    "print('using trained policies')\n",
    "n_episodes=10\n",
    "returns=run_episodes(env,policy_rand,n_episodes)\n",
    "#returns=run_episodes(env,policy_qt,n_episodes)"
   ]
  },
  {
   "cell_type": "code",
   "execution_count": null,
   "metadata": {
    "ExecuteTime": {
     "end_time": "2020-09-04T21:25:23.299689Z",
     "start_time": "2020-09-04T21:25:22.550684Z"
    }
   },
   "outputs": [],
   "source": [
    "env.close()"
   ]
  },
  {
   "cell_type": "code",
   "execution_count": null,
   "metadata": {},
   "outputs": [],
   "source": []
  },
  {
   "cell_type": "code",
   "execution_count": null,
   "metadata": {
    "ExecuteTime": {
     "end_time": "2020-09-04T17:22:22.182499Z",
     "start_time": "2020-09-04T17:22:22.129512Z"
    }
   },
   "outputs": [],
   "source": []
  },
  {
   "cell_type": "code",
   "execution_count": null,
   "metadata": {
    "ExecuteTime": {
     "end_time": "2020-09-04T17:22:22.239379Z",
     "start_time": "2020-09-04T17:22:22.184499Z"
    }
   },
   "outputs": [],
   "source": []
  },
  {
   "cell_type": "code",
   "execution_count": null,
   "metadata": {
    "ExecuteTime": {
     "end_time": "2020-09-04T17:22:22.299955Z",
     "start_time": "2020-09-04T17:22:22.241377Z"
    }
   },
   "outputs": [],
   "source": []
  },
  {
   "cell_type": "code",
   "execution_count": null,
   "metadata": {
    "ExecuteTime": {
     "end_time": "2020-09-04T21:00:39.995550Z",
     "start_time": "2020-09-04T21:00:32.267Z"
    }
   },
   "outputs": [],
   "source": [
    "# test action_space types\n",
    "uenv = UnityEnvironment(file_name=uenv_file, \n",
    "                        log_folder='/tmp/unity', seed = 123, \n",
    "                        side_channels =[engine_side_channel,environment_side_channel] )\n",
    "engine_side_channel.set_configuration_parameters(time_scale=10, quality_level = 0)\n",
    "\n",
    "#uenv.reset()\n",
    "genv = UnityToGymWrapper(uenv, False, False, True)#(Environment, uint8_visual, flatten_branched, allow_multiple_obs)\n",
    "obs = genv.reset()\n",
    "\n",
    "print(type(genv.action_space))\n",
    "print(type(genv.action_space.sample()))\n",
    "print(genv.action_space)\n",
    "print(genv.action_space.sample())\n",
    "\n",
    "genv.close()"
   ]
  },
  {
   "cell_type": "code",
   "execution_count": null,
   "metadata": {
    "ExecuteTime": {
     "end_time": "2020-09-04T21:00:39.997549Z",
     "start_time": "2020-09-04T21:00:32.269Z"
    }
   },
   "outputs": [],
   "source": [
    "# test sample() randomization\n",
    "\n",
    "for i in range(5):\n",
    "    print('run ',i)\n",
    "    uenv = UnityEnvironment(file_name=uenv_file, \n",
    "                            log_folder='/tmp/unity', seed = 123, \n",
    "                            side_channels =[engine_side_channel,environment_side_channel] )\n",
    "    engine_side_channel.set_configuration_parameters(time_scale=10, quality_level = 0)\n",
    "\n",
    "    #uenv.reset()\n",
    "    genv = UnityToGymWrapper(uenv, False, False, True)#(Environment, uint8_visual, flatten_branched, allow_multiple_obs)\n",
    "    genv.action_space.np_random.seed(123)\n",
    "    obs = genv.reset()\n",
    "\n",
    "    #print(ezai_rl.env.env_info(genv))\n",
    "    for j in range(5):\n",
    "        print(genv.action_space.sample())\n",
    "\n",
    "    genv.close()"
   ]
  },
  {
   "cell_type": "code",
   "execution_count": null,
   "metadata": {
    "ExecuteTime": {
     "end_time": "2020-09-04T21:00:39.999553Z",
     "start_time": "2020-09-04T21:00:32.272Z"
    }
   },
   "outputs": [],
   "source": [
    "uenv = UnityEnvironment(file_name=uenv_file, \n",
    "                        log_folder='/tmp/unity', seed = 1, \n",
    "                        side_channels =[engine_side_channel,environment_side_channel] )\n",
    "engine_side_channel.set_configuration_parameters(time_scale=10, quality_level = 0)\n",
    "environment_side_channel.set_float_parameter(\"rewardForGoalCollision\", .5)\n",
    "environment_side_channel.set_float_parameter(\"rewardForExplorationPointCollision\", .005)\n",
    "environment_side_channel.set_float_parameter(\"rewardForOtherCollision\", -.1)\n",
    "environment_side_channel.set_float_parameter(\"rewardForFallingOffMap\", -1)\n",
    "environment_side_channel.set_float_parameter(\"rewardForEachStep\", -.0001)\n",
    "environment_side_channel.set_float_parameter(\"segmentationMode\", 1)\n",
    "#uenv.reset()\n",
    "genv = UnityToGymWrapper(uenv, True, False, True)#(Environment, uint8_visual, flatten_branched, allow_multiple_obs)\n",
    "obs = genv.reset()\n",
    "\n",
    "print(ezai_rl.core.env_info(genv))\n",
    "\n",
    "#genv.close()\n",
    "#uenv.close()"
   ]
  },
  {
   "cell_type": "code",
   "execution_count": null,
   "metadata": {
    "ExecuteTime": {
     "end_time": "2020-09-04T21:00:40.001550Z",
     "start_time": "2020-09-04T21:00:32.274Z"
    }
   },
   "outputs": [],
   "source": [
    "env = genv"
   ]
  },
  {
   "cell_type": "code",
   "execution_count": null,
   "metadata": {
    "ExecuteTime": {
     "end_time": "2020-09-04T21:00:40.003553Z",
     "start_time": "2020-09-04T21:00:32.277Z"
    }
   },
   "outputs": [],
   "source": [
    "print(env.observation_space.n)"
   ]
  },
  {
   "cell_type": "code",
   "execution_count": null,
   "metadata": {
    "ExecuteTime": {
     "end_time": "2020-09-04T21:00:40.005548Z",
     "start_time": "2020-09-04T21:00:32.279Z"
    }
   },
   "outputs": [],
   "source": [
    "from ezai_rl.policies import DQNPolicy\n",
    "from ezai_rl.policies import RandomPolicy\n",
    "from ezai_rl.trial import run_episodes"
   ]
  },
  {
   "cell_type": "code",
   "execution_count": null,
   "metadata": {
    "ExecuteTime": {
     "end_time": "2020-09-04T21:00:40.006550Z",
     "start_time": "2020-09-04T21:00:32.282Z"
    }
   },
   "outputs": [],
   "source": [
    "# remove the seeds to get random plays everytime\n",
    "np.random.seed(123)\n",
    "env.seed(123) # doesnt work on unity\n",
    "env.action_space.np_random.seed(123)\n",
    "\n",
    "policy_rand = RandomPolicy(env.action_space)\n",
    "policy_dqn = DQNPolicy(env.action_space, env.observation_space)\n",
    "\n",
    "print('training policies')\n",
    "n_episodes = 1 #000\n",
    "returns=run_episodes(env,policy_dqn, n_episodes, learn_mode=True)\n",
    "\n",
    "print('using trained policies')\n",
    "n_episodes=10\n",
    "returns=run_episodes(env,policy_rand,n_episodes)\n",
    "#returns=run_episodes(env,policy_qt,n_episodes)"
   ]
  },
  {
   "cell_type": "code",
   "execution_count": 53,
   "metadata": {
    "ExecuteTime": {
     "end_time": "2020-10-09T23:05:32.338338Z",
     "start_time": "2020-10-09T23:05:30.059593Z"
    }
   },
   "outputs": [
    {
     "name": "stderr",
     "output_type": "stream",
     "text": [
      "2020-10-09 19:05:32 INFO [environment.py:417] Environment shut down with return code 0 (CTRL_C_EVENT).\n"
     ]
    }
   ],
   "source": [
    "env.close()"
   ]
  },
  {
   "cell_type": "code",
   "execution_count": 21,
   "metadata": {
    "ExecuteTime": {
     "end_time": "2020-10-09T21:12:18.132644Z",
     "start_time": "2020-10-09T21:12:18.084624Z"
    }
   },
   "outputs": [],
   "source": [
    "a = [5,6]"
   ]
  },
  {
   "cell_type": "code",
   "execution_count": 22,
   "metadata": {
    "ExecuteTime": {
     "end_time": "2020-10-09T21:12:19.037816Z",
     "start_time": "2020-10-09T21:12:18.989823Z"
    }
   },
   "outputs": [
    {
     "name": "stdout",
     "output_type": "stream",
     "text": [
      "[5, 6]\n"
     ]
    }
   ],
   "source": [
    "print(a)"
   ]
  },
  {
   "cell_type": "code",
   "execution_count": 23,
   "metadata": {
    "ExecuteTime": {
     "end_time": "2020-10-09T21:12:20.899815Z",
     "start_time": "2020-10-09T21:12:20.853833Z"
    }
   },
   "outputs": [],
   "source": [
    "a = [a]"
   ]
  },
  {
   "cell_type": "code",
   "execution_count": 24,
   "metadata": {
    "ExecuteTime": {
     "end_time": "2020-10-09T21:12:21.804062Z",
     "start_time": "2020-10-09T21:12:21.756065Z"
    }
   },
   "outputs": [
    {
     "name": "stdout",
     "output_type": "stream",
     "text": [
      "[[5, 6]]\n"
     ]
    }
   ],
   "source": [
    "print(a)"
   ]
  },
  {
   "cell_type": "code",
   "execution_count": 25,
   "metadata": {
    "ExecuteTime": {
     "end_time": "2020-10-09T21:18:28.473307Z",
     "start_time": "2020-10-09T21:18:28.268266Z"
    }
   },
   "outputs": [],
   "source": [
    "import numpy as np\n"
   ]
  },
  {
   "cell_type": "code",
   "execution_count": 30,
   "metadata": {
    "ExecuteTime": {
     "end_time": "2020-10-09T21:51:24.862793Z",
     "start_time": "2020-10-09T21:51:24.808785Z"
    }
   },
   "outputs": [
    {
     "ename": "TypeError",
     "evalue": "unsupported operand type(s) for +: 'int' and 'tuple'",
     "output_type": "error",
     "traceback": [
      "\u001b[1;31m---------------------------------------------------------------------------\u001b[0m",
      "\u001b[1;31mTypeError\u001b[0m                                 Traceback (most recent call last)",
      "\u001b[1;32m<ipython-input-30-82b706b9cd8b>\u001b[0m in \u001b[0;36m<module>\u001b[1;34m\u001b[0m\n\u001b[1;32m----> 1\u001b[1;33m \u001b[0marr\u001b[0m \u001b[1;33m=\u001b[0m \u001b[0mnp\u001b[0m\u001b[1;33m.\u001b[0m\u001b[0mfull\u001b[0m\u001b[1;33m(\u001b[0m\u001b[1;33m(\u001b[0m\u001b[1;33m(\u001b[0m\u001b[1;36m2\u001b[0m\u001b[1;33m)\u001b[0m \u001b[1;33m+\u001b[0m \u001b[1;33m(\u001b[0m\u001b[1;36m5\u001b[0m\u001b[1;33m,\u001b[0m\u001b[1;36m2\u001b[0m\u001b[1;33m)\u001b[0m\u001b[1;33m)\u001b[0m\u001b[1;33m,\u001b[0m \u001b[1;36m0.0\u001b[0m\u001b[1;33m)\u001b[0m\u001b[1;33m\u001b[0m\u001b[1;33m\u001b[0m\u001b[0m\n\u001b[0m\u001b[0;32m      2\u001b[0m \u001b[0mprint\u001b[0m\u001b[1;33m(\u001b[0m\u001b[0marr\u001b[0m\u001b[1;33m)\u001b[0m\u001b[1;33m\u001b[0m\u001b[1;33m\u001b[0m\u001b[0m\n",
      "\u001b[1;31mTypeError\u001b[0m: unsupported operand type(s) for +: 'int' and 'tuple'"
     ]
    }
   ],
   "source": [
    "arr = np.full((tuple(2) + (5,2)), 0.0)\n",
    "print(arr)"
   ]
  },
  {
   "cell_type": "code",
   "execution_count": 52,
   "metadata": {
    "ExecuteTime": {
     "end_time": "2020-10-09T22:04:51.803211Z",
     "start_time": "2020-10-09T22:04:51.511240Z"
    }
   },
   "outputs": [
    {
     "ename": "TypeError",
     "evalue": "unsupported operand type(s) for +: 'int' and 'list'",
     "output_type": "error",
     "traceback": [
      "\u001b[1;31m---------------------------------------------------------------------------\u001b[0m",
      "\u001b[1;31mTypeError\u001b[0m                                 Traceback (most recent call last)",
      "\u001b[1;32m<ipython-input-52-1395059977c0>\u001b[0m in \u001b[0;36m<module>\u001b[1;34m\u001b[0m\n\u001b[1;32m----> 1\u001b[1;33m \u001b[0ma\u001b[0m\u001b[1;33m=\u001b[0m\u001b[1;36m2\u001b[0m \u001b[1;33m+\u001b[0m \u001b[0mlist\u001b[0m\u001b[1;33m(\u001b[0m\u001b[1;33m[\u001b[0m\u001b[1;36m2\u001b[0m\u001b[1;33m,\u001b[0m\u001b[1;36m3\u001b[0m\u001b[1;33m]\u001b[0m\u001b[1;33m)\u001b[0m\u001b[1;33m\u001b[0m\u001b[1;33m\u001b[0m\u001b[0m\n\u001b[0m\u001b[0;32m      2\u001b[0m \u001b[1;31m#a.insert(0,1)\u001b[0m\u001b[1;33m\u001b[0m\u001b[1;33m\u001b[0m\u001b[1;33m\u001b[0m\u001b[0m\n\u001b[0;32m      3\u001b[0m \u001b[0mprint\u001b[0m\u001b[1;33m(\u001b[0m\u001b[0ma\u001b[0m\u001b[1;33m)\u001b[0m\u001b[1;33m\u001b[0m\u001b[1;33m\u001b[0m\u001b[0m\n",
      "\u001b[1;31mTypeError\u001b[0m: unsupported operand type(s) for +: 'int' and 'list'"
     ]
    }
   ],
   "source": [
    "a=2 + list([2,3])\n",
    "#a.insert(0,1)\n",
    "print(a)"
   ]
  },
  {
   "cell_type": "code",
   "execution_count": null,
   "metadata": {},
   "outputs": [],
   "source": []
  }
 ],
 "metadata": {
  "kernelspec": {
   "display_name": "Python 3",
   "language": "python",
   "name": "python3"
  },
  "language_info": {
   "codemirror_mode": {
    "name": "ipython",
    "version": 3
   },
   "file_extension": ".py",
   "mimetype": "text/x-python",
   "name": "python",
   "nbconvert_exporter": "python",
   "pygments_lexer": "ipython3",
   "version": "3.8.5"
  },
  "toc": {
   "base_numbering": 1,
   "nav_menu": {},
   "number_sections": true,
   "sideBar": true,
   "skip_h1_title": false,
   "title_cell": "Table of Contents",
   "title_sidebar": "Contents",
   "toc_cell": false,
   "toc_position": {},
   "toc_section_display": true,
   "toc_window_display": false
  },
  "varInspector": {
   "cols": {
    "lenName": 16,
    "lenType": 16,
    "lenVar": 40
   },
   "kernels_config": {
    "python": {
     "delete_cmd_postfix": "",
     "delete_cmd_prefix": "del ",
     "library": "var_list.py",
     "varRefreshCmd": "print(var_dic_list())"
    },
    "r": {
     "delete_cmd_postfix": ") ",
     "delete_cmd_prefix": "rm(",
     "library": "var_list.r",
     "varRefreshCmd": "cat(var_dic_list()) "
    }
   },
   "types_to_exclude": [
    "module",
    "function",
    "builtin_function_or_method",
    "instance",
    "_Feature"
   ],
   "window_display": false
  }
 },
 "nbformat": 4,
 "nbformat_minor": 4
}
