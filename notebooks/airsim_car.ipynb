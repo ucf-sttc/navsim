{
 "cells": [
  {
   "cell_type": "markdown",
   "metadata": {
    "ExecuteTime": {
     "end_time": "2020-10-19T22:02:54.941365Z",
     "start_time": "2020-10-19T22:02:54.891388Z"
    }
   },
   "source": [
    "# NavSim Car Notebook"
   ]
  },
  {
   "cell_type": "markdown",
   "metadata": {},
   "source": [
    "This notebook tests the airsim car simulations and trains for 2 episodes, 100 timesteps each episode.\n",
    "\n",
    "In the following cell make the changes to the paths as needed.\n",
    "\n",
    "In the third cell from here, make changes to the RL Config or Environment Config as needed."
   ]
  },
  {
   "cell_type": "code",
   "execution_count": 1,
   "metadata": {
    "ExecuteTime": {
     "end_time": "2020-11-11T03:35:15.715432Z",
     "start_time": "2020-11-11T03:35:15.709026Z"
    }
   },
   "outputs": [],
   "source": [
    "from pathlib import Path\n",
    "\n",
    "# Please change the following to the base path to the repos. All our code repos were in d:/work/projects. \n",
    "\n",
    "#base_path=Path(\"d:/\")\n",
    "#base_path = base_path / \"work\" / \"projects\"\n",
    "\n",
    "base_path = Path.home() / \"projects\"\n",
    "\n",
    "\n",
    "# Change the following path to your Unity Env Executable\n",
    "# if you want to use Unity Editor then uncomment the last line which sets uenv_file to None\n",
    "\n",
    "# uenv_path = Path(\"d:/\") / 'work' \n",
    "uenv_path = Path.home() \n",
    "uenv_path = uenv_path / 'unity-envs' / \"Berlin_URP\" / 'Berlin_ML'\n",
    "uenv_file = str(uenv_path.resolve())\n",
    "\n",
    "#uenv_file = None  "
   ]
  },
  {
   "cell_type": "code",
   "execution_count": 2,
   "metadata": {
    "ExecuteTime": {
     "end_time": "2020-11-11T03:35:16.662183Z",
     "start_time": "2020-11-11T03:35:16.111716Z"
    }
   },
   "outputs": [
    {
     "name": "stdout",
     "output_type": "stream",
     "text": [
      "/data/afandang/projects/ezai_util\n",
      "/data/afandang/projects/ai_coop_py\n",
      "/data/afandang/projects/ezai_util\n"
     ]
    }
   ],
   "source": [
    "import sys\n",
    "\n",
    "%reload_ext autoreload\n",
    "%autoreload 2\n",
    "\n",
    "for pkg in ['ezai_util','ai_coop_py']:\n",
    "    pkg_path = base_path / pkg\n",
    "    pkg_path = str(pkg_path.resolve())\n",
    "    print(pkg_path)\n",
    "    if not pkg_path in sys.path:\n",
    "        sys.path.append(pkg_path)\n",
    "import ezai_util\n",
    "import navsim\n",
    "from ezai_util import DictObj"
   ]
  },
  {
   "cell_type": "code",
   "execution_count": 3,
   "metadata": {
    "ExecuteTime": {
     "end_time": "2020-11-11T03:35:16.701113Z",
     "start_time": "2020-11-11T03:35:16.692327Z"
    }
   },
   "outputs": [],
   "source": [
    "rl_conf = DictObj({\n",
    "  \"env_name\":'airsim',\n",
    "  \"seed\": 123,\n",
    "  \"discount\": 0.99,\n",
    "  \"tau\": 5e-3,\n",
    "  \"expl_noise\": 0.1,\n",
    "  \"batch_size\": 256,\n",
    "  \"batches_before_train\": 2,\n",
    "  \"memory_capacity\":10000,\n",
    "  \"episode_max_steps\":100,\n",
    "  \"num_episodes\":2\n",
    "})\n",
    "\n",
    "env_conf = DictObj({\n",
    "    'filename' : uenv_file,\n",
    "    'log_folder' : 'unity-logs',  # TODO: Replace exp-id-1 with something from env\n",
    "    'seed' : rl_conf.seed,\n",
    "    'timeout' : 600,\n",
    "    'worker_id' : 0,\n",
    "    'observation_mode' : 0,\n",
    "    'max_steps' : rl_conf.episode_max_steps,\n",
    "    'reward_for_goal' : 50,\n",
    "    'reward_for_ep': .005,\n",
    "    'reward_for_other' : -.1,\n",
    "    'reward_for_falling_off_map' :  -50,\n",
    "    'reward_for_step': -.0001,\n",
    "    'segmentation_mode': 1\n",
    "})"
   ]
  },
  {
   "cell_type": "code",
   "execution_count": 4,
   "metadata": {
    "ExecuteTime": {
     "end_time": "2020-11-11T03:35:17.480456Z",
     "start_time": "2020-11-11T03:35:17.462213Z"
    }
   },
   "outputs": [
    {
     "name": "stderr",
     "output_type": "stream",
     "text": [
      "ezai - I - Making empty DictObj because parameters passed is not a dict\n",
      "2020-11-10 22:35:17 INFO [dict.py:54] Making empty DictObj because parameters passed is not a dict\n"
     ]
    }
   ],
   "source": [
    "conf = DictObj().load_from_json_file(\"navsim_conf.json\")"
   ]
  },
  {
   "cell_type": "code",
   "execution_count": 5,
   "metadata": {
    "ExecuteTime": {
     "end_time": "2020-11-11T03:35:18.136023Z",
     "start_time": "2020-11-11T03:35:18.118738Z"
    }
   },
   "outputs": [
    {
     "name": "stdout",
     "output_type": "stream",
     "text": [
      "{'env_conf': {'filename': '/home/afandang/unity_envs/Berlin_ML/Berlin_ML', 'log_folder': 'unity.log', 'seed': 123, 'timeout': 600, 'worker_id': 0, 'observation_mode': 0, 'max_steps': 100, 'reward_for_goal': 50, 'reward_for_ep': 0.005, 'reward_for_other': -0.1, 'reward_for_falling_off_map': -50, 'reward_for_step': -0.0001, 'segmentation_mode': 1}, 'run_conf': {'env_name': 'navsim', 'episode_max_steps': 100, 'num_episodes': 2, 'memory_capacity': 10000, 'seed': 123, 'discount': 0.99, 'tau': 0.005, 'expl_noise': 0.1, 'batch_size': 256, 'batches_before_train': 2, 'checkpoint_interval': 1}}\n"
     ]
    }
   ],
   "source": [
    "print(conf)"
   ]
  },
  {
   "cell_type": "code",
   "execution_count": 11,
   "metadata": {
    "ExecuteTime": {
     "end_time": "2020-11-11T03:44:03.082533Z",
     "start_time": "2020-11-11T03:43:38.690023Z"
    }
   },
   "outputs": [
    {
     "name": "stderr",
     "output_type": "stream",
     "text": [
      "2020-11-10 22:43:54 INFO [environment.py:108] Connected to Unity environment with package version 1.1.0-preview and communication version 1.0.0\n",
      "2020-11-10 22:44:02 INFO [environment.py:265] Connected new brain:\n",
      "VectorNavigator?team=0\n"
     ]
    },
    {
     "name": "stdout",
     "output_type": "stream",
     "text": [
      "Unity env creation resource usage: \n",
      "time:0.06203600400000031,peak_memory:65466,current_memory:52116\n",
      "\n",
      "Env Info\n",
      "-----------\n",
      "Action Space: Box(-1.0, 1.0, (2,), float32)\n",
      "Action sample: [ 0.39293838 -0.42772132]\n",
      "Action Space Shape: (2,)\n",
      "Action Space Low: [-1. -1.]\n",
      "Action Space High: [1. 1.]\n",
      "Observation Mode: 0\n",
      "Gym Observation Space: Tuple(Box(-inf, inf, (10,), float32))\n",
      "Gym Observation Space Shape: None\n",
      "Self Observation Space: Tuple(Box(-inf, inf, (10,), float32))\n",
      "Self Observation Space Shape: None\n",
      "Reward Range: (-inf, inf)\n",
      "Metadata: {'render.modes': ['rgb_array']}\n",
      "Initial State: [array([ 3.0437227e+03,  3.5454102e+01,  8.5054102e+02, -1.3631051e-09,\n",
      "        9.9539620e-01, -7.4505797e-09,  9.5845744e-02,  1.1848356e+03,\n",
      "        3.5924671e+01,  2.8484259e+02], dtype=float32)]\n",
      "First Step State: ([array([ 3.0437227e+03,  3.5448643e+01,  8.5054102e+02, -1.3631051e-09,\n",
      "        9.9539620e-01, -7.4505797e-09,  9.5845744e-02,  1.1848356e+03,\n",
      "        3.5924671e+01,  2.8484259e+02], dtype=float32)], -1e-04, False, {'step': <mlagents_envs.base_env.DecisionSteps object at 0x7f190c08c610>})\n"
     ]
    }
   ],
   "source": [
    "trainer = navsim.Trainer(run_id='navsim_test',run_resume=False,conf=conf)"
   ]
  },
  {
   "cell_type": "code",
   "execution_count": 12,
   "metadata": {
    "ExecuteTime": {
     "end_time": "2020-11-11T03:44:05.815142Z",
     "start_time": "2020-11-11T03:44:04.864473Z"
    }
   },
   "outputs": [
    {
     "name": "stderr",
     "output_type": "stream",
     "text": [
      "100%|██████████| 2/2 [00:00<00:00,  2.14it/s]\n"
     ]
    }
   ],
   "source": [
    "trainer.train()"
   ]
  },
  {
   "cell_type": "code",
   "execution_count": null,
   "metadata": {
    "ExecuteTime": {
     "end_time": "2020-10-19T18:52:31.230845Z",
     "start_time": "2020-10-19T18:52:30.156869Z"
    }
   },
   "outputs": [],
   "source": [
    "trainer.agent.save_actor('model.onnx')"
   ]
  },
  {
   "cell_type": "code",
   "execution_count": 13,
   "metadata": {
    "ExecuteTime": {
     "end_time": "2020-11-11T03:52:49.840671Z",
     "start_time": "2020-11-11T03:52:46.471127Z"
    }
   },
   "outputs": [
    {
     "name": "stderr",
     "output_type": "stream",
     "text": [
      "2020-11-10 22:52:49 INFO [environment.py:417] Environment shut down with return code 0.\n"
     ]
    }
   ],
   "source": [
    "trainer.env_close()"
   ]
  },
  {
   "cell_type": "code",
   "execution_count": null,
   "metadata": {},
   "outputs": [],
   "source": []
  }
 ],
 "metadata": {
  "kernelspec": {
   "display_name": "Python 3",
   "language": "python",
   "name": "python3"
  },
  "language_info": {
   "codemirror_mode": {
    "name": "ipython",
    "version": 3
   },
   "file_extension": ".py",
   "mimetype": "text/x-python",
   "name": "python",
   "nbconvert_exporter": "python",
   "pygments_lexer": "ipython3",
   "version": "3.7.8"
  },
  "toc": {
   "base_numbering": 1,
   "nav_menu": {},
   "number_sections": true,
   "sideBar": true,
   "skip_h1_title": false,
   "title_cell": "Table of Contents",
   "title_sidebar": "Contents",
   "toc_cell": false,
   "toc_position": {},
   "toc_section_display": true,
   "toc_window_display": false
  },
  "varInspector": {
   "cols": {
    "lenName": 16,
    "lenType": 16,
    "lenVar": 40
   },
   "kernels_config": {
    "python": {
     "delete_cmd_postfix": "",
     "delete_cmd_prefix": "del ",
     "library": "var_list.py",
     "varRefreshCmd": "print(var_dic_list())"
    },
    "r": {
     "delete_cmd_postfix": ") ",
     "delete_cmd_prefix": "rm(",
     "library": "var_list.r",
     "varRefreshCmd": "cat(var_dic_list()) "
    }
   },
   "types_to_exclude": [
    "module",
    "function",
    "builtin_function_or_method",
    "instance",
    "_Feature"
   ],
   "window_display": false
  }
 },
 "nbformat": 4,
 "nbformat_minor": 4
}
