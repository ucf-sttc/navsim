{
 "cells": [
  {
   "cell_type": "code",
   "execution_count": 1,
   "metadata": {
    "ExecuteTime": {
     "end_time": "2020-10-13T03:41:20.821564Z",
     "start_time": "2020-10-13T03:41:20.081540Z"
    }
   },
   "outputs": [
    {
     "name": "stdout",
     "output_type": "stream",
     "text": [
      "D:\\work\\projects\\ezai_util\n",
      "D:\\work\\projects\\ai_coop_py\n"
     ]
    }
   ],
   "source": [
    "import sys\n",
    "import os\n",
    "from pathlib import Path\n",
    "\n",
    "%reload_ext autoreload\n",
    "%autoreload 2\n",
    "\n",
    "base_path=Path(\"d:/\")\n",
    "base_path = base_path / \"work\" / \"projects\"\n",
    "for pkg in ['ezai_util','ai_coop_py']:\n",
    "    pkg_path = base_path / pkg\n",
    "    pkg_path = str(pkg_path.resolve())\n",
    "    print(pkg_path)\n",
    "    if not pkg_path in sys.path:\n",
    "        sys.path.append(pkg_path)\n",
    "import ezai_util\n",
    "import airsim"
   ]
  },
  {
   "cell_type": "code",
   "execution_count": 2,
   "metadata": {
    "ExecuteTime": {
     "end_time": "2020-10-13T03:41:20.871557Z",
     "start_time": "2020-10-13T03:41:20.823548Z"
    }
   },
   "outputs": [],
   "source": [
    "uenv_path = Path(\"d:/\") / 'work' / 'unity-envs'\n",
    "uenv_file = uenv_path / \"airsim_win\" / 'AirSimAssets'\n",
    "uenv_file = str(uenv_file.resolve())"
   ]
  },
  {
   "cell_type": "code",
   "execution_count": 3,
   "metadata": {
    "ExecuteTime": {
     "end_time": "2020-10-13T03:41:30.798906Z",
     "start_time": "2020-10-13T03:41:20.876539Z"
    }
   },
   "outputs": [
    {
     "name": "stderr",
     "output_type": "stream",
     "text": [
      "2020-10-12 23:41:30 INFO [environment.py:107] Connected to Unity environment with package version 1.1.0-preview and communication version 1.0.0\n",
      "2020-10-12 23:41:30 INFO [environment.py:265] Connected new brain:\n",
      "VisualNavigator?team=0\n"
     ]
    },
    {
     "name": "stdout",
     "output_type": "stream",
     "text": [
      "Env Info\n",
      "-----------\n",
      "Action Space: Box(2,)\n",
      "Action sample: [ 0.39293838 -0.42772132]\n",
      "Action Space Shape: (2,)\n",
      "Action Space Low: [-1. -1.]\n",
      "Action Space High: [1. 1.]\n",
      "Observation Mode: 0\n",
      "Gym Observation Space: Tuple(Box(10,))\n",
      "Gym Observation Space Shape: None\n",
      "Self Observation Space: Tuple(Box(10,))\n",
      "Self Observation Space Shape: None\n",
      "Reward Range: (-inf, inf)\n",
      "Metadata: {'render.modes': ['rgb_array']}\n",
      "Initial State: [array([ 2.3926267e+03,  3.7319370e+01, -3.7768066e+02, -2.9097432e-03,\n",
      "        9.2058080e-01,  3.1531379e-03, -3.9052874e-01,  2.5062500e+03,\n",
      "        4.1240845e+01, -3.6359070e+02], dtype=float32)]\n",
      "First Step State: ([array([ 2.3926272e+03,  3.7317383e+01, -3.7768079e+02, -3.7698867e-03,\n",
      "        9.2058468e-01,  5.0607547e-03, -3.9049214e-01,  2.5062500e+03,\n",
      "        4.1240845e+01, -3.6359070e+02], dtype=float32)], -1e-04, False, {'step': <mlagents_envs.base_env.DecisionSteps object at 0x00000289CCCA52E0>})\n"
     ]
    },
    {
     "name": "stderr",
     "output_type": "stream",
     "text": [
      "c:\\Miniconda3\\envs\\ezai\\lib\\site-packages\\gym\\logger.py:30: UserWarning: \u001b[33mWARN: Box bound precision lowered by casting to float32\u001b[0m\n",
      "  warnings.warn(colorize('%s: %s'%('WARN', msg % args), 'yellow'))\n"
     ]
    }
   ],
   "source": [
    "env = airsim.AirSimEnv(filename=uenv_file, observation_mode = 0)\n",
    "env.info()"
   ]
  },
  {
   "cell_type": "code",
   "execution_count": 4,
   "metadata": {
    "ExecuteTime": {
     "end_time": "2020-10-13T03:41:30.847912Z",
     "start_time": "2020-10-13T03:41:30.800906Z"
    }
   },
   "outputs": [],
   "source": [
    "from ezai_util import DictObj"
   ]
  },
  {
   "cell_type": "code",
   "execution_count": 5,
   "metadata": {
    "ExecuteTime": {
     "end_time": "2020-10-13T03:41:30.904922Z",
     "start_time": "2020-10-13T03:41:30.849916Z"
    }
   },
   "outputs": [
    {
     "name": "stderr",
     "output_type": "stream",
     "text": [
      "ezai - I - Making empty DictObj because not given a dict or a json filename\n",
      "2020-10-12 23:41:30 INFO [dict.py:41] Making empty DictObj because not given a dict or a json filename\n",
      "ezai - I - Making empty DictObj because not given a dict or a json filename\n",
      "2020-10-12 23:41:30 INFO [dict.py:41] Making empty DictObj because not given a dict or a json filename\n"
     ]
    }
   ],
   "source": [
    "model_conf = DictObj()\n",
    "model_conf.n_x = env.n_x\n",
    "model_conf.n_y = env.n_y\n",
    "model_conf.n_batch_size = 64\n",
    "model_conf.n_epochs = 10\n",
    "\n",
    "policy_conf = DictObj()\n",
    "policy_conf.discount_rate=0.9\n",
    "policy_conf.learning_rate=0.8\n",
    "policy_conf.explore_rate_max=0.9\n",
    "policy_conf.explore_rate_min=0.01\n",
    "policy_conf.explore_rate_decay=0.005\n",
    "policy_conf.memory_capacity = model_conf.n_batch_size * 10\n",
    "\n",
    "rl_conf = DictObj({\n",
    "  \"env_name\":'airsim',\n",
    "  \"seed\": 123,\n",
    "  \"discount\": 0.99,\n",
    "  \"tau\": 5e-3,\n",
    "  \"time_steps\": 100,\n",
    "  \"expl_noise\": 0.1,\n",
    "  \"batch_size\": 256,\n",
    "  \"batches_before_train\": 2,\n",
    "  \"evaluate_frequency\": 5e3,\n",
    "  \"episode_max_steps\":2500,\n",
    "  \"memory_capacity\":10000,\n",
    "  \"num_episodes\":5\n",
    "})"
   ]
  },
  {
   "cell_type": "code",
   "execution_count": 8,
   "metadata": {
    "ExecuteTime": {
     "end_time": "2020-10-13T03:42:02.824309Z",
     "start_time": "2020-10-13T03:42:02.684760Z"
    }
   },
   "outputs": [
    {
     "name": "stderr",
     "output_type": "stream",
     "text": [
      "2020-10-12 23:42:02 WARNING [__init__.py:270] Could not seed environment VisualNavigator?team=0\n"
     ]
    },
    {
     "name": "stdout",
     "output_type": "stream",
     "text": [
      "(10,)\n"
     ]
    }
   ],
   "source": [
    "trainer = airsim.Trainer(rl_conf,env,enable_logging=True)"
   ]
  },
  {
   "cell_type": "code",
   "execution_count": 9,
   "metadata": {
    "ExecuteTime": {
     "end_time": "2020-10-13T03:57:03.629926Z",
     "start_time": "2020-10-13T03:42:04.044579Z"
    }
   },
   "outputs": [
    {
     "name": "stderr",
     "output_type": "stream",
     "text": [
      "  0%|                                                                                            | 0/5 [00:00<?, ?it/s]2020-10-12 23:42:10 WARNING [__init__.py:270] Could not seed environment VisualNavigator?team=0\n",
      "2020-10-12 23:43:42 WARNING [__init__.py:270] Could not seed environment VisualNavigator?team=0\n",
      " 20%|████████████████▌                                                                  | 1/5 [03:03<12:12, 183.06s/it]2020-10-12 23:45:13 WARNING [__init__.py:270] Could not seed environment VisualNavigator?team=0\n",
      "2020-10-12 23:46:46 WARNING [__init__.py:270] Could not seed environment VisualNavigator?team=0\n",
      " 40%|█████████████████████████████████▏                                                 | 2/5 [06:04<09:07, 182.63s/it]2020-10-12 23:48:14 WARNING [__init__.py:270] Could not seed environment VisualNavigator?team=0\n",
      "2020-10-12 23:49:43 WARNING [__init__.py:270] Could not seed environment VisualNavigator?team=0\n",
      " 60%|█████████████████████████████████████████████████▊                                 | 3/5 [09:03<06:02, 181.47s/it]2020-10-12 23:51:13 WARNING [__init__.py:270] Could not seed environment VisualNavigator?team=0\n",
      "2020-10-12 23:52:42 WARNING [__init__.py:270] Could not seed environment VisualNavigator?team=0\n",
      " 80%|██████████████████████████████████████████████████████████████████▍                | 4/5 [12:01<03:00, 180.43s/it]2020-10-12 23:54:11 WARNING [__init__.py:270] Could not seed environment VisualNavigator?team=0\n",
      "2020-10-12 23:55:40 WARNING [__init__.py:270] Could not seed environment VisualNavigator?team=0\n",
      "100%|███████████████████████████████████████████████████████████████████████████████████| 5/5 [14:59<00:00, 179.90s/it]\n"
     ]
    },
    {
     "ename": "TypeError",
     "evalue": "cannot unpack non-iterable NoneType object",
     "output_type": "error",
     "traceback": [
      "\u001b[1;31m---------------------------------------------------------------------------\u001b[0m",
      "\u001b[1;31mTypeError\u001b[0m                                 Traceback (most recent call last)",
      "\u001b[1;32m<ipython-input-9-22bff8995811>\u001b[0m in \u001b[0;36m<module>\u001b[1;34m\u001b[0m\n\u001b[1;32m----> 1\u001b[1;33m \u001b[0mepisode_rewards\u001b[0m\u001b[1;33m,\u001b[0m \u001b[0mevaluations\u001b[0m \u001b[1;33m=\u001b[0m \u001b[0mtrainer\u001b[0m\u001b[1;33m.\u001b[0m\u001b[0mtrain\u001b[0m\u001b[1;33m(\u001b[0m\u001b[1;33m)\u001b[0m\u001b[1;33m\u001b[0m\u001b[1;33m\u001b[0m\u001b[0m\n\u001b[0m",
      "\u001b[1;31mTypeError\u001b[0m: cannot unpack non-iterable NoneType object"
     ]
    }
   ],
   "source": [
    "trainer.train()"
   ]
  },
  {
   "cell_type": "code",
   "execution_count": 10,
   "metadata": {
    "ExecuteTime": {
     "end_time": "2020-10-13T13:44:56.490693Z",
     "start_time": "2020-10-13T13:44:56.223686Z"
    }
   },
   "outputs": [],
   "source": [
    "trainer.agent.save_actor('airsim.onnx')"
   ]
  },
  {
   "cell_type": "code",
   "execution_count": 11,
   "metadata": {
    "ExecuteTime": {
     "end_time": "2020-10-13T13:45:02.070076Z",
     "start_time": "2020-10-13T13:44:58.191139Z"
    }
   },
   "outputs": [
    {
     "name": "stderr",
     "output_type": "stream",
     "text": [
      "2020-10-13 09:45:02 INFO [environment.py:417] Environment shut down with return code 0 (CTRL_C_EVENT).\n"
     ]
    }
   ],
   "source": [
    "env.close()"
   ]
  },
  {
   "cell_type": "code",
   "execution_count": null,
   "metadata": {},
   "outputs": [],
   "source": []
  }
 ],
 "metadata": {
  "kernelspec": {
   "display_name": "Python 3",
   "language": "python",
   "name": "python3"
  },
  "language_info": {
   "codemirror_mode": {
    "name": "ipython",
    "version": 3
   },
   "file_extension": ".py",
   "mimetype": "text/x-python",
   "name": "python",
   "nbconvert_exporter": "python",
   "pygments_lexer": "ipython3",
   "version": "3.8.5"
  },
  "toc": {
   "base_numbering": 1,
   "nav_menu": {},
   "number_sections": true,
   "sideBar": true,
   "skip_h1_title": false,
   "title_cell": "Table of Contents",
   "title_sidebar": "Contents",
   "toc_cell": false,
   "toc_position": {},
   "toc_section_display": true,
   "toc_window_display": false
  },
  "varInspector": {
   "cols": {
    "lenName": 16,
    "lenType": 16,
    "lenVar": 40
   },
   "kernels_config": {
    "python": {
     "delete_cmd_postfix": "",
     "delete_cmd_prefix": "del ",
     "library": "var_list.py",
     "varRefreshCmd": "print(var_dic_list())"
    },
    "r": {
     "delete_cmd_postfix": ") ",
     "delete_cmd_prefix": "rm(",
     "library": "var_list.r",
     "varRefreshCmd": "cat(var_dic_list()) "
    }
   },
   "types_to_exclude": [
    "module",
    "function",
    "builtin_function_or_method",
    "instance",
    "_Feature"
   ],
   "window_display": false
  }
 },
 "nbformat": 4,
 "nbformat_minor": 4
}
