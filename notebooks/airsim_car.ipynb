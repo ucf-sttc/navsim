{
 "cells": [
  {
   "cell_type": "code",
   "execution_count": 1,
   "metadata": {
    "ExecuteTime": {
     "end_time": "2020-10-19T14:19:04.218627Z",
     "start_time": "2020-10-19T14:19:03.444642Z"
    }
   },
   "outputs": [
    {
     "name": "stdout",
     "output_type": "stream",
     "text": [
      "D:\\work\\projects\\ezai_util\n",
      "D:\\work\\projects\\ai_coop_py\n"
     ]
    }
   ],
   "source": [
    "import sys\n",
    "import os\n",
    "from pathlib import Path\n",
    "\n",
    "%reload_ext autoreload\n",
    "%autoreload 2\n",
    "\n",
    "base_path=Path(\"d:/\")\n",
    "base_path = base_path / \"work\" / \"projects\"\n",
    "for pkg in ['ezai_util','ai_coop_py']:\n",
    "    pkg_path = base_path / pkg\n",
    "    pkg_path = str(pkg_path.resolve())\n",
    "    print(pkg_path)\n",
    "    if not pkg_path in sys.path:\n",
    "        sys.path.append(pkg_path)\n",
    "import ezai_util\n",
    "import airsim\n",
    "from ezai_util import DictObj"
   ]
  },
  {
   "cell_type": "code",
   "execution_count": 2,
   "metadata": {
    "ExecuteTime": {
     "end_time": "2020-10-19T14:19:04.267636Z",
     "start_time": "2020-10-19T14:19:04.220628Z"
    }
   },
   "outputs": [],
   "source": [
    "uenv_path = Path(\"d:/\") / 'work' / 'unity-envs'\n",
    "#uenv_file = uenv_path / \"berlin_walk_ml_beta\" / 'Berlin_ML'\n",
    "uenv_file = uenv_path / \"Berlin_URP\" / 'Berlin_ML'\n",
    "\n",
    "uenv_file = str(uenv_file.resolve())\n",
    "#uenv_file = None  # if you want to use editor then uncomment it"
   ]
  },
  {
   "cell_type": "code",
   "execution_count": 3,
   "metadata": {
    "ExecuteTime": {
     "end_time": "2020-10-19T14:19:04.318649Z",
     "start_time": "2020-10-19T14:19:04.269642Z"
    }
   },
   "outputs": [],
   "source": [
    "rl_conf = DictObj({\n",
    "  \"env_name\":'airsim',\n",
    "  \"seed\": 123,\n",
    "  \"discount\": 0.99,\n",
    "  \"tau\": 5e-3,\n",
    "  \"expl_noise\": 0.1,\n",
    "  \"batch_size\": 256,\n",
    "  \"batches_before_train\": 2,\n",
    "  \"memory_capacity\":10000,\n",
    "  \"episode_max_steps\":100,\n",
    "  \"num_episodes\":2\n",
    "})\n",
    "\n",
    "env_conf = DictObj({\n",
    "    'filename' : uenv_file,\n",
    "    'log_folder' : 'unity-logs',  # TODO: Replace exp-id-1 with something from env\n",
    "    'seed' : rl_conf.seed,\n",
    "    'observation_mode' : 0,\n",
    "    'max_steps' : rl_conf.episode_max_steps,\n",
    "    'reward_for_goal' : 50,\n",
    "    'reward_for_ep': .005,\n",
    "    'reward_for_other' : -.1,\n",
    "    'reward_for_falling_off_map' :  -50,\n",
    "    'reward_for_step': -.0001,\n",
    "    'segmentation_mode': 1\n",
    "})"
   ]
  },
  {
   "cell_type": "code",
   "execution_count": 4,
   "metadata": {
    "ExecuteTime": {
     "end_time": "2020-10-19T14:20:31.450360Z",
     "start_time": "2020-10-19T14:19:04.319644Z"
    }
   },
   "outputs": [
    {
     "name": "stderr",
     "output_type": "stream",
     "text": [
      "2020-10-19 10:19:50 INFO [environment.py:107] Connected to Unity environment with package version 1.1.0-preview and communication version 1.0.0\n",
      "2020-10-19 10:19:52 INFO [environment.py:265] Connected new brain:\n",
      "VectorNavigator?team=0\n"
     ]
    },
    {
     "name": "stdout",
     "output_type": "stream",
     "text": [
      "Env Info\n",
      "-----------\n",
      "Action Space: Box(2,)\n",
      "Action sample: [ 0.39293838 -0.42772132]\n",
      "Action Space Shape: (2,)\n",
      "Action Space Low: [-1. -1.]\n",
      "Action Space High: [1. 1.]\n",
      "Observation Mode: 0\n",
      "Gym Observation Space: Tuple(Box(10,))\n",
      "Gym Observation Space Shape: None\n",
      "Self Observation Space: Tuple(Box(10,))\n",
      "Self Observation Space Shape: None\n",
      "Reward Range: (-inf, inf)\n",
      "Metadata: {'render.modes': ['rgb_array']}\n",
      "Initial State: [array([ 3.0437227e+03,  3.5454102e+01,  8.5054102e+02, -1.3631051e-09,\n",
      "        9.9539620e-01, -7.4505797e-09,  9.5845744e-02,  1.1848356e+03,\n",
      "        3.5924671e+01,  2.8484259e+02], dtype=float32)]\n",
      "First Step State: ([array([ 3.0437227e+03,  3.5448639e+01,  8.5054102e+02, -1.3631051e-09,\n",
      "        9.9539620e-01, -7.4505797e-09,  9.5845744e-02,  1.1848356e+03,\n",
      "        3.5924671e+01,  2.8484259e+02], dtype=float32)], -1e-04, False, {'step': <mlagents_envs.base_env.DecisionSteps object at 0x0000026EC97F1340>})\n"
     ]
    },
    {
     "name": "stderr",
     "output_type": "stream",
     "text": [
      "c:\\Miniconda3\\envs\\ezai\\lib\\site-packages\\gym\\logger.py:30: UserWarning: \u001b[33mWARN: Box bound precision lowered by casting to float32\u001b[0m\n",
      "  warnings.warn(colorize('%s: %s'%('WARN', msg % args), 'yellow'))\n"
     ]
    }
   ],
   "source": [
    "env = airsim.AirSimEnv(env_conf) #filename=uenv_file, observation_mode = 0, max_steps = rl_conf.episode_max_steps)\n",
    "env.info()"
   ]
  },
  {
   "cell_type": "code",
   "execution_count": 5,
   "metadata": {
    "ExecuteTime": {
     "end_time": "2020-10-19T14:20:34.654687Z",
     "start_time": "2020-10-19T14:20:31.452357Z"
    }
   },
   "outputs": [
    {
     "name": "stderr",
     "output_type": "stream",
     "text": [
      "2020-10-19 10:20:34 WARNING [__init__.py:270] Could not seed environment VectorNavigator?team=0\n"
     ]
    }
   ],
   "source": [
    "trainer = airsim.Trainer(rl_conf,env,enable_logging=False)"
   ]
  },
  {
   "cell_type": "code",
   "execution_count": 6,
   "metadata": {
    "ExecuteTime": {
     "end_time": "2020-10-19T14:20:35.990302Z",
     "start_time": "2020-10-19T14:20:34.656700Z"
    }
   },
   "outputs": [
    {
     "name": "stderr",
     "output_type": "stream",
     "text": [
      "100%|████████████████████████████████████████████████████████████████████████████████████| 2/2 [00:01<00:00,  1.58it/s]\n"
     ]
    }
   ],
   "source": [
    "trainer.train()"
   ]
  },
  {
   "cell_type": "code",
   "execution_count": 7,
   "metadata": {
    "ExecuteTime": {
     "end_time": "2020-10-19T14:20:37.114331Z",
     "start_time": "2020-10-19T14:20:35.994303Z"
    }
   },
   "outputs": [],
   "source": [
    "trainer.agent.save_actor('model.onnx')"
   ]
  },
  {
   "cell_type": "code",
   "execution_count": 8,
   "metadata": {
    "ExecuteTime": {
     "end_time": "2020-10-19T14:20:42.654702Z",
     "start_time": "2020-10-19T14:20:37.116333Z"
    }
   },
   "outputs": [
    {
     "name": "stderr",
     "output_type": "stream",
     "text": [
      "2020-10-19 10:20:42 INFO [environment.py:417] Environment shut down with return code 0 (CTRL_C_EVENT).\n"
     ]
    }
   ],
   "source": [
    "env.close()"
   ]
  },
  {
   "cell_type": "code",
   "execution_count": null,
   "metadata": {},
   "outputs": [],
   "source": []
  }
 ],
 "metadata": {
  "kernelspec": {
   "display_name": "Python 3",
   "language": "python",
   "name": "python3"
  },
  "language_info": {
   "codemirror_mode": {
    "name": "ipython",
    "version": 3
   },
   "file_extension": ".py",
   "mimetype": "text/x-python",
   "name": "python",
   "nbconvert_exporter": "python",
   "pygments_lexer": "ipython3",
   "version": "3.8.5"
  },
  "toc": {
   "base_numbering": 1,
   "nav_menu": {},
   "number_sections": true,
   "sideBar": true,
   "skip_h1_title": false,
   "title_cell": "Table of Contents",
   "title_sidebar": "Contents",
   "toc_cell": false,
   "toc_position": {},
   "toc_section_display": true,
   "toc_window_display": false
  },
  "varInspector": {
   "cols": {
    "lenName": 16,
    "lenType": 16,
    "lenVar": 40
   },
   "kernels_config": {
    "python": {
     "delete_cmd_postfix": "",
     "delete_cmd_prefix": "del ",
     "library": "var_list.py",
     "varRefreshCmd": "print(var_dic_list())"
    },
    "r": {
     "delete_cmd_postfix": ") ",
     "delete_cmd_prefix": "rm(",
     "library": "var_list.r",
     "varRefreshCmd": "cat(var_dic_list()) "
    }
   },
   "types_to_exclude": [
    "module",
    "function",
    "builtin_function_or_method",
    "instance",
    "_Feature"
   ],
   "window_display": false
  }
 },
 "nbformat": 4,
 "nbformat_minor": 4
}
