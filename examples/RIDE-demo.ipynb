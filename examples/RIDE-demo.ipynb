{
 "cells": [
  {
   "cell_type": "markdown",
   "id": "bdedf0ce",
   "metadata": {},
   "source": [
    "# Demo and test of RIDE environments"
   ]
  },
  {
   "cell_type": "code",
   "execution_count": null,
   "id": "94f1204b",
   "metadata": {
    "ExecuteTime": {
     "end_time": "2022-03-31T16:27:45.135579Z",
     "start_time": "2022-03-31T16:27:45.106247Z"
    }
   },
   "outputs": [],
   "source": [
    "%reload_ext autoreload\n",
    "%autoreload 2\n",
    "\n",
    "#from navsim_envs import ride as navenv\n",
    "from navsim_envs.ride import default_env_config\n",
    "from navsim_envs.ride import RideUnityEnv as UnityEnv\n",
    "from navsim_envs.ride import RideGymEnv as GymEnv\n",
    "import gym\n",
    "import matplotlib.pyplot as plt\n",
    "from ezai.env import env_info\n",
    "import numpy as np\n",
    "import copy\n",
    "import yaml"
   ]
  },
  {
   "cell_type": "code",
   "execution_count": null,
   "id": "3c2ec398",
   "metadata": {
    "ExecuteTime": {
     "end_time": "2022-03-31T16:27:46.498369Z",
     "start_time": "2022-03-31T16:27:46.471780Z"
    }
   },
   "outputs": [],
   "source": [
    "env_config = default_env_config.copy()\n",
    "env_config[\"env_path\"]=\"/data/work/unity-envs/RIDE_0.4.1/RIDE\"\n",
    "env_config[\"seed\"]=123\n",
    "env_id = \"ride-v0\""
   ]
  },
  {
   "cell_type": "code",
   "execution_count": null,
   "id": "9983be96",
   "metadata": {
    "ExecuteTime": {
     "end_time": "2022-03-31T16:27:49.419033Z",
     "start_time": "2022-03-31T16:27:49.395818Z"
    },
    "scrolled": false
   },
   "outputs": [],
   "source": [
    "print(yaml.dump(env_config))"
   ]
  },
  {
   "cell_type": "markdown",
   "id": "814e2039",
   "metadata": {
    "ExecuteTime": {
     "end_time": "2022-01-16T13:59:02.546834Z",
     "start_time": "2022-01-16T13:59:02.524137Z"
    }
   },
   "source": [
    "# The UnityEnv"
   ]
  },
  {
   "cell_type": "code",
   "execution_count": null,
   "id": "53de9e07",
   "metadata": {
    "ExecuteTime": {
     "end_time": "2022-03-31T16:26:49.718697Z",
     "start_time": "2022-03-31T16:26:45.166964Z"
    }
   },
   "outputs": [],
   "source": [
    "uenv = UnityEnv(env_config)"
   ]
  },
  {
   "cell_type": "code",
   "execution_count": null,
   "id": "005ea667",
   "metadata": {
    "ExecuteTime": {
     "end_time": "2022-03-31T16:26:53.771258Z",
     "start_time": "2022-03-31T16:26:53.064982Z"
    }
   },
   "outputs": [],
   "source": [
    "uenv.reset()"
   ]
  },
  {
   "cell_type": "code",
   "execution_count": null,
   "id": "fa0a1a0e",
   "metadata": {
    "ExecuteTime": {
     "end_time": "2022-03-31T16:27:16.884328Z",
     "start_time": "2022-03-31T16:27:16.871800Z"
    }
   },
   "outputs": [],
   "source": [
    "print(uenv.unity_max_x,uenv.unity_max_z)"
   ]
  },
  {
   "cell_type": "code",
   "execution_count": null,
   "id": "d1fdcfd8",
   "metadata": {
    "ExecuteTime": {
     "end_time": "2022-03-31T16:27:19.886157Z",
     "start_time": "2022-03-31T16:27:19.867444Z"
    }
   },
   "outputs": [],
   "source": [
    "print(uenv.navmap_max_x,uenv.navmap_max_y)"
   ]
  },
  {
   "cell_type": "code",
   "execution_count": null,
   "id": "d18dc1b8",
   "metadata": {
    "ExecuteTime": {
     "end_time": "2022-03-31T16:27:23.330360Z",
     "start_time": "2022-03-31T16:27:22.552382Z"
    }
   },
   "outputs": [],
   "source": [
    "uenv.close()"
   ]
  },
  {
   "cell_type": "markdown",
   "id": "46e8515e",
   "metadata": {},
   "source": [
    "# The GymEnv"
   ]
  },
  {
   "cell_type": "code",
   "execution_count": null,
   "id": "9e0e0492",
   "metadata": {
    "ExecuteTime": {
     "start_time": "2022-03-31T16:27:58.262Z"
    }
   },
   "outputs": [],
   "source": [
    "# look at all observation modes\n",
    "for i in UnityEnv.observation_modes:\n",
    "    env_config[\"obs_mode\"]=i\n",
    "    env = gym.make(env_id, env_config=env_config) # ride.RideGymEnv(env_config)\n",
    "    print('Observation Mode {}'.format(env_config[\"obs_mode\"]))\n",
    "    env_info(env)\n",
    "    env.close()\n",
    "    del env"
   ]
  },
  {
   "cell_type": "code",
   "execution_count": null,
   "id": "d3604cd9",
   "metadata": {
    "ExecuteTime": {
     "end_time": "2022-02-17T14:11:18.137906Z",
     "start_time": "2022-02-17T14:11:12.796231Z"
    }
   },
   "outputs": [],
   "source": [
    "# test for 5 steps forward and 5 steps back \n",
    "env_config[\"obs_mode\"]=0\n",
    "env = gym.make(env_id, env_config=env_config)\n",
    "\n",
    "steps = 5\n",
    "print(env.reset())\n",
    "print(\"Forward:\")\n",
    "for i in range(steps):\n",
    "    print(env.step(navenv.forward)[0])\n",
    "print(\"Backward:\")\n",
    "for i in range(steps):\n",
    "    print(env.step(navenv.backward)[0])\n",
    "env.close()\n",
    "del env"
   ]
  },
  {
   "cell_type": "code",
   "execution_count": null,
   "id": "0e1165e5",
   "metadata": {},
   "outputs": [],
   "source": []
  },
  {
   "cell_type": "markdown",
   "id": "a33f51a9",
   "metadata": {},
   "source": [
    "# Pending bugs"
   ]
  },
  {
   "cell_type": "code",
   "execution_count": null,
   "id": "a50f2c63",
   "metadata": {},
   "outputs": [],
   "source": [
    "# open uenv, run genv, then close uenv "
   ]
  }
 ],
 "metadata": {
  "kernelspec": {
   "display_name": "Python 3 (ipykernel)",
   "language": "python",
   "name": "python3"
  },
  "language_info": {
   "codemirror_mode": {
    "name": "ipython",
    "version": 3
   },
   "file_extension": ".py",
   "mimetype": "text/x-python",
   "name": "python",
   "nbconvert_exporter": "python",
   "pygments_lexer": "ipython3",
   "version": "3.8.12"
  },
  "toc": {
   "base_numbering": 1,
   "nav_menu": {},
   "number_sections": true,
   "sideBar": true,
   "skip_h1_title": false,
   "title_cell": "Table of Contents",
   "title_sidebar": "Contents",
   "toc_cell": false,
   "toc_position": {},
   "toc_section_display": true,
   "toc_window_display": false
  },
  "varInspector": {
   "cols": {
    "lenName": 16,
    "lenType": 16,
    "lenVar": 40
   },
   "kernels_config": {
    "python": {
     "delete_cmd_postfix": "",
     "delete_cmd_prefix": "del ",
     "library": "var_list.py",
     "varRefreshCmd": "print(var_dic_list())"
    },
    "r": {
     "delete_cmd_postfix": ") ",
     "delete_cmd_prefix": "rm(",
     "library": "var_list.r",
     "varRefreshCmd": "cat(var_dic_list()) "
    }
   },
   "types_to_exclude": [
    "module",
    "function",
    "builtin_function_or_method",
    "instance",
    "_Feature"
   ],
   "window_display": false
  }
 },
 "nbformat": 4,
 "nbformat_minor": 5
}
