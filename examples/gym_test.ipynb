{
 "cells": [
  {
   "cell_type": "code",
   "execution_count": 6,
   "id": "df05b41c",
   "metadata": {
    "ExecuteTime": {
     "end_time": "2021-07-29T01:34:27.806890Z",
     "start_time": "2021-07-29T01:34:27.766602Z"
    }
   },
   "outputs": [],
   "source": [
    "%reload_ext autoreload\n",
    "%autoreload 2\n",
    "\n",
    "import navsim\n",
    "import gym\n",
    "import matplotlib.pyplot as plt\n",
    "import numpy as np\n",
    "from navsim.util.dict import ObjDict\n",
    "from navsim.executor.navsim_executor import Executor"
   ]
  },
  {
   "cell_type": "code",
   "execution_count": 7,
   "id": "9b980e91",
   "metadata": {
    "ExecuteTime": {
     "end_time": "2021-07-29T01:34:29.308470Z",
     "start_time": "2021-07-29T01:34:29.285706Z"
    }
   },
   "outputs": [],
   "source": [
    "env = gym.make('MountainCarContinuous-v0')"
   ]
  },
  {
   "cell_type": "code",
   "execution_count": 9,
   "id": "f07de65a",
   "metadata": {
    "ExecuteTime": {
     "end_time": "2021-07-29T01:35:20.934291Z",
     "start_time": "2021-07-29T01:35:20.861550Z"
    }
   },
   "outputs": [
    {
     "name": "stdout",
     "output_type": "stream",
     "text": [
      "-----------\n",
      "Env Info\n",
      "-----------\n",
      "MountainCarContinuous-v0\n",
      "Action Space: Box(-1.0, 1.0, (1,), float32)\n",
      "Observation Space: Box(-1.2000000476837158, 0.6000000238418579, (2,), float32)\n",
      "Reward Range: (-inf, inf)\n",
      "Metadata: {'render.modes': ['human', 'rgb_array'], 'video.frames_per_second': 30}\n",
      "--------------------------------------\n"
     ]
    }
   ],
   "source": [
    "navsim.util.env_info(env)"
   ]
  },
  {
   "cell_type": "code",
   "execution_count": 10,
   "id": "d5af6659",
   "metadata": {
    "ExecuteTime": {
     "end_time": "2021-07-29T01:35:32.698836Z",
     "start_time": "2021-07-29T01:35:32.677724Z"
    }
   },
   "outputs": [],
   "source": [
    "run_conf = ObjDict({\n",
    "    \"run_id\": \"mcar_demo\",\n",
    "    \"env\": 'MountainCarContinuous-v0',\n",
    "    \"agent_gpu_id\": 0,\n",
    "    \"num_workers\": 1,\n",
    "    \"episode_max_steps\": 1000,\n",
    "    \"total_episodes\": 2,\n",
    "    \"seed\": 123,\n",
    "    \"discount\": 0.99,\n",
    "    \"tau\": 5e-3,\n",
    "    \"expl_noise\": 0.1,\n",
    "    \"memory_capacity\": 100,\n",
    "    \"batch_size\": 32,\n",
    "    \"checkpoint_interval\": 1,\n",
    "    \"train_interval\": 1,\n",
    "    \"mem_backend\": \"numpy\",\n",
    "    \"clear_memory\": True,\n",
    "    \"log_level\": \"DEBUG\",\n",
    "    \"framework\": \"torch\"\n",
    "})"
   ]
  },
  {
   "cell_type": "code",
   "execution_count": 11,
   "id": "38850acb",
   "metadata": {
    "ExecuteTime": {
     "end_time": "2021-07-29T01:35:34.166460Z",
     "start_time": "2021-07-29T01:35:34.141177Z"
    }
   },
   "outputs": [],
   "source": [
    "conf = ObjDict()\n",
    "conf['run_config'] = run_conf"
   ]
  },
  {
   "cell_type": "code",
   "execution_count": 12,
   "id": "8bce52b0",
   "metadata": {
    "ExecuteTime": {
     "end_time": "2021-07-29T01:35:38.512321Z",
     "start_time": "2021-07-29T01:35:35.237837Z"
    }
   },
   "outputs": [
    {
     "name": "stdout",
     "output_type": "stream",
     "text": [
      "env creation resource usage: \n",
      "time:0.0015105709999998496,peak_memory:8.0KiB,current_memory:6.5KiB\n",
      "\n",
      "-----------\n",
      "Env Info\n",
      "-----------\n",
      "MountainCarContinuous-v0\n",
      "Action Space: Box(-1.0, 1.0, (1,), float32)\n",
      "Observation Space: Box(-1.2000000476837158, 0.6000000238418579, (2,), float32)\n",
      "Reward Range: (-inf, inf)\n",
      "Metadata: {'render.modes': ['human', 'rgb_array'], 'video.frames_per_second': 30}\n",
      "--------------------------------------\n",
      "Torch is using cuda:0, 1 threads and 1 interop threads\n",
      "Warning: GPU is available but mem_backend=numpy\n",
      "-----------\n",
      "Memory Info\n",
      "-----------\n",
      "module: NumpyMemory \n",
      "capacity: 100 \n",
      "size: 0 \n",
      "current pointer: 0 \n",
      "seed: 123 \n",
      "Shapes and types: \n",
      "s: [\"(100, 2) of <class 'numpy.ndarray'>\"] \n",
      "a: (100, 1) <class 'numpy.ndarray'> \n",
      "r: (100, 1) <class 'numpy.ndarray'> \n",
      "s_: [\"(100, 2) of <class 'numpy.ndarray'>\"] \n",
      "d: (100, 1) <class 'numpy.ndarray'> \n",
      "\n",
      "----------------------------------------\n"
     ]
    }
   ],
   "source": [
    "executor = Executor(resume=False,conf=conf)"
   ]
  },
  {
   "cell_type": "code",
   "execution_count": 13,
   "id": "66f7cf2b",
   "metadata": {
    "ExecuteTime": {
     "end_time": "2021-07-29T01:35:41.498421Z",
     "start_time": "2021-07-29T01:35:41.409967Z"
    }
   },
   "outputs": [
    {
     "name": "stderr",
     "output_type": "stream",
     "text": [
      "Episode 1-1/2:   0%|                                          | 0/1 [?episode/s]\n"
     ]
    },
    {
     "ename": "AttributeError",
     "evalue": "'Continuous_MountainCarEnv' object has no attribute 'spl_current'",
     "output_type": "error",
     "traceback": [
      "\u001b[0;31m---------------------------------------------------------------------------\u001b[0m",
      "\u001b[0;31mAttributeError\u001b[0m                            Traceback (most recent call last)",
      "\u001b[0;32m/tmp/ipykernel_112733/3945168444.py\u001b[0m in \u001b[0;36m<module>\u001b[0;34m\u001b[0m\n\u001b[0;32m----> 1\u001b[0;31m \u001b[0mexecutor\u001b[0m\u001b[0;34m.\u001b[0m\u001b[0mexecute\u001b[0m\u001b[0;34m(\u001b[0m\u001b[0;34m)\u001b[0m\u001b[0;34m\u001b[0m\u001b[0;34m\u001b[0m\u001b[0m\n\u001b[0m",
      "\u001b[0;32m/data/afandang/projects/ai_coop_py/navsim/navsim/executor/navsim_executor.py\u001b[0m in \u001b[0;36mexecute\u001b[0;34m(self)\u001b[0m\n\u001b[1;32m    441\u001b[0m \u001b[0;34m\u001b[0m\u001b[0m\n\u001b[1;32m    442\u001b[0m                     \u001b[0mstep_rew\u001b[0m\u001b[0;34m[\u001b[0m\u001b[0mckpt_e\u001b[0m\u001b[0;34m,\u001b[0m \u001b[0mt\u001b[0m \u001b[0;34m-\u001b[0m \u001b[0;36m1\u001b[0m\u001b[0;34m]\u001b[0m \u001b[0;34m=\u001b[0m \u001b[0mr\u001b[0m\u001b[0;34m\u001b[0m\u001b[0;34m\u001b[0m\u001b[0m\n\u001b[0;32m--> 443\u001b[0;31m                     \u001b[0mstep_spl\u001b[0m\u001b[0;34m[\u001b[0m\u001b[0mckpt_e\u001b[0m\u001b[0;34m,\u001b[0m \u001b[0mt\u001b[0m \u001b[0;34m-\u001b[0m \u001b[0;36m1\u001b[0m\u001b[0;34m]\u001b[0m \u001b[0;34m=\u001b[0m \u001b[0mself\u001b[0m\u001b[0;34m.\u001b[0m\u001b[0menv\u001b[0m\u001b[0;34m.\u001b[0m\u001b[0mspl_current\u001b[0m\u001b[0;34m\u001b[0m\u001b[0;34m\u001b[0m\u001b[0m\n\u001b[0m\u001b[1;32m    444\u001b[0m                     step_loss[ckpt_e, t - 1] = [\n\u001b[1;32m    445\u001b[0m                         \u001b[0;36m0\u001b[0m \u001b[0;32mif\u001b[0m \u001b[0mself\u001b[0m\u001b[0;34m.\u001b[0m\u001b[0magent\u001b[0m\u001b[0;34m.\u001b[0m\u001b[0mactor_loss\u001b[0m \u001b[0;32mis\u001b[0m \u001b[0;32mNone\u001b[0m \u001b[0;32melse\u001b[0m \u001b[0mself\u001b[0m\u001b[0;34m.\u001b[0m\u001b[0magent\u001b[0m\u001b[0;34m.\u001b[0m\u001b[0mactor_loss\u001b[0m\u001b[0;34m.\u001b[0m\u001b[0mdata\u001b[0m\u001b[0;34m.\u001b[0m\u001b[0mcpu\u001b[0m\u001b[0;34m(\u001b[0m\u001b[0;34m)\u001b[0m\u001b[0;34m.\u001b[0m\u001b[0mnumpy\u001b[0m\u001b[0;34m(\u001b[0m\u001b[0;34m)\u001b[0m\u001b[0;34m,\u001b[0m\u001b[0;34m\u001b[0m\u001b[0;34m\u001b[0m\u001b[0m\n",
      "\u001b[0;32m/opt/conda/envs/navsim/lib/python3.8/site-packages/gym/core.py\u001b[0m in \u001b[0;36m__getattr__\u001b[0;34m(self, name)\u001b[0m\n\u001b[1;32m    221\u001b[0m         \u001b[0;32mif\u001b[0m \u001b[0mname\u001b[0m\u001b[0;34m.\u001b[0m\u001b[0mstartswith\u001b[0m\u001b[0;34m(\u001b[0m\u001b[0;34m'_'\u001b[0m\u001b[0;34m)\u001b[0m\u001b[0;34m:\u001b[0m\u001b[0;34m\u001b[0m\u001b[0;34m\u001b[0m\u001b[0m\n\u001b[1;32m    222\u001b[0m             \u001b[0;32mraise\u001b[0m \u001b[0mAttributeError\u001b[0m\u001b[0;34m(\u001b[0m\u001b[0;34m\"attempted to get missing private attribute '{}'\"\u001b[0m\u001b[0;34m.\u001b[0m\u001b[0mformat\u001b[0m\u001b[0;34m(\u001b[0m\u001b[0mname\u001b[0m\u001b[0;34m)\u001b[0m\u001b[0;34m)\u001b[0m\u001b[0;34m\u001b[0m\u001b[0;34m\u001b[0m\u001b[0m\n\u001b[0;32m--> 223\u001b[0;31m         \u001b[0;32mreturn\u001b[0m \u001b[0mgetattr\u001b[0m\u001b[0;34m(\u001b[0m\u001b[0mself\u001b[0m\u001b[0;34m.\u001b[0m\u001b[0menv\u001b[0m\u001b[0;34m,\u001b[0m \u001b[0mname\u001b[0m\u001b[0;34m)\u001b[0m\u001b[0;34m\u001b[0m\u001b[0;34m\u001b[0m\u001b[0m\n\u001b[0m\u001b[1;32m    224\u001b[0m \u001b[0;34m\u001b[0m\u001b[0m\n\u001b[1;32m    225\u001b[0m     \u001b[0;34m@\u001b[0m\u001b[0mproperty\u001b[0m\u001b[0;34m\u001b[0m\u001b[0;34m\u001b[0m\u001b[0m\n",
      "\u001b[0;31mAttributeError\u001b[0m: 'Continuous_MountainCarEnv' object has no attribute 'spl_current'"
     ]
    }
   ],
   "source": [
    "executor.execute()"
   ]
  },
  {
   "cell_type": "code",
   "execution_count": null,
   "id": "9fa8fa3c",
   "metadata": {
    "ExecuteTime": {
     "end_time": "2021-07-20T17:08:13.096631Z",
     "start_time": "2021-07-20T17:08:11.964Z"
    }
   },
   "outputs": [],
   "source": [
    "from gym import envs\n",
    "all_envs = envs.registry.all()\n",
    "env_ids = [env_spec.id for env_spec in all_envs]\n",
    "for env_id in env_ids:\n",
    "    try:\n",
    "        env = gym.make(env_id)\n",
    "        print(f'{env_id}:{type(env.action_space)}')\n",
    "        del env\n",
    "    except:\n",
    "        print(f'{env_id}:Cant create')"
   ]
  },
  {
   "cell_type": "code",
   "execution_count": null,
   "id": "536f5f02",
   "metadata": {},
   "outputs": [],
   "source": []
  }
 ],
 "metadata": {
  "kernelspec": {
   "display_name": "Python 3 (ipykernel)",
   "language": "python",
   "name": "python3"
  },
  "language_info": {
   "codemirror_mode": {
    "name": "ipython",
    "version": 3
   },
   "file_extension": ".py",
   "mimetype": "text/x-python",
   "name": "python",
   "nbconvert_exporter": "python",
   "pygments_lexer": "ipython3",
   "version": "3.8.10"
  },
  "toc": {
   "base_numbering": 1,
   "nav_menu": {},
   "number_sections": true,
   "sideBar": true,
   "skip_h1_title": false,
   "title_cell": "Table of Contents",
   "title_sidebar": "Contents",
   "toc_cell": false,
   "toc_position": {},
   "toc_section_display": true,
   "toc_window_display": false
  },
  "varInspector": {
   "cols": {
    "lenName": 16,
    "lenType": 16,
    "lenVar": 40
   },
   "kernels_config": {
    "python": {
     "delete_cmd_postfix": "",
     "delete_cmd_prefix": "del ",
     "library": "var_list.py",
     "varRefreshCmd": "print(var_dic_list())"
    },
    "r": {
     "delete_cmd_postfix": ") ",
     "delete_cmd_prefix": "rm(",
     "library": "var_list.r",
     "varRefreshCmd": "cat(var_dic_list()) "
    }
   },
   "types_to_exclude": [
    "module",
    "function",
    "builtin_function_or_method",
    "instance",
    "_Feature"
   ],
   "window_display": false
  }
 },
 "nbformat": 4,
 "nbformat_minor": 5
}
