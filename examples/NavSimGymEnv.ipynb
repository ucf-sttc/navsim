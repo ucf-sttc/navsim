{
 "cells": [
  {
   "cell_type": "code",
   "execution_count": 1,
   "id": "b314eec1",
   "metadata": {
    "ExecuteTime": {
     "end_time": "2021-07-22T19:09:29.465133Z",
     "start_time": "2021-07-22T19:09:29.133524Z"
    }
   },
   "outputs": [
    {
     "name": "stdout",
     "output_type": "stream",
     "text": [
      "Navsim: using cv2 as image library\n",
      "Navsim: Adding navsim-v0 to Gym registry\n"
     ]
    }
   ],
   "source": [
    "%reload_ext autoreload\n",
    "%autoreload 2\n",
    "\n",
    "import navsim\n",
    "import gym\n",
    "import matplotlib.pyplot as plt\n",
    "import numpy as np\n",
    "\n",
    "from navsim.env import env_info\n",
    "from navsim.util.dict import ObjDict"
   ]
  },
  {
   "cell_type": "code",
   "execution_count": 2,
   "id": "b7cc9d52",
   "metadata": {
    "ExecuteTime": {
     "end_time": "2021-07-22T19:09:32.899018Z",
     "start_time": "2021-07-22T19:09:32.885375Z"
    }
   },
   "outputs": [],
   "source": [
    "env_config = ObjDict({\n",
    "        \"env_path\": \"/data/work/unity-envs/Build2.10.2/Berlin_Walk_V2.x86_64\",\n",
    "        \"log_folder\":\"./env_log\", \n",
    "        \"task\": 0,\n",
    "        \"goal\": 0,\n",
    "        \"goal_distance\": 50,\n",
    "        \"reward_for_goal\": 50,\n",
    "        \"reward_for_no_viable_path\":-50,\n",
    "        \"reward_step_mul\": 0.1,\n",
    "        \"reward_collision_mul\": 4,\n",
    "        \"reward_spl_delta_mul\": 1,\n",
    "        \"agent_car_physics\": 0,   \n",
    "        \"debug\":False,\n",
    "        \"obs_mode\":0,\n",
    "        \"seed\":123,\n",
    "        \"start_from_episode\":1,\n",
    "        \"save_actions\":True,\n",
    "        \"save_vector_obs\":True,\n",
    "        \"save_visual_obs\":True\n",
    "    })"
   ]
  },
  {
   "cell_type": "code",
   "execution_count": null,
   "id": "fd2bac91",
   "metadata": {
    "ExecuteTime": {
     "end_time": "2021-07-22T18:47:53.134335Z",
     "start_time": "2021-07-22T18:47:45.237606Z"
    }
   },
   "outputs": [],
   "source": [
    "# look at all 3 observation modes\n",
    "\n",
    "for i in [0,1,2]:\n",
    "    env_config[\"obs_mode\"]=i\n",
    "    env = gym.make(\"navsim-v0\", env_config=env_config) # navsim.env.NavSimGymEnv(env_config)\n",
    "    env_info(env)\n",
    "    env.close()\n",
    "    del env"
   ]
  },
  {
   "cell_type": "code",
   "execution_count": null,
   "id": "fa3764e7",
   "metadata": {
    "ExecuteTime": {
     "end_time": "2021-07-22T14:41:52.875212Z",
     "start_time": "2021-07-22T14:41:40.419607Z"
    },
    "scrolled": false
   },
   "outputs": [],
   "source": [
    "# test for ten steps forward and ten steps back and navigable map example\n",
    "\n",
    "env_config[\"obs_mode\"]=2\n",
    "env = gym.make(\"navsim-v0\", env_config=env_config)\n",
    "\n",
    "print(env.reset()[-1])\n",
    "#action_sample = env.action_space.sample()\n",
    "print(\"Forward:\")\n",
    "for i in range(0,10):\n",
    "    action_sample = [1,0,0]\n",
    "    print(env.step(action_sample)[0][-1])\n",
    "print(\"Backward:\")\n",
    "for i in range(0,10):\n",
    "    action_sample = [-1,0,0]\n",
    "    print(env.step(action_sample)[0][-1])\n",
    "#action_sample = env.action_space.sample()\n",
    "#action_sample = [-1,0,0]\n",
    "#print(action_sample)\n",
    "#s2 = env.step(action_sample)\n",
    "env.close()\n",
    "del env"
   ]
  },
  {
   "cell_type": "code",
   "execution_count": 10,
   "id": "b9bbd718",
   "metadata": {
    "ExecuteTime": {
     "end_time": "2021-07-22T19:50:48.526609Z",
     "start_time": "2021-07-22T19:50:33.201056Z"
    }
   },
   "outputs": [
    {
     "name": "stdout",
     "output_type": "stream",
     "text": [
      "[INFO] Connected to Unity environment with package version 2.1.0-exp.1 and communication version 1.5.0\n",
      "[INFO] Created UnityEnvironment at port 5005 to start from episode 1\n",
      "[INFO] Connected new brain: VectorNavigator?team=0\n",
      "0.04005106\n",
      "0.04005106\n"
     ]
    }
   ],
   "source": [
    "env_config[\"obs_mode\"]=0\n",
    "env = gym.make(\"navsim-v0\", env_config=env_config)\n",
    "\n",
    "pos0=env.reset()[-1][0:3]\n",
    "pos1=env.step([1,0,0])[0][-1][0:3]\n",
    "pos2=env.step([-1,0,0])[0][-1][0:3]\n",
    "print(np.linalg.norm(pos1-pos0) - np.linalg.norm(pos2-pos1))\n",
    "\n",
    "env.close()\n",
    "del env"
   ]
  },
  {
   "cell_type": "code",
   "execution_count": 3,
   "id": "c18202c7",
   "metadata": {
    "ExecuteTime": {
     "end_time": "2021-07-22T19:14:00.559641Z",
     "start_time": "2021-07-22T19:13:50.074206Z"
    }
   },
   "outputs": [
    {
     "name": "stdout",
     "output_type": "stream",
     "text": [
      "[INFO] Connected to Unity environment with package version 2.1.0-exp.1 and communication version 1.5.0\n",
      "[INFO] Created UnityEnvironment at port 5005 to start from episode 1\n",
      "[INFO] Connected new brain: VectorNavigator?team=0\n"
     ]
    },
    {
     "name": "stderr",
     "output_type": "stream",
     "text": [
      "/opt/conda/envs/navsim/lib/python3.8/site-packages/gym/logger.py:30: UserWarning: \u001b[33mWARN: Box bound precision lowered by casting to float32\u001b[0m\n",
      "  warnings.warn(colorize('%s: %s'%('WARN', msg % args), 'yellow'))\n"
     ]
    }
   ],
   "source": [
    "env_config[\"obs_mode\"]=0\n",
    "env = gym.make(\"navsim-v0\", env_config=env_config) \n",
    "navigable_map = env.get_navigable_map()\n",
    "navigable_point = env.sample_navigable_point()\n",
    "env.close()"
   ]
  },
  {
   "cell_type": "code",
   "execution_count": 4,
   "id": "12d75f89",
   "metadata": {
    "ExecuteTime": {
     "end_time": "2021-07-22T19:14:03.311747Z",
     "start_time": "2021-07-22T19:14:03.301980Z"
    }
   },
   "outputs": [
    {
     "name": "stdout",
     "output_type": "stream",
     "text": [
      "[47 98]\n"
     ]
    }
   ],
   "source": [
    "print(navigable_point)"
   ]
  },
  {
   "cell_type": "code",
   "execution_count": 5,
   "id": "fb86186b",
   "metadata": {
    "ExecuteTime": {
     "end_time": "2021-07-22T19:14:28.784740Z",
     "start_time": "2021-07-22T19:14:28.590099Z"
    }
   },
   "outputs": [
    {
     "data": {
      "text/plain": [
       "<matplotlib.image.AxesImage at 0x7fe584398a30>"
      ]
     },
     "execution_count": 5,
     "metadata": {},
     "output_type": "execute_result"
    },
    {
     "data": {
      "image/png": "[encoded data removed]",
      "text/plain": [
       "<Figure size 432x288 with 1 Axes>"
      ]
     },
     "metadata": {
      "needs_background": "light"
     },
     "output_type": "display_data"
    }
   ],
   "source": [
    "plt.imshow(navigable_map,cmap='gray', vmin=0, vmax=1)"
   ]
  },
  {
   "cell_type": "code",
   "execution_count": null,
   "id": "42f5b33a",
   "metadata": {
    "ExecuteTime": {
     "end_time": "2021-07-22T14:43:00.154520Z",
     "start_time": "2021-07-22T14:41:53.096398Z"
    },
    "scrolled": false
   },
   "outputs": [],
   "source": [
    "# test for seeds for reset() and action samples\n",
    "\n",
    "num_episodes=10\n",
    "num_steps=10\n",
    "num_actions = 3\n",
    "seeds = [123,321]\n",
    "\n",
    "reset_obs=np.full((2,2,num_episodes,16),0.0)\n",
    "actions=np.full((2,2,num_episodes,num_steps,3),0.0)\n",
    "\n",
    "for i in range(len(seeds)):\n",
    "    env_config[\"seed\"]=seeds[i]\n",
    "    for j in range(2):\n",
    "        env = gym.make(\"navsim-v0\", env_config=env_config) \n",
    "        for e in range(num_episodes):\n",
    "            reset_obs[i,j,e,:] = env.reset()[-1]\n",
    "            for s in range(num_steps):\n",
    "                #for k in range(0,num_actions)\n",
    "                actions[i,j,e,s,:]=env.action_space.sample()\n",
    "        env.close()\n",
    "        del env\n",
    "#    print(reset_obs)\n",
    "#    print(actions)\n",
    "#TODO: add the compare logic"
   ]
  },
  {
   "cell_type": "code",
   "execution_count": null,
   "id": "3117f7d2",
   "metadata": {
    "ExecuteTime": {
     "end_time": "2021-07-22T14:43:52.694306Z",
     "start_time": "2021-07-22T14:43:00.213143Z"
    },
    "code_folding": [],
    "scrolled": false
   },
   "outputs": [],
   "source": [
    "# test for fast_forward\n",
    "\n",
    "num_episodes=20\n",
    "env_config[\"seed\"]=794\n",
    "\n",
    "reset_obs=np.full((2,num_episodes,16),0.0)\n",
    "env_config[\"debug\"]=True\n",
    "\n",
    "\n",
    "# no fast_forward 10\n",
    "env_config[\"start_from_episode\"]=1\n",
    "env_config[\"log_folder\"]=\"./env_log_1\"\n",
    "env = gym.make(\"navsim-v0\", env_config=env_config) \n",
    "for e in range(num_episodes):\n",
    "    reset_obs[0,e,:] = env.reset()[-1]\n",
    "env.close()\n",
    "del env\n",
    "\n",
    "# no fast forward 5\n",
    "env_config[\"start_from_episode\"]=1\n",
    "env_config[\"log_folder\"]=\"./env_log_2\"\n",
    "env = gym.make(\"navsim-v0\", env_config=env_config) \n",
    "for e in range(10):\n",
    "    reset_obs[1,e,:] = env.reset()[-1]\n",
    "env.close()\n",
    "del env\n",
    "# fast forward 5\n",
    "env_config[\"start_from_episode\"]=11\n",
    "env_config[\"log_folder\"]=\"./env_log_3\"\n",
    "\n",
    "env = gym.make(\"navsim-v0\", env_config=env_config) \n",
    "for e in range(10,num_episodes):\n",
    "    reset_obs[1,e,:] = env.reset()[-1]\n",
    "env.close()\n",
    "del env\n",
    "\n",
    "\n",
    "\n",
    "#    print(reset_obs)\n",
    "#    print(actions)\n",
    "#TODO: add the compare logic"
   ]
  },
  {
   "cell_type": "code",
   "execution_count": null,
   "id": "38831de0",
   "metadata": {
    "ExecuteTime": {
     "end_time": "2021-07-22T14:43:52.763752Z",
     "start_time": "2021-07-22T14:43:52.751647Z"
    }
   },
   "outputs": [],
   "source": [
    "print(reset_obs[0]-reset_obs[1])"
   ]
  },
  {
   "cell_type": "code",
   "execution_count": null,
   "id": "30c97a3b",
   "metadata": {},
   "outputs": [],
   "source": []
  }
 ],
 "metadata": {
  "kernelspec": {
   "display_name": "Python 3",
   "language": "python",
   "name": "python3"
  },
  "language_info": {
   "codemirror_mode": {
    "name": "ipython",
    "version": 3
   },
   "file_extension": ".py",
   "mimetype": "text/x-python",
   "name": "python",
   "nbconvert_exporter": "python",
   "pygments_lexer": "ipython3",
   "version": "3.8.10"
  },
  "toc": {
   "base_numbering": 1,
   "nav_menu": {},
   "number_sections": true,
   "sideBar": true,
   "skip_h1_title": false,
   "title_cell": "Table of Contents",
   "title_sidebar": "Contents",
   "toc_cell": false,
   "toc_position": {},
   "toc_section_display": true,
   "toc_window_display": false
  },
  "varInspector": {
   "cols": {
    "lenName": 16,
    "lenType": 16,
    "lenVar": 40
   },
   "kernels_config": {
    "python": {
     "delete_cmd_postfix": "",
     "delete_cmd_prefix": "del ",
     "library": "var_list.py",
     "varRefreshCmd": "print(var_dic_list())"
    },
    "r": {
     "delete_cmd_postfix": ") ",
     "delete_cmd_prefix": "rm(",
     "library": "var_list.r",
     "varRefreshCmd": "cat(var_dic_list()) "
    }
   },
   "types_to_exclude": [
    "module",
    "function",
    "builtin_function_or_method",
    "instance",
    "_Feature"
   ],
   "window_display": false
  }
 },
 "nbformat": 4,
 "nbformat_minor": 5
}
