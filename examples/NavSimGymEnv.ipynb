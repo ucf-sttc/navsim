{
 "cells": [
  {
   "cell_type": "code",
   "execution_count": 14,
   "id": "b314eec1",
   "metadata": {
    "ExecuteTime": {
     "end_time": "2021-07-26T22:22:13.966689Z",
     "start_time": "2021-07-26T22:22:13.931749Z"
    }
   },
   "outputs": [],
   "source": [
    "%reload_ext autoreload\n",
    "%autoreload 2\n",
    "\n",
    "import navsim_envs\n",
    "import gym\n",
    "import matplotlib.pyplot as plt\n",
    "import numpy as np\n",
    "\n",
    "from navsim_envs.util import env_info"
   ]
  },
  {
   "cell_type": "code",
   "execution_count": 15,
   "id": "b7cc9d52",
   "metadata": {
    "ExecuteTime": {
     "end_time": "2021-07-26T22:22:15.207153Z",
     "start_time": "2021-07-26T22:22:15.181827Z"
    }
   },
   "outputs": [],
   "source": [
    "env_config = {\n",
    "    \"agent_car_physics\": 0,\n",
    "    \"debug\": False,\n",
    "    \"episode_max_steps\": 1000,\n",
    "    \"env_gpu_id\": 0,\n",
    "    \"env_path\": \"/data/work/unity-envs/Build2.10.2-map/Berlin_Walk_V2.x86_64\",\n",
    "    \"goal\": 0,\n",
    "    \"goal_distance\": 50,\n",
    "    \"log_folder\": \"./env_log\",\n",
    "    \"obs_mode\": 0,\n",
    "    \"obs_height\": 256,\n",
    "    \"obs_width\": 256,\n",
    "    \"seed\": 123,\n",
    "    \"start_from_episode\": 1,\n",
    "    \"reward_for_goal\": 50,\n",
    "    \"reward_for_no_viable_path\": -50,\n",
    "    \"reward_step_mul\": 0.1,\n",
    "    \"reward_collision_mul\": 4,\n",
    "    \"reward_spl_delta_mul\": 1,\n",
    "    \"save_actions\": True,\n",
    "    \"save_vector_obs\": True,\n",
    "    \"save_visual_obs\": True,\n",
    "    \"show_visual\": False,\n",
    "    \"task\": 0,\n",
    "    \"timeout\": 600,\n",
    "    \"traffic_vehicles\": 0,\n",
    "}"
   ]
  },
  {
   "cell_type": "code",
   "execution_count": 3,
   "id": "fd2bac91",
   "metadata": {
    "ExecuteTime": {
     "end_time": "2021-07-26T15:22:46.679542Z",
     "start_time": "2021-07-26T15:22:13.698815Z"
    }
   },
   "outputs": [
    {
     "name": "stdout",
     "output_type": "stream",
     "text": [
      "[INFO] Connected to Unity environment with package version 2.1.0-exp.1 and communication version 1.5.0\n",
      "[INFO] Created UnityEnvironment at port 5005 to start from episode 1\n",
      "[INFO] Connected new brain: VectorNavigator?team=0\n"
     ]
    },
    {
     "name": "stderr",
     "output_type": "stream",
     "text": [
      "/opt/conda/envs/navsim/lib/python3.8/site-packages/gym/logger.py:30: UserWarning: \u001b[33mWARN: Box bound precision lowered by casting to float32\u001b[0m\n",
      "  warnings.warn(colorize('%s: %s'%('WARN', msg % args), 'yellow'))\n"
     ]
    },
    {
     "name": "stdout",
     "output_type": "stream",
     "text": [
      "-----------\n",
      "Env Info\n",
      "-----------\n",
      "navsim-v0\n",
      "Action Space <gym_type(low,high,shape,type)>: Box(-1.0, 1.0, (3,), float32)\n",
      "Observation Space: Tuple(Box(-inf, inf, (16,), float32))\n",
      "Observation Space Spaces: [Box(-inf, inf, (16,), float32)]\n",
      "Reward Range: (-inf, inf)\n",
      "Metadata: {'render.modes': ['rgb_array', 'depth', 'segmentation', 'vector']}\n",
      "--------------------------------------\n",
      "[INFO] Connected to Unity environment with package version 2.1.0-exp.1 and communication version 1.5.0\n",
      "[INFO] Created UnityEnvironment at port 5005 to start from episode 1\n",
      "[INFO] Connected new brain: VisualNavigator?team=0\n",
      "-----------\n",
      "Env Info\n",
      "-----------\n",
      "navsim-v0\n",
      "Action Space <gym_type(low,high,shape,type)>: Box(-1.0, 1.0, (3,), float32)\n",
      "Observation Space: Tuple(Box(0.0, 1.0, (256, 256, 3), float32), Box(0.0, 1.0, (256, 256, 1), float32), Box(0.0, 1.0, (256, 256, 3), float32))\n",
      "Observation Space Spaces: [Box(0.0, 1.0, (256, 256, 3), float32), Box(0.0, 1.0, (256, 256, 1), float32), Box(0.0, 1.0, (256, 256, 3), float32)]\n",
      "Reward Range: (-inf, inf)\n",
      "Metadata: {'render.modes': ['rgb_array', 'depth', 'segmentation', 'vector']}\n",
      "--------------------------------------\n",
      "[INFO] Connected to Unity environment with package version 2.1.0-exp.1 and communication version 1.5.0\n",
      "[INFO] Created UnityEnvironment at port 5005 to start from episode 1\n",
      "[INFO] Connected new brain: VectorVisualNavigator?team=0\n",
      "-----------\n",
      "Env Info\n",
      "-----------\n",
      "navsim-v0\n",
      "Action Space <gym_type(low,high,shape,type)>: Box(-1.0, 1.0, (3,), float32)\n",
      "Observation Space: Tuple(Box(0.0, 1.0, (256, 256, 3), float32), Box(0.0, 1.0, (256, 256, 1), float32), Box(0.0, 1.0, (256, 256, 3), float32), Box(-inf, inf, (16,), float32))\n",
      "Observation Space Spaces: [Box(0.0, 1.0, (256, 256, 3), float32), Box(0.0, 1.0, (256, 256, 1), float32), Box(0.0, 1.0, (256, 256, 3), float32), Box(-inf, inf, (16,), float32)]\n",
      "Reward Range: (-inf, inf)\n",
      "Metadata: {'render.modes': ['rgb_array', 'depth', 'segmentation', 'vector']}\n",
      "--------------------------------------\n"
     ]
    }
   ],
   "source": [
    "# look at all 3 observation modes\n",
    "\n",
    "for i in [0,1,2]:\n",
    "    env_config[\"obs_mode\"]=i\n",
    "    env = gym.make(\"navsim-v0\", env_config=env_config) # navsim_envs.env.NavSimGymEnv(env_config)\n",
    "    env_info(env)\n",
    "    env.close()\n",
    "    del env"
   ]
  },
  {
   "cell_type": "code",
   "execution_count": 4,
   "id": "fa3764e7",
   "metadata": {
    "ExecuteTime": {
     "end_time": "2021-07-26T15:22:59.515121Z",
     "start_time": "2021-07-26T15:22:46.682773Z"
    },
    "scrolled": false
   },
   "outputs": [
    {
     "name": "stdout",
     "output_type": "stream",
     "text": [
      "[INFO] Connected to Unity environment with package version 2.1.0-exp.1 and communication version 1.5.0\n",
      "[INFO] Created UnityEnvironment at port 5005 to start from episode 1\n",
      "[INFO] Connected new brain: VectorVisualNavigator?team=0\n",
      "[ 6.8400000e+02  3.4653484e+01  2.7759998e+02  0.0000000e+00\n",
      "  0.0000000e+00  0.0000000e+00  1.8626447e-09 -0.0000000e+00\n",
      " -0.0000000e+00  1.0000000e+00  7.3304639e+02  3.4666668e+01\n",
      "  2.7269452e+02  1.3520508e+01  3.0827490e+01  2.5037100e+01]\n",
      "Forward:\n",
      "[ 6.8400000e+02  3.4652504e+01  2.7764001e+02  0.0000000e+00\n",
      " -9.8001897e-02  0.0000000e+00  1.3969840e-09 -0.0000000e+00\n",
      " -0.0000000e+00  1.0000000e+00  7.3304639e+02  3.4666668e+01\n",
      "  2.7269452e+02  1.3470261e+01  3.0834826e+01  2.4960148e+01]\n",
      "[ 6.8400000e+02  3.4650543e+01  2.7768005e+02  0.0000000e+00\n",
      " -1.9590580e-01  0.0000000e+00  1.3969840e-09 -0.0000000e+00\n",
      " -0.0000000e+00  1.0000000e+00  7.3304639e+02  3.4666668e+01\n",
      "  2.7269452e+02  1.3409790e+01  3.0842062e+01  2.4857193e+01]\n",
      "[ 6.8400000e+02  3.4647606e+01  2.7772009e+02  0.0000000e+00\n",
      " -2.9371181e-01  0.0000000e+00  1.3969840e-09 -0.0000000e+00\n",
      " -0.0000000e+00  1.0000000e+00  7.3304639e+02  3.4666668e+01\n",
      "  2.7269452e+02  1.3339149e+01  3.0849394e+01  2.4728355e+01]\n",
      "[ 6.8400000e+02  3.4643692e+01  2.7776013e+02  0.0000000e+00\n",
      " -3.9142001e-01  0.0000000e+00  1.3969840e-09 -0.0000000e+00\n",
      " -0.0000000e+00  1.0000000e+00  7.3304639e+02  3.4666668e+01\n",
      "  2.7269452e+02  1.3258324e+01  3.0856630e+01  2.4563416e+01]\n",
      "[ 6.8400000e+02  3.4638802e+01  2.7780017e+02  0.0000000e+00\n",
      " -4.8903051e-01  0.0000000e+00  1.3969840e-09 -0.0000000e+00\n",
      " -0.0000000e+00  1.0000000e+00  7.3304639e+02  3.4666668e+01\n",
      "  2.7269452e+02  1.3166840e+01  3.0863966e+01  2.1094378e+01]\n",
      "[ 6.8400000e+02  3.4632935e+01  2.7784021e+02  0.0000000e+00\n",
      " -5.8654338e-01  0.0000000e+00  1.3969840e-09 -0.0000000e+00\n",
      " -0.0000000e+00  1.0000000e+00  7.3304639e+02  3.4666668e+01\n",
      "  2.7269452e+02  1.3053459e+01  3.0871197e+01  2.0938738e+01]\n",
      "[ 6.84000000e+02  3.46260948e+01  2.77880249e+02  0.00000000e+00\n",
      " -6.83958769e-01  0.00000000e+00  1.39698397e-09 -0.00000000e+00\n",
      " -0.00000000e+00  1.00000000e+00  7.33046387e+02  3.46666679e+01\n",
      "  2.72694519e+02  1.29279175e+01  3.08785343e+01  2.07854061e+01]\n",
      "[ 6.8400000e+02  3.4618282e+01  2.7792029e+02  0.0000000e+00\n",
      " -7.8127670e-01  0.0000000e+00  1.3969840e-09 -0.0000000e+00\n",
      " -0.0000000e+00  1.0000000e+00  7.3304639e+02  3.4666668e+01\n",
      "  2.7269452e+02  1.2750542e+01  3.0885773e+01  2.0628181e+01]\n",
      "[ 6.8400000e+02  3.4609497e+01  2.7796033e+02  0.0000000e+00\n",
      " -8.7849736e-01  0.0000000e+00  1.3969840e-09 -0.0000000e+00\n",
      " -0.0000000e+00  1.0000000e+00  7.3304639e+02  3.4666668e+01\n",
      "  2.7269452e+02  1.2503960e+01  3.0893101e+01  2.0457834e+01]\n",
      "[ 6.8400000e+02  3.4599739e+01  2.7800037e+02  0.0000000e+00\n",
      " -9.7562081e-01  0.0000000e+00  1.3969840e-09 -0.0000000e+00\n",
      " -0.0000000e+00  1.0000000e+00  7.3304639e+02  3.4666668e+01\n",
      "  2.7269452e+02  1.0631142e+01  3.0900339e+01  2.0264399e+01]\n",
      "Backward:\n",
      "[ 6.8400000e+02  3.4589012e+01  2.7796033e+02  0.0000000e+00\n",
      " -1.0726471e+00  0.0000000e+00  1.3969840e-09 -0.0000000e+00\n",
      " -0.0000000e+00  1.0000000e+00  7.3304639e+02  3.4666668e+01\n",
      "  2.7269452e+02  1.0411980e+01  3.0893101e+01  2.0129065e+01]\n",
      "[ 6.8400000e+02  3.4577316e+01  2.7792029e+02  0.0000000e+00\n",
      " -1.1695763e+00  0.0000000e+00  1.3969840e-09 -0.0000000e+00\n",
      " -0.0000000e+00  1.0000000e+00  7.3304639e+02  3.4666668e+01\n",
      "  2.7269452e+02  1.0202858e+01  1.2251616e+01  1.9977686e+01]\n",
      "[ 6.8400000e+02  3.4564651e+01  2.7788025e+02  0.0000000e+00\n",
      " -1.2664086e+00  0.0000000e+00  1.3969840e-09 -0.0000000e+00\n",
      " -0.0000000e+00  1.0000000e+00  7.3304639e+02  3.4666668e+01\n",
      "  2.7269452e+02  7.6064224e+00  1.2091207e+01  1.6793947e+01]\n",
      "[ 6.8400000e+02  3.4551022e+01  2.7784021e+02  0.0000000e+00\n",
      " -1.3631440e+00  0.0000000e+00  1.3969840e-09 -0.0000000e+00\n",
      " -0.0000000e+00  1.0000000e+00  7.3304639e+02  3.4666668e+01\n",
      "  2.7269452e+02  5.7886734e+00  1.1963659e+01  1.6345877e+01]\n",
      "[ 6.8400000e+02  3.4536423e+01  2.7780017e+02  0.0000000e+00\n",
      " -1.4597827e+00  0.0000000e+00  1.3969840e-09 -0.0000000e+00\n",
      " -0.0000000e+00  1.0000000e+00  7.3304639e+02  3.4666668e+01\n",
      "  2.7269452e+02  5.4643631e+00  9.5876942e+00  1.2665601e+01]\n",
      "[ 6.83999878e+02  3.45228882e+01  2.77760376e+02 -1.12206135e-02\n",
      " -1.38855195e+00 -9.64590386e-02 -8.72977602e-04  4.72877036e-05\n",
      " -2.89100353e-05  9.99999642e-01  7.33046387e+02  3.46666679e+01\n",
      "  2.72694519e+02  5.40890551e+00  9.57843208e+00  1.27459230e+01]\n",
      "[ 6.8399939e+02  3.4512894e+01  2.7772021e+02  1.8806358e-01\n",
      " -1.0625193e+00 -3.1122622e-01 -3.0270442e-03  2.5782204e-04\n",
      " -1.6074519e-03  9.9999410e-01  7.3304639e+02  3.4666668e+01\n",
      "  2.7269452e+02  5.8220906e+00  3.0868862e+01  1.2793692e+01]\n",
      "[ 6.8399902e+02  3.4503109e+01  2.7768036e+02  2.4283864e-01\n",
      " -1.0665860e+00 -3.2507154e-01 -5.5579585e-03  3.8091934e-04\n",
      " -3.7651025e-03  9.9997741e-01  7.3304639e+02  3.4666668e+01\n",
      "  2.7269452e+02  1.3427225e+01  3.0872154e+01  1.2786759e+01]\n",
      "[ 6.8399854e+02  3.4492378e+01  2.7764062e+02  2.5570247e-01\n",
      " -1.1411597e+00 -3.2530919e-01 -8.1689199e-03  4.7313070e-04\n",
      " -5.9973369e-03  9.9994856e-01  7.3304639e+02  3.4666668e+01\n",
      "  2.7269452e+02  4.7808235e+01  3.0874310e+01  1.2765180e+01]\n",
      "[ 6.8399854e+02  3.4482059e+01  2.7760083e+02  2.2017604e-01\n",
      " -1.1317986e+00 -4.1978127e-01 -1.1440948e-02  4.0146190e-04\n",
      " -7.4450122e-03  9.9990678e-01  7.3304639e+02  3.4666668e+01\n",
      "  2.7269452e+02  4.7853813e+01  3.0864590e+01  2.0659420e+01]\n"
     ]
    }
   ],
   "source": [
    "# test for ten steps forward and ten steps back and navigable map example\n",
    "\n",
    "env_config[\"obs_mode\"]=2\n",
    "env = gym.make(\"navsim-v0\", env_config=env_config)\n",
    "\n",
    "print(env.reset()[-1])\n",
    "#action_sample = env.action_space.sample()\n",
    "print(\"Forward:\")\n",
    "for i in range(0,10):\n",
    "    action_sample = [1,0,0]\n",
    "    print(env.step(action_sample)[0][-1])\n",
    "print(\"Backward:\")\n",
    "for i in range(0,10):\n",
    "    action_sample = [-1,0,0]\n",
    "    print(env.step(action_sample)[0][-1])\n",
    "#action_sample = env.action_space.sample()\n",
    "#action_sample = [-1,0,0]\n",
    "#print(action_sample)\n",
    "#s2 = env.step(action_sample)\n",
    "env.close()\n",
    "del env"
   ]
  },
  {
   "cell_type": "code",
   "execution_count": 5,
   "id": "b9bbd718",
   "metadata": {
    "ExecuteTime": {
     "end_time": "2021-07-26T15:23:10.236167Z",
     "start_time": "2021-07-26T15:22:59.517136Z"
    }
   },
   "outputs": [
    {
     "name": "stdout",
     "output_type": "stream",
     "text": [
      "[INFO] Connected to Unity environment with package version 2.1.0-exp.1 and communication version 1.5.0\n",
      "[INFO] Created UnityEnvironment at port 5005 to start from episode 1\n",
      "[INFO] Connected new brain: VectorNavigator?team=0\n",
      "-3.598258e-05\n"
     ]
    }
   ],
   "source": [
    "env_config[\"obs_mode\"]=0\n",
    "env = gym.make(\"navsim-v0\", env_config=env_config)\n",
    "\n",
    "pos0=env.reset()[-1][0:3]\n",
    "pos1=env.step([1,0,0])[0][-1][0:3]\n",
    "pos2=env.step([-1,0,0])[0][-1][0:3]\n",
    "print(np.linalg.norm(pos1-pos0) - np.linalg.norm(pos2-pos1))\n",
    "\n",
    "env.close()\n",
    "del env"
   ]
  },
  {
   "cell_type": "code",
   "execution_count": 23,
   "id": "c18202c7",
   "metadata": {
    "ExecuteTime": {
     "end_time": "2021-07-26T22:41:07.963463Z",
     "start_time": "2021-07-26T22:40:55.523201Z"
    }
   },
   "outputs": [
    {
     "name": "stdout",
     "output_type": "stream",
     "text": [
      "[INFO] Connected to Unity environment with package version 2.1.0-exp.1 and communication version 1.5.0\n",
      "[INFO] Created UnityEnvironment at port 5006 to start from episode 1\n",
      "[INFO] Created UnityEnvironment at port 5006 to start from episode 1\n",
      "[INFO] Created UnityEnvironment at port 5006 to start from episode 1\n",
      "[INFO] Connected new brain: VectorNavigator?team=0\n"
     ]
    }
   ],
   "source": [
    "env_config[\"obs_mode\"]=0\n",
    "env = gym.make(\"navsim-v0\", env_config=env_config) \n",
    "navigable_map = env.get_navigable_map(resolution_x=512, resolution_y=256)\n",
    "navigable_point = env.sample_navigable_point()\n",
    "env.close()\n",
    "del env"
   ]
  },
  {
   "cell_type": "code",
   "execution_count": 24,
   "id": "12d75f89",
   "metadata": {
    "ExecuteTime": {
     "end_time": "2021-07-26T22:41:11.763776Z",
     "start_time": "2021-07-26T22:41:11.748568Z"
    }
   },
   "outputs": [
    {
     "name": "stdout",
     "output_type": "stream",
     "text": [
      "[223 152]\n"
     ]
    }
   ],
   "source": [
    "print(navigable_point)"
   ]
  },
  {
   "cell_type": "code",
   "execution_count": 28,
   "id": "fb86186b",
   "metadata": {
    "ExecuteTime": {
     "end_time": "2021-07-27T00:29:56.963649Z",
     "start_time": "2021-07-27T00:29:56.858029Z"
    }
   },
   "outputs": [
    {
     "data": {
      "text/plain": [
       "[<matplotlib.lines.Line2D at 0x7f2da432fd60>]"
      ]
     },
     "execution_count": 28,
     "metadata": {},
     "output_type": "execute_result"
    },
    {
     "data": {
      "image/png": "[encoded data removed]",
      "text/plain": [
       "<Figure size 432x288 with 1 Axes>"
      ]
     },
     "metadata": {
      "needs_background": "light"
     },
     "output_type": "display_data"
    }
   ],
   "source": [
    "plt.imshow(navigable_map,origin='lower',cmap='gray', vmin=0, vmax=1)\n",
    "plt.plot(navigable_point[1],navigable_point[0],'bo')\n",
    "plt.plot(navigable_point[0],navigable_point[1],'ro')"
   ]
  },
  {
   "cell_type": "code",
   "execution_count": 9,
   "id": "42f5b33a",
   "metadata": {
    "ExecuteTime": {
     "end_time": "2021-07-26T15:24:25.663049Z",
     "start_time": "2021-07-26T15:23:21.082522Z"
    },
    "scrolled": false
   },
   "outputs": [
    {
     "name": "stdout",
     "output_type": "stream",
     "text": [
      "[INFO] Connected to Unity environment with package version 2.1.0-exp.1 and communication version 1.5.0\n",
      "[INFO] Created UnityEnvironment at port 5005 to start from episode 1\n",
      "[INFO] Connected new brain: VectorNavigator?team=0\n",
      "[INFO] Connected to Unity environment with package version 2.1.0-exp.1 and communication version 1.5.0\n",
      "[INFO] Created UnityEnvironment at port 5005 to start from episode 1\n",
      "[INFO] Connected new brain: VectorNavigator?team=0\n",
      "[INFO] Connected to Unity environment with package version 2.1.0-exp.1 and communication version 1.5.0\n",
      "[INFO] Created UnityEnvironment at port 5005 to start from episode 1\n",
      "[INFO] Connected new brain: VectorNavigator?team=0\n",
      "[INFO] Connected to Unity environment with package version 2.1.0-exp.1 and communication version 1.5.0\n",
      "[INFO] Created UnityEnvironment at port 5005 to start from episode 1\n",
      "[INFO] Connected new brain: VectorNavigator?team=0\n"
     ]
    }
   ],
   "source": [
    "# test for seeds for reset() and action samples\n",
    "\n",
    "num_episodes=10\n",
    "num_steps=10\n",
    "num_actions = 3\n",
    "seeds = [123,321]\n",
    "\n",
    "reset_obs=np.full((2,2,num_episodes,16),0.0)\n",
    "actions=np.full((2,2,num_episodes,num_steps,3),0.0)\n",
    "\n",
    "for i in range(len(seeds)):\n",
    "    env_config[\"seed\"]=seeds[i]\n",
    "    for j in range(2):\n",
    "        env = gym.make(\"navsim-v0\", env_config=env_config) \n",
    "        for e in range(num_episodes):\n",
    "            reset_obs[i,j,e,:] = env.reset()[-1]\n",
    "            for s in range(num_steps):\n",
    "                #for k in range(0,num_actions)\n",
    "                actions[i,j,e,s,:]=env.action_space.sample()\n",
    "        env.close()\n",
    "        del env\n",
    "#    print(reset_obs)\n",
    "#    print(actions)\n",
    "#TODO: add the compare logic"
   ]
  },
  {
   "cell_type": "code",
   "execution_count": 10,
   "id": "3117f7d2",
   "metadata": {
    "ExecuteTime": {
     "end_time": "2021-07-26T15:25:17.850516Z",
     "start_time": "2021-07-26T15:24:25.664971Z"
    },
    "code_folding": [],
    "scrolled": false
   },
   "outputs": [
    {
     "name": "stdout",
     "output_type": "stream",
     "text": [
      "[INFO] Connected to Unity environment with package version 2.1.0-exp.1 and communication version 1.5.0\n",
      "[INFO] Created UnityEnvironment at port 5005 to start from episode 1\n",
      "[INFO] Connected new brain: VectorNavigator?team=0\n",
      "[INFO] Connected to Unity environment with package version 2.1.0-exp.1 and communication version 1.5.0\n",
      "[INFO] Created UnityEnvironment at port 5005 to start from episode 1\n",
      "[INFO] Connected new brain: VectorNavigator?team=0\n",
      "[INFO] Connected to Unity environment with package version 2.1.0-exp.1 and communication version 1.5.0\n",
      "[INFO] Created UnityEnvironment at port 5005 to start from episode 11\n",
      "[INFO] Connected new brain: VectorNavigator?team=0\n"
     ]
    }
   ],
   "source": [
    "# test for fast_forward\n",
    "\n",
    "num_episodes=20\n",
    "env_config[\"seed\"]=794\n",
    "\n",
    "reset_obs=np.full((2,num_episodes,16),0.0)\n",
    "env_config[\"debug\"]=True\n",
    "\n",
    "\n",
    "# no fast_forward 10\n",
    "env_config[\"start_from_episode\"]=1\n",
    "env_config[\"log_folder\"]=\"./env_log_1\"\n",
    "env = gym.make(\"navsim-v0\", env_config=env_config) \n",
    "for e in range(num_episodes):\n",
    "    reset_obs[0,e,:] = env.reset()[-1]\n",
    "env.close()\n",
    "del env\n",
    "\n",
    "# no fast forward 5\n",
    "env_config[\"start_from_episode\"]=1\n",
    "env_config[\"log_folder\"]=\"./env_log_2\"\n",
    "env = gym.make(\"navsim-v0\", env_config=env_config) \n",
    "for e in range(10):\n",
    "    reset_obs[1,e,:] = env.reset()[-1]\n",
    "env.close()\n",
    "del env\n",
    "# fast forward 5\n",
    "env_config[\"start_from_episode\"]=11\n",
    "env_config[\"log_folder\"]=\"./env_log_3\"\n",
    "\n",
    "env = gym.make(\"navsim-v0\", env_config=env_config) \n",
    "for e in range(10,num_episodes):\n",
    "    reset_obs[1,e,:] = env.reset()[-1]\n",
    "env.close()\n",
    "del env\n",
    "\n",
    "\n",
    "\n",
    "#    print(reset_obs)\n",
    "#    print(actions)\n",
    "#TODO: add the compare logic"
   ]
  },
  {
   "cell_type": "code",
   "execution_count": 11,
   "id": "38831de0",
   "metadata": {
    "ExecuteTime": {
     "end_time": "2021-07-26T15:25:17.864585Z",
     "start_time": "2021-07-26T15:25:17.852629Z"
    }
   },
   "outputs": [
    {
     "name": "stdout",
     "output_type": "stream",
     "text": [
      "[[0. 0. 0. 0. 0. 0. 0. 0. 0. 0. 0. 0. 0. 0. 0. 0.]\n",
      " [0. 0. 0. 0. 0. 0. 0. 0. 0. 0. 0. 0. 0. 0. 0. 0.]\n",
      " [0. 0. 0. 0. 0. 0. 0. 0. 0. 0. 0. 0. 0. 0. 0. 0.]\n",
      " [0. 0. 0. 0. 0. 0. 0. 0. 0. 0. 0. 0. 0. 0. 0. 0.]\n",
      " [0. 0. 0. 0. 0. 0. 0. 0. 0. 0. 0. 0. 0. 0. 0. 0.]\n",
      " [0. 0. 0. 0. 0. 0. 0. 0. 0. 0. 0. 0. 0. 0. 0. 0.]\n",
      " [0. 0. 0. 0. 0. 0. 0. 0. 0. 0. 0. 0. 0. 0. 0. 0.]\n",
      " [0. 0. 0. 0. 0. 0. 0. 0. 0. 0. 0. 0. 0. 0. 0. 0.]\n",
      " [0. 0. 0. 0. 0. 0. 0. 0. 0. 0. 0. 0. 0. 0. 0. 0.]\n",
      " [0. 0. 0. 0. 0. 0. 0. 0. 0. 0. 0. 0. 0. 0. 0. 0.]\n",
      " [0. 0. 0. 0. 0. 0. 0. 0. 0. 0. 0. 0. 0. 0. 0. 0.]\n",
      " [0. 0. 0. 0. 0. 0. 0. 0. 0. 0. 0. 0. 0. 0. 0. 0.]\n",
      " [0. 0. 0. 0. 0. 0. 0. 0. 0. 0. 0. 0. 0. 0. 0. 0.]\n",
      " [0. 0. 0. 0. 0. 0. 0. 0. 0. 0. 0. 0. 0. 0. 0. 0.]\n",
      " [0. 0. 0. 0. 0. 0. 0. 0. 0. 0. 0. 0. 0. 0. 0. 0.]\n",
      " [0. 0. 0. 0. 0. 0. 0. 0. 0. 0. 0. 0. 0. 0. 0. 0.]\n",
      " [0. 0. 0. 0. 0. 0. 0. 0. 0. 0. 0. 0. 0. 0. 0. 0.]\n",
      " [0. 0. 0. 0. 0. 0. 0. 0. 0. 0. 0. 0. 0. 0. 0. 0.]\n",
      " [0. 0. 0. 0. 0. 0. 0. 0. 0. 0. 0. 0. 0. 0. 0. 0.]\n",
      " [0. 0. 0. 0. 0. 0. 0. 0. 0. 0. 0. 0. 0. 0. 0. 0.]]\n"
     ]
    }
   ],
   "source": [
    "print(reset_obs[0]-reset_obs[1])"
   ]
  },
  {
   "cell_type": "code",
   "execution_count": null,
   "id": "30c97a3b",
   "metadata": {},
   "outputs": [],
   "source": []
  }
 ],
 "metadata": {
  "kernelspec": {
   "display_name": "Python 3 (ipykernel)",
   "language": "python",
   "name": "python3"
  },
  "language_info": {
   "codemirror_mode": {
    "name": "ipython",
    "version": 3
   },
   "file_extension": ".py",
   "mimetype": "text/x-python",
   "name": "python",
   "nbconvert_exporter": "python",
   "pygments_lexer": "ipython3",
   "version": "3.8.10"
  },
  "toc": {
   "base_numbering": 1,
   "nav_menu": {},
   "number_sections": true,
   "sideBar": true,
   "skip_h1_title": false,
   "title_cell": "Table of Contents",
   "title_sidebar": "Contents",
   "toc_cell": false,
   "toc_position": {},
   "toc_section_display": true,
   "toc_window_display": false
  },
  "varInspector": {
   "cols": {
    "lenName": 16,
    "lenType": 16,
    "lenVar": 40
   },
   "kernels_config": {
    "python": {
     "delete_cmd_postfix": "",
     "delete_cmd_prefix": "del ",
     "library": "var_list.py",
     "varRefreshCmd": "print(var_dic_list())"
    },
    "r": {
     "delete_cmd_postfix": ") ",
     "delete_cmd_prefix": "rm(",
     "library": "var_list.r",
     "varRefreshCmd": "cat(var_dic_list()) "
    }
   },
   "types_to_exclude": [
    "module",
    "function",
    "builtin_function_or_method",
    "instance",
    "_Feature"
   ],
   "window_display": false
  }
 },
 "nbformat": 4,
 "nbformat_minor": 5
}
