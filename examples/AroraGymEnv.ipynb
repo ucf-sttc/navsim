{
 "cells": [
  {
   "cell_type": "code",
   "execution_count": 1,
   "id": "b314eec1",
   "metadata": {
    "ExecuteTime": {
     "end_time": "2021-08-25T17:24:14.100559Z",
     "start_time": "2021-08-25T17:24:13.760869Z"
    }
   },
   "outputs": [
    {
     "name": "stdout",
     "output_type": "stream",
     "text": [
      "navsim_envs: using cv2 as image library\n",
      "navsim_envs: Adding arora-v0 to Gym registry\n"
     ]
    }
   ],
   "source": [
    "%reload_ext autoreload\n",
    "%autoreload 2\n",
    "\n",
    "import navsim_envs\n",
    "import gym\n",
    "import matplotlib.pyplot as plt\n",
    "import numpy as np\n",
    "from ezai_util.env import env_info\n",
    "import cv2"
   ]
  },
  {
   "cell_type": "code",
   "execution_count": 2,
   "id": "b7cc9d52",
   "metadata": {
    "ExecuteTime": {
     "end_time": "2021-08-25T17:24:15.293660Z",
     "start_time": "2021-08-25T17:24:15.279080Z"
    }
   },
   "outputs": [],
   "source": [
    "env_config = navsim_envs.arora.default_env_config.copy()\n",
    "env_config[\"env_path\"]=\"/data/work/unity-envs/Build2.10.9/Berlin_Walk_V2\""
   ]
  },
  {
   "cell_type": "code",
   "execution_count": null,
   "id": "fd2bac91",
   "metadata": {
    "ExecuteTime": {
     "end_time": "2021-08-20T17:22:30.518536Z",
     "start_time": "2021-08-20T17:21:35.624085Z"
    }
   },
   "outputs": [],
   "source": [
    "# look at all 3 observation modes\n",
    "\n",
    "for i in [0,1,2]:\n",
    "    env_config[\"obs_mode\"]=i\n",
    "    env = gym.make(\"arora-v0\", env_config=env_config) # navsim_envs.env.AroraGymEnv(env_config)\n",
    "    env_info(env)\n",
    "    env.close()\n",
    "    del env"
   ]
  },
  {
   "cell_type": "code",
   "execution_count": 4,
   "id": "149e7f2a",
   "metadata": {
    "ExecuteTime": {
     "end_time": "2021-08-25T18:30:05.183584Z",
     "start_time": "2021-08-25T18:29:48.617801Z"
    },
    "scrolled": false
   },
   "outputs": [
    {
     "name": "stdout",
     "output_type": "stream",
     "text": [
      "[INFO] Connected to Unity environment with package version 2.1.0-exp.1 and communication version 1.5.0\n",
      "[INFO] Created UnityEnvironment from /data/work/unity-envs/Build2.10.9/Berlin_Walk_V2 at port 5005 to start from episode 1\n",
      "[INFO] Connected new brain: VectorNavigator?team=0\n",
      "Episode 1 [2662.4001, 35.85348, 1101.6],[1.8626447e-09, -0.0, -0.0, 1.0]\n",
      "angle affter moving left: 1.5741443204857202\n",
      "5.961369416048803\n",
      "10.973991224288486\n",
      "16.01263880015197\n",
      "20.957166426707804\n",
      "26.00181206735384\n",
      "30.915790214679\n",
      "36.03765664958925\n",
      "40.96548194270405\n",
      "46.038032548767376\n",
      "51.072456407207696\n",
      "56.02850221604043\n",
      "60.96238450847607\n",
      "66.00198537303427\n",
      "71.02339392103157\n",
      "75.96375653207353\n",
      "80.94010992241346\n",
      "85.97909887378236\n",
      "91.01305149658519\n",
      "96.03098924565217\n",
      "101.01498493945093\n",
      "Completed one trajectory\n",
      "Episode 2 [792.0, 34.253483, 479.20007],[-0.0, -0.0, -0.0, 1.0]\n",
      "0.0\n",
      "0.0\n",
      "0.0\n",
      "0.0\n",
      "0.0\n",
      "0.03510770364117153\n",
      "0.38523476609063106\n",
      "0.20961777030207637\n",
      "0.0\n",
      "-0.13974552658295925\n",
      "0.0\n",
      "0.0\n",
      "0.10480923586293055\n",
      "0.20987371156754991\n",
      "0.10449066746439405\n",
      "0.0\n",
      "0.0\n",
      "0.0\n",
      "0.0\n",
      "0.0\n"
     ]
    }
   ],
   "source": [
    "import math\n",
    "def angle_formula(loc1,loc2):\n",
    "    return math.atan2(loc2[0] - loc1[0], loc2[2] - loc1[2]) / math.pi * 180\n",
    "\n",
    "env_config[\"obs_mode\"]=2\n",
    "env_config['seed']=2\n",
    "env_config['obs_height']=256\n",
    "env_config['obs_width']=256\n",
    "env_config['show_visual']=True\n",
    "env = gym.make(\"arora-v0\", env_config=env_config) \n",
    "env.reset()\n",
    "pos1 = env.agent_position\n",
    "rot1 = env.agent_rotation\n",
    "print(f\"Episode 1 {env.agent_position},{env.agent_rotation}\")\n",
    "# starting position\n",
    "last_loc = env.agent_position\n",
    "# move left\n",
    "a = [1,1,0]\n",
    "env.step(a)\n",
    "print(f'angle affter moving left: {angle_formula(last_loc,env.agent_position)}')\n",
    "last_loc = env.agent_position\n",
    "\n",
    "# move forward 20 times\n",
    "a = [1.0, 0.0, 0.0]\n",
    "for _ in range(20):\n",
    "    env.step(a)\n",
    "    print(angle_formula(last_loc,env.agent_position))\n",
    "#    #print(math.atan2(o[-1][0] - last_loc[0], o[-1][2] - last_loc[2]) / math.pi * 180)\n",
    "    last_loc = env.agent_position\n",
    "\n",
    "print('Completed one trajectory')\n",
    "\n",
    "env.reset()\n",
    "#print(env.set_agent_state(position=pos1,rotation=rot1))\n",
    "print(f\"Episode 2 {env.agent_position},{env.agent_rotation}\")\n",
    "# starting position\n",
    "last_loc = env.agent_position\n",
    "# move forward 20 times\n",
    "a = [1.0, 0.0, 0.0]\n",
    "for _ in range(20):\n",
    "    o,_,_,_ = env.step(a)\n",
    "    print(angle_formula(last_loc,env.agent_position))\n",
    "    #print(env.agent_position)\n",
    "    #print(math.atan2(o[-1][0] - last_loc[0], o[-1][2] - last_loc[2]) / math.pi * 180)\n",
    "    last_loc = env.agent_position\n",
    "\n",
    "env.close()\n",
    "del env"
   ]
  },
  {
   "cell_type": "code",
   "execution_count": null,
   "id": "cd3e7e08",
   "metadata": {
    "ExecuteTime": {
     "end_time": "2021-08-24T15:30:48.091188Z",
     "start_time": "2021-08-24T15:30:48.074182Z"
    }
   },
   "outputs": [],
   "source": [
    "print(img.min(),img.max())"
   ]
  },
  {
   "cell_type": "code",
   "execution_count": null,
   "id": "9388415d",
   "metadata": {
    "ExecuteTime": {
     "end_time": "2021-08-24T15:31:34.833571Z",
     "start_time": "2021-08-24T15:31:34.811669Z"
    }
   },
   "outputs": [],
   "source": [
    "img2 = (pow(img, 1/2.2)*255).astype('uint8')"
   ]
  },
  {
   "cell_type": "code",
   "execution_count": null,
   "id": "601eb05b",
   "metadata": {
    "ExecuteTime": {
     "end_time": "2021-08-24T15:32:17.857919Z",
     "start_time": "2021-08-24T15:32:17.839584Z"
    }
   },
   "outputs": [],
   "source": [
    "print(img2.min(),img2.max())"
   ]
  },
  {
   "cell_type": "code",
   "execution_count": null,
   "id": "f58b2e91",
   "metadata": {
    "ExecuteTime": {
     "end_time": "2021-08-24T15:33:17.206338Z",
     "start_time": "2021-08-24T15:33:17.187340Z"
    }
   },
   "outputs": [],
   "source": [
    "import ezai_util"
   ]
  },
  {
   "cell_type": "code",
   "execution_count": null,
   "id": "447d7742",
   "metadata": {
    "ExecuteTime": {
     "end_time": "2021-08-24T15:34:29.234037Z",
     "start_time": "2021-08-24T15:34:29.216000Z"
    }
   },
   "outputs": [],
   "source": [
    "print(ezai_util.image.isbright(img2,thresh=0.3))"
   ]
  },
  {
   "cell_type": "code",
   "execution_count": null,
   "id": "0e237098",
   "metadata": {
    "ExecuteTime": {
     "end_time": "2021-08-24T15:31:36.436519Z",
     "start_time": "2021-08-24T15:31:36.317876Z"
    }
   },
   "outputs": [],
   "source": [
    "plt.imshow(img2)"
   ]
  },
  {
   "cell_type": "code",
   "execution_count": null,
   "id": "5ab49435",
   "metadata": {
    "ExecuteTime": {
     "end_time": "2021-08-24T15:39:57.619868Z",
     "start_time": "2021-08-24T15:39:57.601058Z"
    }
   },
   "outputs": [],
   "source": [
    "def increase_brightness(image, value=0.1):\n",
    "    hsv = cv2.cvtColor(image, cv2.COLOR_BGR2HSV)\n",
    "    # h, s, v = cv2.split(hsv)\n",
    "    # lim = 255 - value\n",
    "    # v[v > lim] = 255\n",
    "    # v[v <= lim] += value\n",
    "    # final_hsv = cv2.merge((h, s, v))\n",
    "\n",
    "    hsv[:,:,2] = cv2.add(hsv[:, :, 2], value )\n",
    "    image = cv2.cvtColor(hsv, cv2.COLOR_HSV2BGR)\n",
    "    return image"
   ]
  },
  {
   "cell_type": "code",
   "execution_count": null,
   "id": "c180d3f4",
   "metadata": {
    "ExecuteTime": {
     "end_time": "2021-08-24T15:41:59.425837Z",
     "start_time": "2021-08-24T15:41:59.220516Z"
    }
   },
   "outputs": [],
   "source": [
    "plt.imshow(increase_brightness(img, value = 0.3))\n",
    "print(increase_brightness(img, value = 0.3).max())"
   ]
  },
  {
   "cell_type": "code",
   "execution_count": null,
   "id": "bb4966a2",
   "metadata": {
    "ExecuteTime": {
     "end_time": "2021-08-19T22:47:08.301979Z",
     "start_time": "2021-08-19T22:47:08.170665Z"
    }
   },
   "outputs": [],
   "source": [
    "navsim_util.image.cv2_util.isbright(img)"
   ]
  },
  {
   "cell_type": "code",
   "execution_count": null,
   "id": "fa3764e7",
   "metadata": {
    "ExecuteTime": {
     "end_time": "2021-07-29T01:31:35.185517Z",
     "start_time": "2021-07-29T01:31:19.269287Z"
    },
    "scrolled": false
   },
   "outputs": [],
   "source": [
    "# test for ten steps forward and ten steps back \n",
    "\n",
    "env_config[\"obs_mode\"]=2\n",
    "env = gym.make(\"navsim-v0\", env_config=env_config)\n",
    "\n",
    "print(env.reset()[-1])\n",
    "#action_sample = env.action_space.sample()\n",
    "print(\"Forward:\")\n",
    "for i in range(0,10):\n",
    "    action_sample = [1,0,0]\n",
    "    print(env.step(action_sample)[0][-1])\n",
    "print(\"Backward:\")\n",
    "for i in range(0,10):\n",
    "    action_sample = [-1,0,0]\n",
    "    print(env.step(action_sample)[0][-1])\n",
    "#action_sample = env.action_space.sample()\n",
    "#action_sample = [-1,0,0]\n",
    "#print(action_sample)\n",
    "#s2 = env.step(action_sample)\n",
    "env.close()\n",
    "del env"
   ]
  },
  {
   "cell_type": "code",
   "execution_count": null,
   "id": "b9bbd718",
   "metadata": {
    "ExecuteTime": {
     "end_time": "2021-07-26T15:23:10.236167Z",
     "start_time": "2021-07-26T15:22:59.517136Z"
    }
   },
   "outputs": [],
   "source": [
    "env_config[\"obs_mode\"]=0\n",
    "env = gym.make(\"navsim-v0\", env_config=env_config)\n",
    "\n",
    "pos0=env.reset()[-1][0:3]\n",
    "pos1=env.step([1,0,0])[0][-1][0:3]\n",
    "pos2=env.step([-1,0,0])[0][-1][0:3]\n",
    "print(np.linalg.norm(pos1-pos0) - np.linalg.norm(pos2-pos1))\n",
    "\n",
    "env.close()\n",
    "del env"
   ]
  },
  {
   "cell_type": "code",
   "execution_count": null,
   "id": "c18202c7",
   "metadata": {
    "ExecuteTime": {
     "end_time": "2021-07-26T22:41:07.963463Z",
     "start_time": "2021-07-26T22:40:55.523201Z"
    }
   },
   "outputs": [],
   "source": [
    "env_config[\"obs_mode\"]=0\n",
    "env = gym.make(\"navsim-v0\", env_config=env_config) \n",
    "navigable_map = env.get_navigable_map(resolution_x=512, resolution_y=256)\n",
    "navigable_point = env.sample_navigable_point()\n",
    "env.close()\n",
    "del env"
   ]
  },
  {
   "cell_type": "code",
   "execution_count": null,
   "id": "12d75f89",
   "metadata": {
    "ExecuteTime": {
     "end_time": "2021-07-26T22:41:11.763776Z",
     "start_time": "2021-07-26T22:41:11.748568Z"
    }
   },
   "outputs": [],
   "source": [
    "print(navigable_point)"
   ]
  },
  {
   "cell_type": "code",
   "execution_count": null,
   "id": "fb86186b",
   "metadata": {
    "ExecuteTime": {
     "end_time": "2021-07-27T00:29:56.963649Z",
     "start_time": "2021-07-27T00:29:56.858029Z"
    }
   },
   "outputs": [],
   "source": [
    "plt.imshow(navigable_map,origin='lower',cmap='gray', vmin=0, vmax=1)\n",
    "plt.plot(navigable_point[1],navigable_point[0],'bo')\n",
    "plt.plot(navigable_point[0],navigable_point[1],'ro')"
   ]
  },
  {
   "cell_type": "code",
   "execution_count": null,
   "id": "42f5b33a",
   "metadata": {
    "ExecuteTime": {
     "end_time": "2021-07-26T15:24:25.663049Z",
     "start_time": "2021-07-26T15:23:21.082522Z"
    },
    "scrolled": false
   },
   "outputs": [],
   "source": [
    "# test for seeds for reset() and action samples\n",
    "\n",
    "num_episodes=10\n",
    "num_steps=10\n",
    "num_actions = 3\n",
    "seeds = [123,321]\n",
    "\n",
    "reset_obs=np.full((2,2,num_episodes,16),0.0)\n",
    "actions=np.full((2,2,num_episodes,num_steps,3),0.0)\n",
    "\n",
    "for i in range(len(seeds)):\n",
    "    env_config[\"seed\"]=seeds[i]\n",
    "    for j in range(2):\n",
    "        env = gym.make(\"navsim-v0\", env_config=env_config) \n",
    "        for e in range(num_episodes):\n",
    "            reset_obs[i,j,e,:] = env.reset()[-1]\n",
    "            for s in range(num_steps):\n",
    "                #for k in range(0,num_actions)\n",
    "                actions[i,j,e,s,:]=env.action_space.sample()\n",
    "        env.close()\n",
    "        del env\n",
    "#    print(reset_obs)\n",
    "#    print(actions)\n",
    "#TODO: add the compare logic"
   ]
  },
  {
   "cell_type": "code",
   "execution_count": null,
   "id": "3117f7d2",
   "metadata": {
    "ExecuteTime": {
     "end_time": "2021-07-26T15:25:17.850516Z",
     "start_time": "2021-07-26T15:24:25.664971Z"
    },
    "code_folding": [],
    "scrolled": false
   },
   "outputs": [],
   "source": [
    "# test for fast_forward\n",
    "\n",
    "num_episodes=20\n",
    "env_config[\"seed\"]=794\n",
    "\n",
    "reset_obs=np.full((2,num_episodes,16),0.0)\n",
    "env_config[\"debug\"]=True\n",
    "\n",
    "\n",
    "# no fast_forward 10\n",
    "env_config[\"start_from_episode\"]=1\n",
    "env_config[\"log_folder\"]=\"./env_log_1\"\n",
    "env = gym.make(\"navsim-v0\", env_config=env_config) \n",
    "for e in range(num_episodes):\n",
    "    reset_obs[0,e,:] = env.reset()[-1]\n",
    "env.close()\n",
    "del env\n",
    "\n",
    "# no fast forward 5\n",
    "env_config[\"start_from_episode\"]=1\n",
    "env_config[\"log_folder\"]=\"./env_log_2\"\n",
    "env = gym.make(\"navsim-v0\", env_config=env_config) \n",
    "for e in range(10):\n",
    "    reset_obs[1,e,:] = env.reset()[-1]\n",
    "env.close()\n",
    "del env\n",
    "# fast forward 5\n",
    "env_config[\"start_from_episode\"]=11\n",
    "env_config[\"log_folder\"]=\"./env_log_3\"\n",
    "\n",
    "env = gym.make(\"navsim-v0\", env_config=env_config) \n",
    "for e in range(10,num_episodes):\n",
    "    reset_obs[1,e,:] = env.reset()[-1]\n",
    "env.close()\n",
    "del env\n",
    "\n",
    "\n",
    "\n",
    "#    print(reset_obs)\n",
    "#    print(actions)\n",
    "#TODO: add the compare logic"
   ]
  },
  {
   "cell_type": "code",
   "execution_count": null,
   "id": "38831de0",
   "metadata": {
    "ExecuteTime": {
     "end_time": "2021-07-26T15:25:17.864585Z",
     "start_time": "2021-07-26T15:25:17.852629Z"
    }
   },
   "outputs": [],
   "source": [
    "print(reset_obs[0]-reset_obs[1])"
   ]
  },
  {
   "cell_type": "code",
   "execution_count": null,
   "id": "30c97a3b",
   "metadata": {},
   "outputs": [],
   "source": []
  }
 ],
 "metadata": {
  "kernelspec": {
   "display_name": "Python 3 (ipykernel)",
   "language": "python",
   "name": "python3"
  },
  "language_info": {
   "codemirror_mode": {
    "name": "ipython",
    "version": 3
   },
   "file_extension": ".py",
   "mimetype": "text/x-python",
   "name": "python",
   "nbconvert_exporter": "python",
   "pygments_lexer": "ipython3",
   "version": "3.8.10"
  },
  "toc": {
   "base_numbering": 1,
   "nav_menu": {},
   "number_sections": true,
   "sideBar": true,
   "skip_h1_title": false,
   "title_cell": "Table of Contents",
   "title_sidebar": "Contents",
   "toc_cell": false,
   "toc_position": {},
   "toc_section_display": true,
   "toc_window_display": false
  },
  "varInspector": {
   "cols": {
    "lenName": 16,
    "lenType": 16,
    "lenVar": 40
   },
   "kernels_config": {
    "python": {
     "delete_cmd_postfix": "",
     "delete_cmd_prefix": "del ",
     "library": "var_list.py",
     "varRefreshCmd": "print(var_dic_list())"
    },
    "r": {
     "delete_cmd_postfix": ") ",
     "delete_cmd_prefix": "rm(",
     "library": "var_list.r",
     "varRefreshCmd": "cat(var_dic_list()) "
    }
   },
   "types_to_exclude": [
    "module",
    "function",
    "builtin_function_or_method",
    "instance",
    "_Feature"
   ],
   "window_display": false
  }
 },
 "nbformat": 4,
 "nbformat_minor": 5
}
