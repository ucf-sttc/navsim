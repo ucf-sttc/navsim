{
 "cells": [
  {
   "cell_type": "markdown",
   "id": "bdedf0ce",
   "metadata": {},
   "source": [
    "# Demo and test of RIDE environments"
   ]
  },
  {
   "cell_type": "code",
   "execution_count": 1,
   "id": "f13d3e51",
   "metadata": {
    "ExecuteTime": {
     "end_time": "2022-05-03T21:36:44.312048Z",
     "start_time": "2022-05-03T21:36:44.231034Z"
    }
   },
   "outputs": [
    {
     "data": {
      "application/vnd.jupyter.widget-view+json": {
       "model_id": "1480b0bfe3864cc0919336fc42a2baaf",
       "version_major": 2,
       "version_minor": 0
      },
      "text/plain": [
       "HBox(children=(Dropdown(description='Environment:', options=('ride-v0', 'arora-v0'), value='ride-v0'), Text(va…"
      ]
     },
     "metadata": {},
     "output_type": "display_data"
    }
   ],
   "source": [
    "import ipywidgets\n",
    "env_map={'ride-v0':'0.4.3',\n",
    "        'arora-v0':'2.10.15'}\n",
    "env_dd = ipywidgets.Dropdown(\n",
    "       options=list(env_map.keys()),\n",
    "       value=list(env_map.keys())[0],\n",
    "       description='Environment:')\n",
    "ver = ipywidgets.Text(\n",
    "       value=list(env_map.values())[0],\n",
    "       description='Version:', )\n",
    "# Updates the image options based on directory value\n",
    "def update_ver(*args):\n",
    "    ver.value = env_map.get(env_dd.value)\n",
    "    \n",
    "# Tie the image options to directory value\n",
    "env_dd.observe(update_ver, 'value')\n",
    "box = ipywidgets.HBox([env_dd,ver])\n",
    "box"
   ]
  },
  {
   "cell_type": "code",
   "execution_count": 9,
   "id": "94f1204b",
   "metadata": {
    "ExecuteTime": {
     "end_time": "2022-05-03T21:38:57.263353Z",
     "start_time": "2022-05-03T21:38:57.223290Z"
    }
   },
   "outputs": [],
   "source": [
    "%reload_ext autoreload\n",
    "%autoreload 2\n",
    "env_id = env_dd.value\n",
    "\n",
    "if env_id==\"ride-v0\":\n",
    "#from navsim_envs import ride as navenv\n",
    "    from navsim_envs.ride import default_env_config\n",
    "    from navsim_envs.ride import RideUnityEnv as UnityEnv\n",
    "    from navsim_envs.ride import RideGymEnv as GymEnv\n",
    "    env_path = f\"/data/work/unity-envs/RIDE_{ver.value}/RIDE\"\n",
    "elif env_id==\"arora-v0\":\n",
    "    from navsim_envs.arora import default_env_config\n",
    "    from navsim_envs.arora import AroraUnityEnv as UnityEnv\n",
    "    from navsim_envs.arora import AroraGymEnv as GymEnv\n",
    "    env_path = f\"/data/work/unity-envs/ARORA_{ver.value}/ARORA\"\n",
    "import gym\n",
    "import matplotlib.pyplot as plt\n",
    "from ezai.env import env_info\n",
    "import numpy as np\n",
    "import copy\n",
    "import yaml"
   ]
  },
  {
   "cell_type": "code",
   "execution_count": 10,
   "id": "3c2ec398",
   "metadata": {
    "ExecuteTime": {
     "end_time": "2022-05-03T21:38:58.226561Z",
     "start_time": "2022-05-03T21:38:58.145213Z"
    }
   },
   "outputs": [
    {
     "name": "stdout",
     "output_type": "stream",
     "text": [
      "arora-v0 : /data/work/unity-envs/ARORA_crt/ARORA\n"
     ]
    }
   ],
   "source": [
    "env_config = default_env_config.copy()\n",
    "env_config[\"env_path\"]=env_path\n",
    "env_config[\"seed\"]=123\n",
    "env_config[\"timeout\"]=600\n",
    "print(env_id,':',env_path)"
   ]
  },
  {
   "cell_type": "code",
   "execution_count": 11,
   "id": "9983be96",
   "metadata": {
    "ExecuteTime": {
     "end_time": "2022-05-03T21:38:59.564667Z",
     "start_time": "2022-05-03T21:38:59.536318Z"
    },
    "scrolled": false
   },
   "outputs": [
    {
     "name": "stdout",
     "output_type": "stream",
     "text": [
      "agent_car_physics: 0\n",
      "area: 0\n",
      "base_port: 5004\n",
      "debug: false\n",
      "env_gpu_id: 0\n",
      "env_path: /data/work/unity-envs/ARORA_crt/ARORA\n",
      "episode_max_steps: 1000\n",
      "goal: 0\n",
      "goal_clearance: 2.5\n",
      "goal_distance: 50\n",
      "log_folder: ./env_log\n",
      "obs_height: 64\n",
      "obs_mode: 0\n",
      "obs_width: 64\n",
      "relative_steering: true\n",
      "reward_collision_mul: 4\n",
      "reward_for_goal: 50\n",
      "reward_for_no_viable_path: -50\n",
      "reward_spl_delta_mul: 1\n",
      "reward_step_mul: 0.1\n",
      "save_actions: true\n",
      "save_vector_obs: true\n",
      "save_visual_obs: true\n",
      "seed: 123\n",
      "segmentation_mode: 1\n",
      "show_visual: false\n",
      "start_from_episode: 1\n",
      "task: 0\n",
      "timeout: 600\n",
      "traffic_vehicles: 0\n",
      "worker_id: 0\n",
      "\n"
     ]
    }
   ],
   "source": [
    "print(yaml.dump(env_config))"
   ]
  },
  {
   "cell_type": "markdown",
   "id": "814e2039",
   "metadata": {
    "ExecuteTime": {
     "end_time": "2022-01-16T13:59:02.546834Z",
     "start_time": "2022-01-16T13:59:02.524137Z"
    }
   },
   "source": [
    "# The UnityEnv"
   ]
  },
  {
   "cell_type": "code",
   "execution_count": null,
   "id": "7588f705",
   "metadata": {
    "ExecuteTime": {
     "end_time": "2022-05-03T19:49:07.014128Z",
     "start_time": "2022-05-03T19:49:06.997188Z"
    }
   },
   "outputs": [],
   "source": [
    "#env_config[\"env_path\"]=None\n",
    "env_config[\"obs_mode\"]=1"
   ]
  },
  {
   "cell_type": "code",
   "execution_count": null,
   "id": "53de9e07",
   "metadata": {
    "ExecuteTime": {
     "end_time": "2022-05-03T19:49:09.386360Z",
     "start_time": "2022-05-03T19:49:07.835664Z"
    }
   },
   "outputs": [],
   "source": [
    "uenv = UnityEnv(env_config)"
   ]
  },
  {
   "cell_type": "code",
   "execution_count": null,
   "id": "005ea667",
   "metadata": {
    "ExecuteTime": {
     "end_time": "2022-05-03T19:49:13.852883Z",
     "start_time": "2022-05-03T19:49:10.300688Z"
    }
   },
   "outputs": [],
   "source": [
    "uenv.reset()"
   ]
  },
  {
   "cell_type": "code",
   "execution_count": null,
   "id": "fa0a1a0e",
   "metadata": {
    "ExecuteTime": {
     "end_time": "2022-05-03T19:49:16.962818Z",
     "start_time": "2022-05-03T19:49:16.947571Z"
    }
   },
   "outputs": [],
   "source": [
    "print(uenv.unity_max_x,uenv.unity_max_z)"
   ]
  },
  {
   "cell_type": "code",
   "execution_count": null,
   "id": "d1fdcfd8",
   "metadata": {
    "ExecuteTime": {
     "end_time": "2022-05-03T19:49:17.869747Z",
     "start_time": "2022-05-03T19:49:17.853810Z"
    }
   },
   "outputs": [],
   "source": [
    "print(uenv.navmap_max_x,uenv.navmap_max_y)"
   ]
  },
  {
   "cell_type": "code",
   "execution_count": null,
   "id": "b9af0793",
   "metadata": {
    "ExecuteTime": {
     "end_time": "2022-05-03T19:49:22.116311Z",
     "start_time": "2022-05-03T19:49:21.860405Z"
    }
   },
   "outputs": [],
   "source": [
    "!nvidia-smi"
   ]
  },
  {
   "cell_type": "code",
   "execution_count": null,
   "id": "d7756f99",
   "metadata": {
    "ExecuteTime": {
     "end_time": "2022-04-29T18:24:50.356857Z",
     "start_time": "2022-04-29T18:24:50.340382Z"
    }
   },
   "outputs": [],
   "source": [
    "#print(uenv.get_shortest_path())"
   ]
  },
  {
   "cell_type": "code",
   "execution_count": null,
   "id": "d18dc1b8",
   "metadata": {
    "ExecuteTime": {
     "end_time": "2022-05-03T19:49:29.842259Z",
     "start_time": "2022-05-03T19:49:29.256776Z"
    }
   },
   "outputs": [],
   "source": [
    "uenv.close()"
   ]
  },
  {
   "cell_type": "code",
   "execution_count": null,
   "id": "0582bea7",
   "metadata": {
    "ExecuteTime": {
     "end_time": "2022-05-03T19:49:42.064292Z",
     "start_time": "2022-05-03T19:49:37.287453Z"
    }
   },
   "outputs": [],
   "source": [
    "env_config[\"env_gpu_id\"]=1\n",
    "uenv = UnityEnv(env_config)\n",
    "uenv.reset()"
   ]
  },
  {
   "cell_type": "code",
   "execution_count": null,
   "id": "0cb305b1",
   "metadata": {
    "ExecuteTime": {
     "end_time": "2022-05-03T19:51:35.904719Z",
     "start_time": "2022-05-03T19:51:35.883286Z"
    }
   },
   "outputs": [],
   "source": [
    "print(uenv.unity_max_x,uenv.unity_max_z)"
   ]
  },
  {
   "cell_type": "code",
   "execution_count": null,
   "id": "16153aa1",
   "metadata": {
    "ExecuteTime": {
     "end_time": "2022-05-03T19:51:52.376744Z",
     "start_time": "2022-05-03T19:51:46.725186Z"
    }
   },
   "outputs": [],
   "source": [
    "uenv.reset()"
   ]
  },
  {
   "cell_type": "code",
   "execution_count": null,
   "id": "ffaf3589",
   "metadata": {
    "ExecuteTime": {
     "end_time": "2022-05-03T19:51:56.517936Z",
     "start_time": "2022-05-03T19:51:56.277154Z"
    }
   },
   "outputs": [],
   "source": [
    "!nvidia-smi"
   ]
  },
  {
   "cell_type": "code",
   "execution_count": null,
   "id": "b8ca07af",
   "metadata": {
    "ExecuteTime": {
     "end_time": "2022-05-03T19:53:08.110779Z",
     "start_time": "2022-05-03T19:53:06.275140Z"
    }
   },
   "outputs": [],
   "source": [
    "uenv.close()"
   ]
  },
  {
   "cell_type": "markdown",
   "id": "46e8515e",
   "metadata": {},
   "source": [
    "# The GymEnv"
   ]
  },
  {
   "cell_type": "code",
   "execution_count": null,
   "id": "9e0e0492",
   "metadata": {
    "ExecuteTime": {
     "start_time": "2022-05-03T21:36:25.714Z"
    }
   },
   "outputs": [],
   "source": [
    "# look at all observation modes\n",
    "for i in UnityEnv.observation_modes:\n",
    "    env_config[\"obs_mode\"]=i\n",
    "    env = gym.make(env_id, env_config=env_config) # ride.RideGymEnv(env_config)\n",
    "    print('Observation Mode {}'.format(env_config[\"obs_mode\"]))\n",
    "    env_info(env)\n",
    "    obs = env.reset()\n",
    "    env.close()\n",
    "    del env"
   ]
  },
  {
   "cell_type": "code",
   "execution_count": 12,
   "id": "d3604cd9",
   "metadata": {
    "ExecuteTime": {
     "end_time": "2022-05-03T21:39:15.212045Z",
     "start_time": "2022-05-03T21:39:03.441156Z"
    }
   },
   "outputs": [
    {
     "name": "stdout",
     "output_type": "stream",
     "text": [
      "[INFO] Connected to Unity environment with package version 2.3.0-exp.2 and communication version 1.5.0\n",
      "[INFO] Created UnityEnvironment from /data/work/unity-envs/ARORA_crt/ARORA at port 5005 to start from episode 1\n",
      "[INFO] Connected new brain: VectorNavigator?team=0\n",
      "Forward:\n"
     ]
    },
    {
     "data": {
      "image/png": "[encoded data removed]",
      "text/plain": [
       "<Figure size 432x288 with 1 Axes>"
      ]
     },
     "metadata": {
      "needs_background": "light"
     },
     "output_type": "display_data"
    },
    {
     "data": {
      "image/png": "[encoded data removed]",
      "text/plain": [
       "<Figure size 432x288 with 1 Axes>"
      ]
     },
     "metadata": {
      "needs_background": "light"
     },
     "output_type": "display_data"
    },
    {
     "data": {
      "image/png": "[encoded data removed]",
      "text/plain": [
       "<Figure size 432x288 with 1 Axes>"
      ]
     },
     "metadata": {
      "needs_background": "light"
     },
     "output_type": "display_data"
    },
    {
     "name": "stdout",
     "output_type": "stream",
     "text": [
      "Backward:\n"
     ]
    },
    {
     "data": {
      "image/png": "[encoded data removed]",
      "text/plain": [
       "<Figure size 432x288 with 1 Axes>"
      ]
     },
     "metadata": {
      "needs_background": "light"
     },
     "output_type": "display_data"
    },
    {
     "data": {
      "image/png": "[encoded data removed]",
      "text/plain": [
       "<Figure size 432x288 with 1 Axes>"
      ]
     },
     "metadata": {
      "needs_background": "light"
     },
     "output_type": "display_data"
    },
    {
     "data": {
      "image/png": "[encoded data removed]",
      "text/plain": [
       "<Figure size 432x288 with 1 Axes>"
      ]
     },
     "metadata": {
      "needs_background": "light"
     },
     "output_type": "display_data"
    }
   ],
   "source": [
    "# test for 5 steps forward and 5 steps back \n",
    "env_config[\"obs_mode\"]=1\n",
    "env = gym.make(env_id, env_config=env_config)\n",
    "\n",
    "steps = 1\n",
    "obs = env.reset()\n",
    "#print(obs)\n",
    "print(\"Forward:\")\n",
    "for i in range(steps):\n",
    "    obs = env.step(UnityEnv.actions['forward'])\n",
    "    #print(obs[-1])\n",
    "    plt.imshow(env.render(mode='rgb_array'))\n",
    "    plt.show()\n",
    "    plt.imshow(env.render(mode='depth'))\n",
    "    plt.show()\n",
    "    plt.imshow(env.render(mode='segmentation'))\n",
    "    plt.show()\n",
    "print(\"Backward:\")\n",
    "for i in range(steps):\n",
    "    obs = env.step(UnityEnv.actions['backward'])\n",
    "    #print(obs[-1])\n",
    "    plt.imshow(env.render(mode='rgb_array'))\n",
    "    plt.show()\n",
    "    plt.imshow(env.render(mode='depth'))\n",
    "    plt.show()\n",
    "    plt.imshow(env.render(mode='segmentation'))\n",
    "    plt.show()\n",
    "env.close()\n",
    "del env"
   ]
  },
  {
   "cell_type": "markdown",
   "id": "a33f51a9",
   "metadata": {},
   "source": [
    "# Pending bugs"
   ]
  },
  {
   "cell_type": "code",
   "execution_count": null,
   "id": "a50f2c63",
   "metadata": {},
   "outputs": [],
   "source": [
    "# open uenv, run genv, then close uenv "
   ]
  }
 ],
 "metadata": {
  "kernelspec": {
   "display_name": "Python 3 (ipykernel)",
   "language": "python",
   "name": "python3"
  },
  "language_info": {
   "codemirror_mode": {
    "name": "ipython",
    "version": 3
   },
   "file_extension": ".py",
   "mimetype": "text/x-python",
   "name": "python",
   "nbconvert_exporter": "python",
   "pygments_lexer": "ipython3",
   "version": "3.8.12"
  },
  "toc": {
   "base_numbering": 1,
   "nav_menu": {},
   "number_sections": true,
   "sideBar": true,
   "skip_h1_title": false,
   "title_cell": "Table of Contents",
   "title_sidebar": "Contents",
   "toc_cell": false,
   "toc_position": {},
   "toc_section_display": true,
   "toc_window_display": false
  },
  "varInspector": {
   "cols": {
    "lenName": 16,
    "lenType": 16,
    "lenVar": 40
   },
   "kernels_config": {
    "python": {
     "delete_cmd_postfix": "",
     "delete_cmd_prefix": "del ",
     "library": "var_list.py",
     "varRefreshCmd": "print(var_dic_list())"
    },
    "r": {
     "delete_cmd_postfix": ") ",
     "delete_cmd_prefix": "rm(",
     "library": "var_list.r",
     "varRefreshCmd": "cat(var_dic_list()) "
    }
   },
   "types_to_exclude": [
    "module",
    "function",
    "builtin_function_or_method",
    "instance",
    "_Feature"
   ],
   "window_display": false
  }
 },
 "nbformat": 4,
 "nbformat_minor": 5
}
