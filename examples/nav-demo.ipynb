{
 "cells": [
  {
   "cell_type": "markdown",
   "id": "bdedf0ce",
   "metadata": {},
   "source": [
    "# Demo and test environments"
   ]
  },
  {
   "cell_type": "code",
   "execution_count": 1,
   "id": "946544da",
   "metadata": {
    "ExecuteTime": {
     "end_time": "2022-05-16T20:18:34.720275Z",
     "start_time": "2022-05-16T20:18:34.048225Z"
    }
   },
   "outputs": [],
   "source": [
    "%reload_ext autoreload\n",
    "%autoreload 2\n",
    "import gym\n",
    "import matplotlib.pyplot as plt\n",
    "from ezai.env import env_info\n",
    "import numpy as np\n",
    "import copy\n",
    "import yaml"
   ]
  },
  {
   "cell_type": "code",
   "execution_count": 2,
   "id": "f13d3e51",
   "metadata": {
    "ExecuteTime": {
     "end_time": "2022-05-16T20:18:36.034118Z",
     "start_time": "2022-05-16T20:18:35.931593Z"
    }
   },
   "outputs": [
    {
     "data": {
      "application/vnd.jupyter.widget-view+json": {
       "model_id": "b709f62b85e2452fbeb8af5af67eee76",
       "version_major": 2,
       "version_minor": 0
      },
      "text/plain": [
       "HBox(children=(Dropdown(description='Environment:', options=('ride-v0', 'arora-v0'), value='ride-v0'), Text(va…"
      ]
     },
     "metadata": {},
     "output_type": "display_data"
    },
    {
     "data": {
      "application/javascript": [
       "Jupyter.notebook.select_next().get_selected_cell()"
      ],
      "text/plain": [
       "<IPython.core.display.Javascript object>"
      ]
     },
     "metadata": {},
     "output_type": "display_data"
    },
    {
     "data": {
      "application/javascript": [
       "Jupyter.notebook.select_next().get_selected_cell()"
      ],
      "text/plain": [
       "<IPython.core.display.Javascript object>"
      ]
     },
     "metadata": {},
     "output_type": "display_data"
    },
    {
     "data": {
      "application/javascript": [
       "Jupyter.notebook.select_next().get_selected_cell()"
      ],
      "text/plain": [
       "<IPython.core.display.Javascript object>"
      ]
     },
     "metadata": {},
     "output_type": "display_data"
    }
   ],
   "source": [
    "from IPython.display import display,Javascript\n",
    "import ipywidgets\n",
    "env_map={'ride-v0':'0.4.3',\n",
    "        'arora-v0':'2.10.15'}\n",
    "env_dd = ipywidgets.Dropdown(\n",
    "       options=list(env_map.keys()),\n",
    "       value=list(env_map.keys())[0],\n",
    "       description='Environment:')\n",
    "ver = ipywidgets.Text(\n",
    "       value=list(env_map.values())[0],\n",
    "       description='Version:', )\n",
    "def nxtHandler(b):\n",
    "    display(Javascript('Jupyter.notebook.select_next().get_selected_cell()'))\n",
    "    #get_ipython().set_next_input(replace=False)\n",
    "    \n",
    "nxt = ipywidgets.Button(description='Next Cell')\n",
    "nxt.on_click(nxtHandler)\n",
    "\n",
    "def update_ver(*args):\n",
    "    ver.value = env_map.get(env_dd.value)\n",
    "    \n",
    "env_dd.observe(update_ver, 'value')\n",
    "box = ipywidgets.HBox([env_dd,ver,nxt])\n",
    "display(box)"
   ]
  },
  {
   "cell_type": "code",
   "execution_count": 22,
   "id": "94f1204b",
   "metadata": {
    "ExecuteTime": {
     "end_time": "2022-05-16T20:27:05.406983Z",
     "start_time": "2022-05-16T20:27:05.340417Z"
    }
   },
   "outputs": [
    {
     "name": "stdout",
     "output_type": "stream",
     "text": [
      "arora-v0 : /data/work/unity-envs/ARORA_2.10.15/ARORA\n"
     ]
    }
   ],
   "source": [
    "env_id = env_dd.value\n",
    "\n",
    "if env_id==\"ride-v0\":\n",
    "#from navsim_envs import ride as navenv\n",
    "    from navsim_envs.ride import default_env_config\n",
    "    from navsim_envs.ride import RideUnityEnv as UnityEnv\n",
    "    from navsim_envs.ride import RideGymEnv as GymEnv\n",
    "    env_path = f\"/data/work/unity-envs/RIDE_{ver.value}/RIDE\"\n",
    "elif env_id==\"arora-v0\":\n",
    "    from navsim_envs.arora import default_env_config\n",
    "    from navsim_envs.arora import AroraUnityEnv as UnityEnv\n",
    "    from navsim_envs.arora import AroraGymEnv as GymEnv\n",
    "    env_path = f\"/data/work/unity-envs/ARORA_{ver.value}/ARORA\"\n",
    "print(env_id,':',env_path)"
   ]
  },
  {
   "cell_type": "code",
   "execution_count": 23,
   "id": "3c2ec398",
   "metadata": {
    "ExecuteTime": {
     "end_time": "2022-05-16T20:27:05.982376Z",
     "start_time": "2022-05-16T20:27:05.967310Z"
    }
   },
   "outputs": [
    {
     "name": "stdout",
     "output_type": "stream",
     "text": [
      "agent_car_physics: 0\n",
      "area: 0\n",
      "base_port: 5004\n",
      "debug: false\n",
      "env_gpu_id: 0\n",
      "env_path: /data/work/unity-envs/ARORA_2.10.15/ARORA\n",
      "episode_max_steps: 1000\n",
      "goal: 0\n",
      "goal_clearance: 2.5\n",
      "goal_distance: 50\n",
      "log_folder: ./env_log\n",
      "obs_height: 64\n",
      "obs_mode: 1\n",
      "obs_width: 64\n",
      "relative_steering: true\n",
      "reward_collision_mul: 4\n",
      "reward_for_goal: 50\n",
      "reward_for_no_viable_path: -50\n",
      "reward_spl_delta_mul: 1\n",
      "reward_step_mul: 0.1\n",
      "save_actions: true\n",
      "save_vector_obs: true\n",
      "save_visual_obs: true\n",
      "seed: 123\n",
      "segmentation_mode: 1\n",
      "show_visual: false\n",
      "start_from_episode: 1\n",
      "task: 0\n",
      "timeout: 60\n",
      "traffic_vehicles: 0\n",
      "worker_id: 0\n",
      "\n"
     ]
    }
   ],
   "source": [
    "env_config = None\n",
    "def config():\n",
    "    global env_config\n",
    "    env_config = default_env_config.copy()\n",
    "    env_config[\"env_path\"]=env_path\n",
    "    env_config[\"seed\"]=123\n",
    "    env_config[\"timeout\"]=60\n",
    "    env_config[\"obs_mode\"]=1\n",
    "    print(yaml.dump(env_config))\n",
    "config()"
   ]
  },
  {
   "cell_type": "markdown",
   "id": "814e2039",
   "metadata": {
    "ExecuteTime": {
     "end_time": "2022-01-16T13:59:02.546834Z",
     "start_time": "2022-01-16T13:59:02.524137Z"
    }
   },
   "source": [
    "# The UnityEnv"
   ]
  },
  {
   "cell_type": "code",
   "execution_count": 24,
   "id": "883fb4a0",
   "metadata": {
    "ExecuteTime": {
     "end_time": "2022-05-16T20:27:07.490373Z",
     "start_time": "2022-05-16T20:27:07.476187Z"
    }
   },
   "outputs": [
    {
     "name": "stdout",
     "output_type": "stream",
     "text": [
      "agent_car_physics: 0\n",
      "area: 0\n",
      "base_port: 5004\n",
      "debug: false\n",
      "env_gpu_id: 0\n",
      "env_path: /data/work/unity-envs/ARORA_2.10.15/ARORA\n",
      "episode_max_steps: 1000\n",
      "goal: 0\n",
      "goal_clearance: 2.5\n",
      "goal_distance: 50\n",
      "log_folder: ./env_log\n",
      "obs_height: 64\n",
      "obs_mode: 1\n",
      "obs_width: 64\n",
      "relative_steering: true\n",
      "reward_collision_mul: 4\n",
      "reward_for_goal: 50\n",
      "reward_for_no_viable_path: -50\n",
      "reward_spl_delta_mul: 1\n",
      "reward_step_mul: 0.1\n",
      "save_actions: true\n",
      "save_vector_obs: true\n",
      "save_visual_obs: true\n",
      "seed: 123\n",
      "segmentation_mode: 1\n",
      "show_visual: false\n",
      "start_from_episode: 1\n",
      "task: 0\n",
      "timeout: 60\n",
      "traffic_vehicles: 0\n",
      "worker_id: 0\n",
      "\n"
     ]
    }
   ],
   "source": [
    "config()"
   ]
  },
  {
   "cell_type": "code",
   "execution_count": 25,
   "id": "53de9e07",
   "metadata": {
    "ExecuteTime": {
     "end_time": "2022-05-16T20:27:13.848610Z",
     "start_time": "2022-05-16T20:27:08.503617Z"
    }
   },
   "outputs": [
    {
     "name": "stdout",
     "output_type": "stream",
     "text": [
      "[INFO] Connected to Unity environment with package version 2.1.0-exp.1 and communication version 1.5.0\n",
      "[INFO] Created UnityEnvironment from /mnt/disk1/work/unity-envs/ARORA_2.10.15/ARORA at port 5005 to start from episode 1\n"
     ]
    }
   ],
   "source": [
    "#env_config[\"env_path\"]=None\n",
    "uenv = UnityEnv(env_config)"
   ]
  },
  {
   "cell_type": "code",
   "execution_count": 26,
   "id": "005ea667",
   "metadata": {
    "ExecuteTime": {
     "end_time": "2022-05-16T20:27:15.323623Z",
     "start_time": "2022-05-16T20:27:13.926802Z"
    }
   },
   "outputs": [
    {
     "name": "stdout",
     "output_type": "stream",
     "text": [
      "[INFO] Connected new brain: VectorNavigator?team=0\n",
      "I am in reset\n",
      "fpc: 3284.0 2666.0\n"
     ]
    }
   ],
   "source": [
    "uenv.reset()"
   ]
  },
  {
   "cell_type": "code",
   "execution_count": 27,
   "id": "fa0a1a0e",
   "metadata": {
    "ExecuteTime": {
     "end_time": "2022-05-16T20:27:15.413317Z",
     "start_time": "2022-05-16T20:27:15.402379Z"
    }
   },
   "outputs": [
    {
     "name": "stdout",
     "output_type": "stream",
     "text": [
      "3284.0 2666.0\n"
     ]
    }
   ],
   "source": [
    "print(uenv.unity_max_x,uenv.unity_max_z)"
   ]
  },
  {
   "cell_type": "code",
   "execution_count": 28,
   "id": "d1fdcfd8",
   "metadata": {
    "ExecuteTime": {
     "end_time": "2022-05-16T20:27:15.510990Z",
     "start_time": "2022-05-16T20:27:15.499949Z"
    }
   },
   "outputs": [
    {
     "name": "stdout",
     "output_type": "stream",
     "text": [
      "3284 2666\n"
     ]
    }
   ],
   "source": [
    "print(uenv.navmap_max_x,uenv.navmap_max_y)"
   ]
  },
  {
   "cell_type": "code",
   "execution_count": 29,
   "id": "368c1e65",
   "metadata": {
    "ExecuteTime": {
     "end_time": "2022-05-16T20:27:16.784360Z",
     "start_time": "2022-05-16T20:27:16.769138Z"
    }
   },
   "outputs": [
    {
     "name": "stdout",
     "output_type": "stream",
     "text": [
      "inside channel code 1: [2467.2001953125, 35.97684097290039, 788.800048828125, 2497.33349609375, 35.66666793823242, 812.0000610351562, 2498.33349609375, 35.66666793823242, 813.0000610351562, 2504.041015625, 35.77082824707031, 821.8750610351562]\n",
      "inside channel code 2: [[2467.20019531   35.97684097  788.80004883]\n",
      " [2497.33349609   35.66666794  812.00006104]\n",
      " [2498.33349609   35.66666794  813.00006104]\n",
      " [2504.04101562   35.77082825  821.87506104]]\n",
      "[[2467.20019531   35.97684097  788.80004883]\n",
      " [2497.33349609   35.66666794  812.00006104]\n",
      " [2498.33349609   35.66666794  813.00006104]\n",
      " [2504.04101562   35.77082825  821.87506104]]\n"
     ]
    }
   ],
   "source": [
    "print(uenv.shortest_path)"
   ]
  },
  {
   "cell_type": "code",
   "execution_count": 30,
   "id": "d18dc1b8",
   "metadata": {
    "ExecuteTime": {
     "end_time": "2022-05-16T20:27:29.255785Z",
     "start_time": "2022-05-16T20:27:26.374091Z"
    }
   },
   "outputs": [],
   "source": [
    "uenv.close()"
   ]
  },
  {
   "cell_type": "markdown",
   "id": "46e8515e",
   "metadata": {},
   "source": [
    "# The GymEnv"
   ]
  },
  {
   "cell_type": "code",
   "execution_count": null,
   "id": "9e0e0492",
   "metadata": {
    "ExecuteTime": {
     "start_time": "2022-05-03T21:36:25.714Z"
    }
   },
   "outputs": [],
   "source": [
    "# look at all observation modes\n",
    "for i in UnityEnv.observation_modes:\n",
    "    env_config[\"obs_mode\"]=i\n",
    "    env = gym.make(env_id, env_config=env_config) # ride.RideGymEnv(env_config)\n",
    "    print('Observation Mode {}'.format(env_config[\"obs_mode\"]))\n",
    "    env_info(env)\n",
    "    obs = env.reset()\n",
    "    env.close()\n",
    "    del env"
   ]
  },
  {
   "cell_type": "code",
   "execution_count": null,
   "id": "d3604cd9",
   "metadata": {
    "ExecuteTime": {
     "end_time": "2022-05-09T19:36:57.399697Z",
     "start_time": "2022-05-09T19:36:52.634493Z"
    }
   },
   "outputs": [],
   "source": [
    "# test for 5 steps forward and 5 steps back \n",
    "env_config[\"obs_mode\"]=1\n",
    "env_config[\"env_gpu_id\"]=0\n",
    "#env_config[\"show_visual\"]=True\n",
    "\n",
    "env = gym.make(env_id, env_config=env_config)\n",
    "\n",
    "steps = 5\n",
    "obs = env.reset()\n",
    "#print(obs)\n",
    "print(\"Forward:\")\n",
    "for i in range(steps):\n",
    "    obs = env.step(UnityEnv.actions['forward'])\n",
    "    #print(obs[-1])\n",
    "    #plt.imshow(env.render(mode='rgb_array'))\n",
    "    #plt.show()\n",
    "    #plt.imshow(env.render(mode='depth'))\n",
    "    #plt.show()\n",
    "    #plt.imshow(env.render(mode='segmentation'))\n",
    "    #plt.show()\n",
    "print(\"Backward:\")\n",
    "for i in range(steps):\n",
    "    obs = env.step(UnityEnv.actions['backward'])\n",
    "    #print(obs[-1])\n",
    "    #plt.imshow(env.render(mode='rgb_array'))\n",
    "    #plt.show()\n",
    "    #plt.imshow(env.render(mode='depth'))\n",
    "    #plt.show()\n",
    "    #plt.imshow(env.render(mode='segmentation'))\n",
    "    #plt.show()\n",
    "env.close()\n",
    "del env"
   ]
  },
  {
   "cell_type": "code",
   "execution_count": null,
   "id": "87788ebf",
   "metadata": {
    "ExecuteTime": {
     "end_time": "2022-05-06T16:31:08.430842Z",
     "start_time": "2022-05-06T16:30:35.902916Z"
    }
   },
   "outputs": [],
   "source": [
    "# test for 5 steps forward and 5 steps back \n",
    "env_config[\"obs_mode\"]=1\n",
    "env_config[\"env_gpu_id\"]=1\n",
    "#env_config[\"show_visual\"]=True\n",
    "\n",
    "env = gym.make(env_id, env_config=env_config)\n",
    "\n",
    "steps = 200\n",
    "obs = env.reset()\n",
    "#print(obs)\n",
    "print(\"Forward:\")\n",
    "for i in range(steps):\n",
    "    obs = env.step(UnityEnv.actions['forward'])\n",
    "    #print(obs[-1])\n",
    "    #plt.imshow(env.render(mode='rgb_array'))\n",
    "    #plt.show()\n",
    "    #plt.imshow(env.render(mode='depth'))\n",
    "    #plt.show()\n",
    "    #plt.imshow(env.render(mode='segmentation'))\n",
    "    #plt.show()\n",
    "print(\"Backward:\")\n",
    "for i in range(steps):\n",
    "    obs = env.step(UnityEnv.actions['backward'])\n",
    "    #print(obs[-1])\n",
    "    #plt.imshow(env.render(mode='rgb_array'))\n",
    "    #plt.show()\n",
    "    #plt.imshow(env.render(mode='depth'))\n",
    "    #plt.show()\n",
    "    #plt.imshow(env.render(mode='segmentation'))\n",
    "    #plt.show()\n",
    "env.close()\n",
    "del env"
   ]
  },
  {
   "cell_type": "markdown",
   "id": "a33f51a9",
   "metadata": {},
   "source": [
    "# The mapping capabilities"
   ]
  },
  {
   "cell_type": "code",
   "execution_count": null,
   "id": "7ac9a877",
   "metadata": {
    "ExecuteTime": {
     "end_time": "2022-05-13T16:24:55.121611Z",
     "start_time": "2022-05-13T16:24:55.098504Z"
    }
   },
   "outputs": [],
   "source": [
    "config()"
   ]
  },
  {
   "cell_type": "code",
   "execution_count": null,
   "id": "8b7e669b",
   "metadata": {
    "ExecuteTime": {
     "end_time": "2022-05-13T16:25:00.077503Z",
     "start_time": "2022-05-13T16:24:55.882478Z"
    }
   },
   "outputs": [],
   "source": [
    "env = gym.make(env_id, env_config=env_config)"
   ]
  },
  {
   "cell_type": "code",
   "execution_count": null,
   "id": "a50f2c63",
   "metadata": {
    "ExecuteTime": {
     "end_time": "2022-05-13T16:25:00.273136Z",
     "start_time": "2022-05-13T16:25:00.126643Z"
    }
   },
   "outputs": [],
   "source": [
    "navmap = env.get_navigable_map()"
   ]
  },
  {
   "cell_type": "code",
   "execution_count": null,
   "id": "60e8b1a8",
   "metadata": {
    "ExecuteTime": {
     "end_time": "2022-05-13T16:25:03.501303Z",
     "start_time": "2022-05-13T16:25:02.520147Z"
    }
   },
   "outputs": [],
   "source": [
    "plt.figure(figsize=(16,16))\n",
    "plt.imshow(navmap,origin='lower',cmap='gray', vmin=0, vmax=1)\n",
    "plt.show()"
   ]
  },
  {
   "cell_type": "code",
   "execution_count": null,
   "id": "97c688e1",
   "metadata": {
    "ExecuteTime": {
     "end_time": "2022-05-13T16:38:30.478851Z",
     "start_time": "2022-05-13T16:37:33.694056Z"
    }
   },
   "outputs": [],
   "source": [
    "area = env.get_navigable_map_zoom_area(0,0,29,19)\n",
    "print(area.shape)"
   ]
  },
  {
   "cell_type": "code",
   "execution_count": null,
   "id": "18913dd8",
   "metadata": {
    "ExecuteTime": {
     "end_time": "2022-05-13T16:38:30.915820Z",
     "start_time": "2022-05-13T16:38:30.516890Z"
    }
   },
   "outputs": [],
   "source": [
    "plt.figure(figsize=(8,8))\n",
    "plt.imshow(area,origin='lower',cmap='gray', vmin=0, vmax=1)\n",
    "plt.show()"
   ]
  },
  {
   "cell_type": "code",
   "execution_count": null,
   "id": "6fba95fa",
   "metadata": {
    "ExecuteTime": {
     "end_time": "2022-05-13T16:38:31.074200Z",
     "start_time": "2022-05-13T16:38:30.950251Z"
    }
   },
   "outputs": [],
   "source": [
    "plt.figure(figsize=(8,8))\n",
    "plt.imshow(navmap[0:20,0:30],origin='lower',cmap='gray', vmin=0, vmax=1)\n",
    "plt.show()"
   ]
  },
  {
   "cell_type": "code",
   "execution_count": null,
   "id": "fef88442",
   "metadata": {
    "ExecuteTime": {
     "end_time": "2022-05-13T16:39:57.470794Z",
     "start_time": "2022-05-13T16:39:57.087191Z"
    }
   },
   "outputs": [],
   "source": [
    "env.close()"
   ]
  },
  {
   "cell_type": "code",
   "execution_count": null,
   "id": "8181bdae",
   "metadata": {},
   "outputs": [],
   "source": [
    "env_config[\"env_gpu_id\"]=1\n",
    "uenv = UnityEnv(env_config)\n",
    "uenv.reset()\n",
    "uenv.close()\n",
    "!nvidia-smi\n",
    "!ps -aux | grep crt"
   ]
  },
  {
   "cell_type": "markdown",
   "id": "5bf7fc2b",
   "metadata": {},
   "source": [
    "# pending bugs"
   ]
  },
  {
   "cell_type": "markdown",
   "id": "d5149739",
   "metadata": {},
   "source": [
    "1. When you call ARORA shortest_path second time or more, the path is empty.\n",
    "2. For RIDE, shortest path isnt even coming\n",
    "3. "
   ]
  }
 ],
 "metadata": {
  "kernelspec": {
   "display_name": "Python 3 (ipykernel)",
   "language": "python",
   "name": "python3"
  },
  "language_info": {
   "codemirror_mode": {
    "name": "ipython",
    "version": 3
   },
   "file_extension": ".py",
   "mimetype": "text/x-python",
   "name": "python",
   "nbconvert_exporter": "python",
   "pygments_lexer": "ipython3",
   "version": "3.8.12"
  },
  "toc": {
   "base_numbering": 1,
   "nav_menu": {},
   "number_sections": true,
   "sideBar": true,
   "skip_h1_title": false,
   "title_cell": "Table of Contents",
   "title_sidebar": "Contents",
   "toc_cell": false,
   "toc_position": {},
   "toc_section_display": true,
   "toc_window_display": false
  },
  "varInspector": {
   "cols": {
    "lenName": 16,
    "lenType": 16,
    "lenVar": 40
   },
   "kernels_config": {
    "python": {
     "delete_cmd_postfix": "",
     "delete_cmd_prefix": "del ",
     "library": "var_list.py",
     "varRefreshCmd": "print(var_dic_list())"
    },
    "r": {
     "delete_cmd_postfix": ") ",
     "delete_cmd_prefix": "rm(",
     "library": "var_list.r",
     "varRefreshCmd": "cat(var_dic_list()) "
    }
   },
   "types_to_exclude": [
    "module",
    "function",
    "builtin_function_or_method",
    "instance",
    "_Feature"
   ],
   "window_display": false
  }
 },
 "nbformat": 4,
 "nbformat_minor": 5
}
