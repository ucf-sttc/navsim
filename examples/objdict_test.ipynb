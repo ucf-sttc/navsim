{
 "cells": [
  {
   "cell_type": "code",
   "execution_count": 1,
   "id": "f99b4d51",
   "metadata": {
    "ExecuteTime": {
     "end_time": "2021-08-13T11:36:51.811303Z",
     "start_time": "2021-08-13T11:36:51.796021Z"
    }
   },
   "outputs": [],
   "source": [
    "%reload_ext autoreload\n",
    "%autoreload 2"
   ]
  },
  {
   "cell_type": "code",
   "execution_count": 2,
   "id": "d1bf935b",
   "metadata": {
    "ExecuteTime": {
     "end_time": "2021-08-13T11:36:52.558235Z",
     "start_time": "2021-08-13T11:36:52.526028Z"
    }
   },
   "outputs": [],
   "source": [
    "from navsim.util.dict import ObjDict"
   ]
  },
  {
   "cell_type": "code",
   "execution_count": 3,
   "id": "2bd3c727",
   "metadata": {
    "ExecuteTime": {
     "end_time": "2021-08-13T11:36:56.040057Z",
     "start_time": "2021-08-13T11:36:56.028654Z"
    }
   },
   "outputs": [],
   "source": [
    "a1 = {\"a\":5,\"b\":6}\n",
    "a2 = {\"a\":5,\"b\":6, \"c\":{\"a\":5,\"b\":6}}\n",
    "a3 = {\"a\":5,\"b\":6, \"c\":{\"a\":5,\"b\":6, \"c\":{\"a\":5,\"b\":6}}}"
   ]
  },
  {
   "cell_type": "code",
   "execution_count": 4,
   "id": "341d505f",
   "metadata": {
    "ExecuteTime": {
     "end_time": "2021-08-13T11:36:56.880101Z",
     "start_time": "2021-08-13T11:36:56.868505Z"
    }
   },
   "outputs": [],
   "source": [
    "import yaml, json\n",
    "\n",
    "def to_yaml(obj):\n",
    "    return yaml.dump(json.loads(json.dumps(obj)))"
   ]
  },
  {
   "cell_type": "code",
   "execution_count": 5,
   "id": "cbd9d5f6",
   "metadata": {
    "ExecuteTime": {
     "end_time": "2021-08-13T11:36:57.521726Z",
     "start_time": "2021-08-13T11:36:57.508720Z"
    }
   },
   "outputs": [
    {
     "name": "stdout",
     "output_type": "stream",
     "text": [
      "a: 5\n",
      "b: 6\n",
      "\n"
     ]
    }
   ],
   "source": [
    "print(to_yaml(a1))"
   ]
  },
  {
   "cell_type": "code",
   "execution_count": 6,
   "id": "ae6a233d",
   "metadata": {
    "ExecuteTime": {
     "end_time": "2021-08-13T11:36:58.376788Z",
     "start_time": "2021-08-13T11:36:58.363583Z"
    }
   },
   "outputs": [
    {
     "name": "stdout",
     "output_type": "stream",
     "text": [
      "a: 5\n",
      "b: 6\n",
      "c:\n",
      "  a: 5\n",
      "  b: 6\n",
      "\n"
     ]
    }
   ],
   "source": [
    "print(to_yaml(a2))"
   ]
  },
  {
   "cell_type": "code",
   "execution_count": 7,
   "id": "d0cdefdf",
   "metadata": {
    "ExecuteTime": {
     "end_time": "2021-08-13T11:36:59.175943Z",
     "start_time": "2021-08-13T11:36:59.164389Z"
    }
   },
   "outputs": [
    {
     "name": "stdout",
     "output_type": "stream",
     "text": [
      "a: 5\n",
      "b: 6\n",
      "c:\n",
      "  a: 5\n",
      "  b: 6\n",
      "  c:\n",
      "    a: 5\n",
      "    b: 6\n",
      "\n"
     ]
    }
   ],
   "source": [
    "print(to_yaml(a3))"
   ]
  },
  {
   "cell_type": "code",
   "execution_count": 8,
   "id": "1ab34616",
   "metadata": {
    "ExecuteTime": {
     "end_time": "2021-08-13T11:36:59.992514Z",
     "start_time": "2021-08-13T11:36:59.979794Z"
    }
   },
   "outputs": [],
   "source": [
    "o1 = ObjDict(a1)\n",
    "o2 = ObjDict(a2)\n",
    "o3 = ObjDict(a3)"
   ]
  },
  {
   "cell_type": "code",
   "execution_count": 9,
   "id": "86c1cdd4",
   "metadata": {
    "ExecuteTime": {
     "end_time": "2021-08-13T11:37:01.059002Z",
     "start_time": "2021-08-13T11:37:01.043701Z"
    }
   },
   "outputs": [
    {
     "name": "stdout",
     "output_type": "stream",
     "text": [
      "a: 5\n",
      "b: 6\n",
      "\n",
      "a: 5\n",
      "b: 6\n",
      "c:\n",
      "  a: 5\n",
      "  b: 6\n",
      "\n",
      "a: 5\n",
      "b: 6\n",
      "c:\n",
      "  a: 5\n",
      "  b: 6\n",
      "  c:\n",
      "    a: 5\n",
      "    b: 6\n",
      "\n"
     ]
    }
   ],
   "source": [
    "print(to_yaml(o1))\n",
    "print(to_yaml(o2))\n",
    "print(to_yaml(o3))"
   ]
  },
  {
   "cell_type": "code",
   "execution_count": 10,
   "id": "70fb2216",
   "metadata": {
    "ExecuteTime": {
     "end_time": "2021-08-13T11:37:01.832011Z",
     "start_time": "2021-08-13T11:37:01.819720Z"
    }
   },
   "outputs": [
    {
     "name": "stdout",
     "output_type": "stream",
     "text": [
      "5\n"
     ]
    }
   ],
   "source": [
    "print(o2.c.a)"
   ]
  },
  {
   "cell_type": "code",
   "execution_count": 11,
   "id": "d87f1621",
   "metadata": {
    "ExecuteTime": {
     "end_time": "2021-08-13T11:37:41.555814Z",
     "start_time": "2021-08-13T11:37:41.544107Z"
    }
   },
   "outputs": [],
   "source": [
    "x3 = ObjDict(o3)"
   ]
  },
  {
   "cell_type": "code",
   "execution_count": 12,
   "id": "f7a09061",
   "metadata": {
    "ExecuteTime": {
     "end_time": "2021-08-13T11:37:46.481433Z",
     "start_time": "2021-08-13T11:37:46.470216Z"
    }
   },
   "outputs": [
    {
     "name": "stdout",
     "output_type": "stream",
     "text": [
      "{'a': 5, 'b': 6, 'c': {'a': 5, 'b': 6, 'c': {'a': 5, 'b': 6}}}\n"
     ]
    }
   ],
   "source": [
    "print(x3)"
   ]
  },
  {
   "cell_type": "code",
   "execution_count": 15,
   "id": "15c06bce",
   "metadata": {
    "ExecuteTime": {
     "end_time": "2021-08-13T11:38:17.988580Z",
     "start_time": "2021-08-13T11:38:17.974622Z"
    }
   },
   "outputs": [
    {
     "name": "stdout",
     "output_type": "stream",
     "text": [
      "{'a': 5, 'b': 6}\n"
     ]
    }
   ],
   "source": [
    "print(x3.c.c)"
   ]
  },
  {
   "cell_type": "code",
   "execution_count": null,
   "id": "825a5a17",
   "metadata": {},
   "outputs": [],
   "source": []
  }
 ],
 "metadata": {
  "kernelspec": {
   "display_name": "Python 3 (ipykernel)",
   "language": "python",
   "name": "python3"
  },
  "language_info": {
   "codemirror_mode": {
    "name": "ipython",
    "version": 3
   },
   "file_extension": ".py",
   "mimetype": "text/x-python",
   "name": "python",
   "nbconvert_exporter": "python",
   "pygments_lexer": "ipython3",
   "version": "3.8.10"
  },
  "toc": {
   "base_numbering": 1,
   "nav_menu": {},
   "number_sections": true,
   "sideBar": true,
   "skip_h1_title": false,
   "title_cell": "Table of Contents",
   "title_sidebar": "Contents",
   "toc_cell": false,
   "toc_position": {},
   "toc_section_display": true,
   "toc_window_display": false
  },
  "varInspector": {
   "cols": {
    "lenName": 16,
    "lenType": 16,
    "lenVar": 40
   },
   "kernels_config": {
    "python": {
     "delete_cmd_postfix": "",
     "delete_cmd_prefix": "del ",
     "library": "var_list.py",
     "varRefreshCmd": "print(var_dic_list())"
    },
    "r": {
     "delete_cmd_postfix": ") ",
     "delete_cmd_prefix": "rm(",
     "library": "var_list.r",
     "varRefreshCmd": "cat(var_dic_list()) "
    }
   },
   "types_to_exclude": [
    "module",
    "function",
    "builtin_function_or_method",
    "instance",
    "_Feature"
   ],
   "window_display": false
  }
 },
 "nbformat": 4,
 "nbformat_minor": 5
}
