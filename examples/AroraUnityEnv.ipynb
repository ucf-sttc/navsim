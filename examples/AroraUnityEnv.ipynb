{
 "cells": [
  {
   "cell_type": "code",
   "execution_count": 2,
   "id": "94f1204b",
   "metadata": {
    "ExecuteTime": {
     "end_time": "2021-11-18T14:12:00.341266Z",
     "start_time": "2021-11-18T14:12:00.320447Z"
    }
   },
   "outputs": [],
   "source": [
    "%reload_ext autoreload\n",
    "%autoreload 2\n",
    "\n",
    "import navsim_envs\n",
    "import gym\n",
    "import matplotlib.pyplot as plt\n",
    "import numpy as np\n",
    "import copy\n",
    "import yaml"
   ]
  },
  {
   "cell_type": "code",
   "execution_count": 4,
   "id": "3c2ec398",
   "metadata": {
    "ExecuteTime": {
     "end_time": "2021-11-18T14:12:25.313352Z",
     "start_time": "2021-11-18T14:12:25.295212Z"
    }
   },
   "outputs": [],
   "source": [
    "env_config = navsim_envs.arora.default_env_config.copy()\n",
    "env_config[\"env_path\"]=\"/data/work/unity-envs/Build2.10.13/Berlin_Walk_V2\""
   ]
  },
  {
   "cell_type": "code",
   "execution_count": 5,
   "id": "9983be96",
   "metadata": {
    "ExecuteTime": {
     "end_time": "2021-11-18T14:12:29.368149Z",
     "start_time": "2021-11-18T14:12:29.346807Z"
    }
   },
   "outputs": [
    {
     "name": "stdout",
     "output_type": "stream",
     "text": [
      "agent_car_physics: 0\n",
      "area: 0\n",
      "base_port: 5004\n",
      "debug: false\n",
      "env_gpu_id: 0\n",
      "env_path: /data/work/unity-envs/Build2.10.13/Berlin_Walk_V2\n",
      "episode_max_steps: 1000\n",
      "goal: 0\n",
      "goal_clearance: 2.5\n",
      "goal_distance: 50\n",
      "log_folder: ./env_log\n",
      "obs_height: 64\n",
      "obs_mode: 0\n",
      "obs_width: 64\n",
      "relative_steering: true\n",
      "reward_collision_mul: 4\n",
      "reward_for_goal: 50\n",
      "reward_for_no_viable_path: -50\n",
      "reward_spl_delta_mul: 1\n",
      "reward_step_mul: 0.1\n",
      "save_actions: true\n",
      "save_vector_obs: true\n",
      "save_visual_obs: true\n",
      "seed: null\n",
      "segmentation_mode: 1\n",
      "show_visual: false\n",
      "start_from_episode: 1\n",
      "task: 0\n",
      "timeout: 600\n",
      "traffic_vehicles: 0\n",
      "worker_id: 0\n",
      "\n"
     ]
    }
   ],
   "source": [
    "print(yaml.dump(env_config))"
   ]
  },
  {
   "cell_type": "code",
   "execution_count": 7,
   "id": "53de9e07",
   "metadata": {
    "ExecuteTime": {
     "end_time": "2021-11-18T14:13:16.402552Z",
     "start_time": "2021-11-18T14:13:13.537280Z"
    }
   },
   "outputs": [
    {
     "name": "stdout",
     "output_type": "stream",
     "text": [
      "[INFO] Connected to Unity environment with package version 2.1.0-exp.1 and communication version 1.5.0\n"
     ]
    }
   ],
   "source": [
    "uenv = navsim_envs.arora.AroraUnityEnv(env_config)"
   ]
  },
  {
   "cell_type": "code",
   "execution_count": 8,
   "id": "005ea667",
   "metadata": {
    "ExecuteTime": {
     "end_time": "2021-11-18T14:13:20.731777Z",
     "start_time": "2021-11-18T14:13:17.721140Z"
    }
   },
   "outputs": [
    {
     "name": "stdout",
     "output_type": "stream",
     "text": [
      "[INFO] Connected new brain: VectorNavigator?team=0\n"
     ]
    }
   ],
   "source": [
    "uenv.reset()"
   ]
  },
  {
   "cell_type": "code",
   "execution_count": 9,
   "id": "d18dc1b8",
   "metadata": {
    "ExecuteTime": {
     "end_time": "2021-11-18T14:13:23.758569Z",
     "start_time": "2021-11-18T14:13:20.769861Z"
    }
   },
   "outputs": [],
   "source": [
    "uenv.close()"
   ]
  },
  {
   "cell_type": "code",
   "execution_count": null,
   "id": "95de26b1",
   "metadata": {},
   "outputs": [],
   "source": []
  }
 ],
 "metadata": {
  "kernelspec": {
   "display_name": "Python 3 (ipykernel)",
   "language": "python",
   "name": "python3"
  },
  "language_info": {
   "codemirror_mode": {
    "name": "ipython",
    "version": 3
   },
   "file_extension": ".py",
   "mimetype": "text/x-python",
   "name": "python",
   "nbconvert_exporter": "python",
   "pygments_lexer": "ipython3",
   "version": "3.8.10"
  },
  "toc": {
   "base_numbering": 1,
   "nav_menu": {},
   "number_sections": true,
   "sideBar": true,
   "skip_h1_title": false,
   "title_cell": "Table of Contents",
   "title_sidebar": "Contents",
   "toc_cell": false,
   "toc_position": {},
   "toc_section_display": true,
   "toc_window_display": false
  },
  "varInspector": {
   "cols": {
    "lenName": 16,
    "lenType": 16,
    "lenVar": 40
   },
   "kernels_config": {
    "python": {
     "delete_cmd_postfix": "",
     "delete_cmd_prefix": "del ",
     "library": "var_list.py",
     "varRefreshCmd": "print(var_dic_list())"
    },
    "r": {
     "delete_cmd_postfix": ") ",
     "delete_cmd_prefix": "rm(",
     "library": "var_list.r",
     "varRefreshCmd": "cat(var_dic_list()) "
    }
   },
   "types_to_exclude": [
    "module",
    "function",
    "builtin_function_or_method",
    "instance",
    "_Feature"
   ],
   "window_display": false
  }
 },
 "nbformat": 4,
 "nbformat_minor": 5
}
