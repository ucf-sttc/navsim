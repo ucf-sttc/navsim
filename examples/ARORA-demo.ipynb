{
 "cells": [
  {
   "cell_type": "markdown",
   "id": "ddb5027c",
   "metadata": {},
   "source": [
    "# Demo and test of ARORA environments"
   ]
  },
  {
   "cell_type": "code",
   "execution_count": null,
   "id": "9555dded",
   "metadata": {
    "ExecuteTime": {
     "end_time": "2022-03-31T16:28:22.905718Z",
     "start_time": "2022-03-31T16:28:22.878836Z"
    }
   },
   "outputs": [],
   "source": [
    "%reload_ext autoreload\n",
    "%autoreload 2\n",
    "\n",
    "#from navsim_envs import arora as navenv\n",
    "from navsim_envs.arora import default_env_config\n",
    "from navsim_envs.arora import AroraUnityEnv as UnityEnv\n",
    "from navsim_envs.arora import AroraGymEnv as GymEnv\n",
    "import gym\n",
    "import matplotlib.pyplot as plt\n",
    "from ezai.env import env_info\n",
    "import numpy as np\n",
    "import copy\n",
    "import yaml"
   ]
  },
  {
   "cell_type": "code",
   "execution_count": null,
   "id": "e67993a7",
   "metadata": {
    "ExecuteTime": {
     "end_time": "2022-03-31T16:28:23.819691Z",
     "start_time": "2022-03-31T16:28:23.797247Z"
    }
   },
   "outputs": [],
   "source": [
    "env_config = default_env_config.copy()\n",
    "env_config[\"env_path\"]=\"/data/work/unity-envs/ARORA_2.10.15/ARORA\"\n",
    "env_config[\"seed\"]=123\n",
    "env_id = \"arora-v0\""
   ]
  },
  {
   "cell_type": "code",
   "execution_count": null,
   "id": "5f977d54",
   "metadata": {
    "ExecuteTime": {
     "end_time": "2022-03-31T16:28:31.046136Z",
     "start_time": "2022-03-31T16:28:31.020563Z"
    }
   },
   "outputs": [],
   "source": [
    "print(yaml.dump(env_config))"
   ]
  },
  {
   "cell_type": "markdown",
   "id": "c2d053d0",
   "metadata": {
    "ExecuteTime": {
     "end_time": "2022-01-16T13:59:02.546834Z",
     "start_time": "2022-01-16T13:59:02.524137Z"
    }
   },
   "source": [
    "# The UnityEnv"
   ]
  },
  {
   "cell_type": "code",
   "execution_count": null,
   "id": "9c32b9a8",
   "metadata": {
    "ExecuteTime": {
     "end_time": "2022-03-31T15:40:11.513717Z",
     "start_time": "2022-03-31T15:40:05.625567Z"
    }
   },
   "outputs": [],
   "source": [
    "uenv = UnityEnv(env_config)"
   ]
  },
  {
   "cell_type": "code",
   "execution_count": null,
   "id": "7d25b017",
   "metadata": {
    "ExecuteTime": {
     "end_time": "2022-03-31T15:40:12.579159Z",
     "start_time": "2022-03-31T15:40:11.563707Z"
    }
   },
   "outputs": [],
   "source": [
    "uenv.reset()"
   ]
  },
  {
   "cell_type": "code",
   "execution_count": null,
   "id": "a6ea8f3c",
   "metadata": {
    "ExecuteTime": {
     "end_time": "2022-03-31T15:40:49.785063Z",
     "start_time": "2022-03-31T15:40:49.768422Z"
    }
   },
   "outputs": [],
   "source": [
    "print(uenv.unity_max_x,uenv.unity_max_z)"
   ]
  },
  {
   "cell_type": "code",
   "execution_count": null,
   "id": "bc17e826",
   "metadata": {
    "ExecuteTime": {
     "end_time": "2022-03-31T15:40:50.164196Z",
     "start_time": "2022-03-31T15:40:50.148448Z"
    }
   },
   "outputs": [],
   "source": [
    "print(uenv.navmap_max_x,uenv.navmap_max_y)"
   ]
  },
  {
   "cell_type": "code",
   "execution_count": null,
   "id": "fbf6ebc3",
   "metadata": {
    "ExecuteTime": {
     "end_time": "2022-03-31T15:40:51.221404Z",
     "start_time": "2022-03-31T15:40:50.684368Z"
    }
   },
   "outputs": [],
   "source": [
    "uenv.close()"
   ]
  },
  {
   "cell_type": "markdown",
   "id": "75de9539",
   "metadata": {},
   "source": [
    "# The GymEnv"
   ]
  },
  {
   "cell_type": "code",
   "execution_count": null,
   "id": "ad48d09b",
   "metadata": {
    "ExecuteTime": {
     "end_time": "2022-03-31T16:28:54.224937Z",
     "start_time": "2022-03-31T16:28:36.170125Z"
    }
   },
   "outputs": [],
   "source": [
    "# look at all observation modes\n",
    "for i in UnityEnv.observation_modes:\n",
    "    env_config[\"obs_mode\"]=i\n",
    "    env = gym.make(env_id, env_config=env_config) # ride.RideGymEnv(env_config)\n",
    "    print('Observation Mode {}'.format(env_config[\"obs_mode\"]))\n",
    "    env_info(env)\n",
    "    env.close()\n",
    "    del env"
   ]
  },
  {
   "cell_type": "code",
   "execution_count": null,
   "id": "93d8c6f7",
   "metadata": {
    "ExecuteTime": {
     "end_time": "2022-03-18T12:27:05.453363Z",
     "start_time": "2022-03-18T12:26:57.988857Z"
    }
   },
   "outputs": [],
   "source": [
    "# test for 5 steps forward and 5 steps back \n",
    "env_config[\"obs_mode\"]=0\n",
    "env = gym.make(env_id, env_config=env_config)\n",
    "\n",
    "steps = 5\n",
    "print(env.reset())\n",
    "print(\"Forward:\")\n",
    "for i in range(steps):\n",
    "    print(env.step(UnityEnv.actions[\"forward\"])[0])\n",
    "print(\"Backward:\")\n",
    "for i in range(steps):\n",
    "    print(env.step(UnityEnv.actions[\"forward\"])[0])\n",
    "env.close()\n",
    "del env"
   ]
  },
  {
   "cell_type": "code",
   "execution_count": null,
   "id": "fc502d99",
   "metadata": {},
   "outputs": [],
   "source": []
  },
  {
   "cell_type": "markdown",
   "id": "a58e5f1a",
   "metadata": {},
   "source": [
    "# Pending bugs"
   ]
  },
  {
   "cell_type": "code",
   "execution_count": null,
   "id": "2e450f79",
   "metadata": {},
   "outputs": [],
   "source": [
    "# open uenv, run genv, then close uenv "
   ]
  }
 ],
 "metadata": {
  "kernelspec": {
   "display_name": "Python 3 (ipykernel)",
   "language": "python",
   "name": "python3"
  },
  "language_info": {
   "codemirror_mode": {
    "name": "ipython",
    "version": 3
   },
   "file_extension": ".py",
   "mimetype": "text/x-python",
   "name": "python",
   "nbconvert_exporter": "python",
   "pygments_lexer": "ipython3",
   "version": "3.8.12"
  },
  "toc": {
   "base_numbering": 1,
   "nav_menu": {},
   "number_sections": true,
   "sideBar": true,
   "skip_h1_title": false,
   "title_cell": "Table of Contents",
   "title_sidebar": "Contents",
   "toc_cell": false,
   "toc_position": {},
   "toc_section_display": true,
   "toc_window_display": false
  },
  "varInspector": {
   "cols": {
    "lenName": 16,
    "lenType": 16,
    "lenVar": 40
   },
   "kernels_config": {
    "python": {
     "delete_cmd_postfix": "",
     "delete_cmd_prefix": "del ",
     "library": "var_list.py",
     "varRefreshCmd": "print(var_dic_list())"
    },
    "r": {
     "delete_cmd_postfix": ") ",
     "delete_cmd_prefix": "rm(",
     "library": "var_list.r",
     "varRefreshCmd": "cat(var_dic_list()) "
    }
   },
   "types_to_exclude": [
    "module",
    "function",
    "builtin_function_or_method",
    "instance",
    "_Feature"
   ],
   "window_display": false
  }
 },
 "nbformat": 4,
 "nbformat_minor": 5
}
